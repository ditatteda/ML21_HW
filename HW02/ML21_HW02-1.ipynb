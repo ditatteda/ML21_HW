{
 "cells": [
  {
   "cell_type": "markdown",
   "metadata": {},
   "source": [
    "<a href=\"https://colab.research.google.com/github/ditatteda/ML21_HW/blob/ditatteda_branch/HW02/ML21_HW02-1.ipynb\" target=\"_parent\"><img src=\"https://colab.research.google.com/assets/colab-badge.svg\" alt=\"Open In Colab\"/></a>"
   ]
  },
  {
   "cell_type": "markdown",
   "metadata": {},
   "source": [
    "# **Phoneme Classification**"
   ]
  },
  {
   "cell_type": "markdown",
   "metadata": {},
   "source": [
    "## Import Packages"
   ]
  },
  {
   "cell_type": "code",
   "execution_count": 38,
   "metadata": {},
   "outputs": [],
   "source": [
    "import numpy as np\n",
    "import torch\n",
    "import torch.nn as nn\n",
    "from torch.utils.data import Dataset, DataLoader\n",
    "import gc   # collect unused data to save memory\n",
    "import matplotlib.pyplot as plt\n",
    "from matplotlib.pyplot import figure"
   ]
  },
  {
   "cell_type": "markdown",
   "metadata": {},
   "source": [
    "## Download Data\n",
    "Download data from google drive, then unzip it.\n",
    "\n",
    "You should have `timit_11/train_11.npy`, `timit_11/train_label_11.npy`, and `timit_11/test_11.npy` after running this block.<br><br>\n",
    "`timit_11/`\n",
    "- `train_11.npy`: training data<br>\n",
    "- `train_label_11.npy`: training label<br>\n",
    "- `test_11.npy`:  testing data<br><br>\n",
    "\n",
    "**notes: if the google drive link is dead, you can download the data directly from Kaggle and upload it to the workspace**\n"
   ]
  },
  {
   "cell_type": "code",
   "execution_count": null,
   "metadata": {},
   "outputs": [],
   "source": [
    "!gdown --id '1HPkcmQmFGu-3OknddKIa5dNDsR05lIQR' --output data.zip\n",
    "!unzip data.zip\n",
    "!ls"
   ]
  },
  {
   "cell_type": "markdown",
   "metadata": {},
   "source": [
    "## Preparing Data"
   ]
  },
  {
   "cell_type": "code",
   "execution_count": 22,
   "metadata": {},
   "outputs": [
    {
     "name": "stdout",
     "output_type": "stream",
     "text": [
      "loading data ...\n",
      "size of training data: (1229932, 429)\n",
      "size of testing data: (451552, 429)\n"
     ]
    }
   ],
   "source": [
    "print(\"loading data ...\")\n",
    "\n",
    "data_root = \"./timit_11/\"\n",
    "train = np.load(data_root + \"train_11.npy\")\n",
    "train_label = np.load(data_root + \"train_label_11.npy\")\n",
    "test = np.load(data_root + \"test_11.npy\")\n",
    "\n",
    "# data:\n",
    "#   row = number of frames, each frame with 25ms wide of sound wave\n",
    "#   column = 11 frames (5-previous frames + target frame + 5-later frames)\n",
    "#            x 39 acoustic features (MFCC) of each frame\n",
    "print(f\"size of training data: {train.shape}\")\n",
    "print(f\"size of testing data: {test.shape}\")"
   ]
  },
  {
   "cell_type": "markdown",
   "metadata": {},
   "source": [
    "## Dataset and DataLoader"
   ]
  },
  {
   "cell_type": "code",
   "execution_count": 23,
   "metadata": {},
   "outputs": [],
   "source": [
    "# dataset\n",
    "class Dataset_TIMIT(Dataset):\n",
    "    def __init__(self, x, y=None):\n",
    "        self.data = torch.from_numpy(x).float()\n",
    "        if y is not None:\n",
    "            y = y.astype(int)\n",
    "            self.label = torch.LongTensor(y) # 64-bit integer\n",
    "        else:\n",
    "            self.label = None\n",
    "    \n",
    "    def __getitem__(self, idx): \n",
    "        if self.label is not None:\n",
    "            return self.data[idx], self.label[idx]\n",
    "        else:\n",
    "            return self.data[idx]\n",
    "    \n",
    "    def __len__(self):\n",
    "        return len(self.data)"
   ]
  },
  {
   "cell_type": "code",
   "execution_count": 24,
   "metadata": {},
   "outputs": [],
   "source": [
    "BATCH_SIZE = 512\n",
    "VAL_RATIO = 0.2 # ratio to split training set into training and validating\n",
    "\n",
    "splitIdx = int(train.shape[0] * (1 - VAL_RATIO))\n",
    "train_set = Dataset_TIMIT(train[:splitIdx], train_label[:splitIdx])\n",
    "valid_set = Dataset_TIMIT(train[splitIdx:], train_label[splitIdx:])\n",
    "test_set = Dataset_TIMIT(test)\n",
    "\n",
    "# dataloader\n",
    "train_loader = DataLoader(\n",
    "    train_set,\n",
    "    batch_size=BATCH_SIZE,\n",
    "    num_workers=0,\n",
    "    shuffle=True\n",
    ")\n",
    "valid_loader = DataLoader(\n",
    "    valid_set,\n",
    "    batch_size=BATCH_SIZE,\n",
    "    num_workers=0,\n",
    "    shuffle=False\n",
    ")\n",
    "test_loader = DataLoader(\n",
    "    test_set,\n",
    "    batch_size=BATCH_SIZE,\n",
    "    shuffle=False\n",
    ")"
   ]
  },
  {
   "cell_type": "code",
   "execution_count": 25,
   "metadata": {},
   "outputs": [
    {
     "data": {
      "text/plain": [
       "33"
      ]
     },
     "execution_count": 25,
     "metadata": {},
     "output_type": "execute_result"
    }
   ],
   "source": [
    "# collect garbage\n",
    "del train, train_label, test\n",
    "gc.collect()"
   ]
  },
  {
   "cell_type": "markdown",
   "metadata": {},
   "source": [
    "## Model"
   ]
  },
  {
   "cell_type": "code",
   "execution_count": 31,
   "metadata": {},
   "outputs": [],
   "source": [
    "class Phoneme_Classifier(nn.Module):\n",
    "    def __init__(self, features_cnt, outputs_cnt):\n",
    "        super().__init__()\n",
    "        self.dnn_layers = nn.Sequential(\n",
    "            nn.Linear(features_cnt, 1024),\n",
    "            nn.ReLU(),\n",
    "            nn.Linear(1024, 1024),\n",
    "            nn.ReLU(),\n",
    "            nn.Linear(1024, 512),\n",
    "            nn.Sigmoid(),\n",
    "            nn.Linear(512, 128),\n",
    "            nn.Sigmoid(),\n",
    "            nn.Linear(128, outputs_cnt)\n",
    "        )\n",
    "\n",
    "    def forward(self, x):\n",
    "        return self.dnn_layers(x)"
   ]
  },
  {
   "cell_type": "markdown",
   "metadata": {},
   "source": [
    "## Pre-Training"
   ]
  },
  {
   "cell_type": "markdown",
   "metadata": {},
   "source": [
    "* Device, Random Seed, Model\n",
    "* Loss Function & Optimizer\n",
    "* Training Function & Validating Function"
   ]
  },
  {
   "cell_type": "code",
   "execution_count": 32,
   "metadata": {},
   "outputs": [
    {
     "name": "stdout",
     "output_type": "stream",
     "text": [
      "device=mps\n",
      "Phoneme_Classifier(\n",
      "  (dnn_layers): Sequential(\n",
      "    (0): Linear(in_features=429, out_features=1024, bias=True)\n",
      "    (1): ReLU()\n",
      "    (2): Linear(in_features=1024, out_features=1024, bias=True)\n",
      "    (3): ReLU()\n",
      "    (4): Linear(in_features=1024, out_features=512, bias=True)\n",
      "    (5): Sigmoid()\n",
      "    (6): Linear(in_features=512, out_features=128, bias=True)\n",
      "    (7): Sigmoid()\n",
      "    (8): Linear(in_features=128, out_features=39, bias=True)\n",
      "  )\n",
      ")\n"
     ]
    }
   ],
   "source": [
    "device = (\n",
    "    \"cuda\"\n",
    "    if torch.cuda.is_available()\n",
    "    else \"mps\"\n",
    "    if torch.backends.mps.is_available()\n",
    "    else \"cpu\"\n",
    ")\n",
    "\n",
    "seed = 0\n",
    "np.random.seed(seed)\n",
    "torch.backends.cudnn.benchmark = False\n",
    "torch.backends.cudnn.deterministic = True\n",
    "# remark: is there a mps version of above setting?\n",
    "torch.manual_seed(seed)\n",
    "if device == \"cuda\":\n",
    "    torch.cuda.manual_seed_all(seed)    # in doc: call torch.manual_seed(seed) is enough\n",
    "elif device == \"mps\":\n",
    "    torch.mps.manual_seed(seed) # not mentioned in doc\n",
    "\n",
    "# model check point (path to save the best model)\n",
    "model_path = \"./model.ckpt\"\n",
    "\n",
    "# 429 features, 39 outputs (MFCC)\n",
    "model = Phoneme_Classifier(429, 39).to(device)\n",
    "\n",
    "print(f\"device={device}\")\n",
    "print(model)"
   ]
  },
  {
   "cell_type": "code",
   "execution_count": 33,
   "metadata": {},
   "outputs": [],
   "source": [
    "loss_fn = nn.CrossEntropyLoss()\n",
    "optimizer = torch.optim.Adam(model.parameters(), lr=1e-4)"
   ]
  },
  {
   "cell_type": "code",
   "execution_count": 34,
   "metadata": {},
   "outputs": [],
   "source": [
    "def do_train(device, model, data_loader, loss_fn, optimizer):\n",
    "    '''return : accuracy of predictions, average loss'''\n",
    "    train_acc_cnt = 0\n",
    "    train_total_loss = 0\n",
    "\n",
    "    model.train()\n",
    "    for i, (x, y) in enumerate(data_loader):\n",
    "        x, y = x.to(device), y.to(device)\n",
    "        optimizer.zero_grad()\n",
    "        outputs = model(x)\n",
    "        batch_loss = loss_fn(outputs, y)\n",
    "        _, train_preds = torch.max(outputs, 1) # get the index of the class with the highest probability\n",
    "        batch_loss.backward()   # compute gradient\n",
    "        optimizer.step()        # update parameters in model\n",
    "\n",
    "        train_acc_cnt += (train_preds.cpu() == y.cpu()).sum().item()\n",
    "        train_total_loss += batch_loss.item()\n",
    "\n",
    "    num_iterables = len(data_loader)\n",
    "    train_acc = train_acc_cnt / (num_iterables * data_loader.batch_size)\n",
    "    train_loss = train_total_loss / num_iterables\n",
    "\n",
    "    return train_acc, train_loss\n",
    "\n",
    "def do_valid(device, model, data_loader, loss_fn):\n",
    "    \"\"\"return : accuracy of predictions, average loss\"\"\"\n",
    "    valid_acc_cnt = 0\n",
    "    valid_total_loss = 0\n",
    "\n",
    "    model.eval()\n",
    "    with torch.no_grad():\n",
    "        for i, (x, y) in enumerate(data_loader):\n",
    "            x, y = x.to(device), y.to(device)\n",
    "            outputs = model(x)\n",
    "            batch_loss = loss_fn(outputs, y)\n",
    "            _, valid_preds = torch.max(outputs, 1)\n",
    "\n",
    "            valid_acc_cnt += (valid_preds.cpu() == y.cpu()).sum().item()\n",
    "            valid_total_loss += batch_loss.item()\n",
    "\n",
    "    num_iterables = len(data_loader)\n",
    "    valid_acc = valid_acc_cnt / (num_iterables * data_loader.batch_size)\n",
    "    valid_loss = valid_total_loss / num_iterables\n",
    "    \n",
    "    return valid_acc, valid_loss"
   ]
  },
  {
   "cell_type": "markdown",
   "metadata": {},
   "source": [
    "## Start Training"
   ]
  },
  {
   "cell_type": "code",
   "execution_count": 35,
   "metadata": {},
   "outputs": [
    {
     "name": "stdout",
     "output_type": "stream",
     "text": [
      "[001/025] Train Acc: 0.441115 Loss: 2.042159 | Val Acc: 0.560283 Loss: 1.517905\n",
      "saving model with acc 0.560\n",
      "[002/025] Train Acc: 0.595645 Loss: 1.376620 | Val Acc: 0.631253 Loss: 1.240182\n",
      "saving model with acc 0.631\n",
      "[003/025] Train Acc: 0.646788 Loss: 1.179736 | Val Acc: 0.663238 Loss: 1.122073\n",
      "saving model with acc 0.663\n",
      "[004/025] Train Acc: 0.676700 Loss: 1.066020 | Val Acc: 0.677405 Loss: 1.051751\n",
      "saving model with acc 0.677\n",
      "[005/025] Train Acc: 0.697373 Loss: 0.986284 | Val Acc: 0.686733 Loss: 1.005569\n",
      "saving model with acc 0.687\n",
      "[006/025] Train Acc: 0.713247 Loss: 0.925386 | Val Acc: 0.695848 Loss: 0.972458\n",
      "saving model with acc 0.696\n",
      "[007/025] Train Acc: 0.726573 Loss: 0.875644 | Val Acc: 0.700867 Loss: 0.951729\n",
      "saving model with acc 0.701\n",
      "[008/025] Train Acc: 0.738033 Loss: 0.833488 | Val Acc: 0.705013 Loss: 0.931477\n",
      "saving model with acc 0.705\n",
      "[009/025] Train Acc: 0.748036 Loss: 0.796309 | Val Acc: 0.705383 Loss: 0.929254\n",
      "saving model with acc 0.705\n",
      "[010/025] Train Acc: 0.757526 Loss: 0.762395 | Val Acc: 0.709707 Loss: 0.913619\n",
      "saving model with acc 0.710\n",
      "[011/025] Train Acc: 0.766793 Loss: 0.731694 | Val Acc: 0.708258 Loss: 0.917181\n",
      "[012/025] Train Acc: 0.774868 Loss: 0.702873 | Val Acc: 0.710726 Loss: 0.909774\n",
      "saving model with acc 0.711\n",
      "[013/025] Train Acc: 0.783069 Loss: 0.675441 | Val Acc: 0.709768 Loss: 0.913941\n",
      "[014/025] Train Acc: 0.790892 Loss: 0.649782 | Val Acc: 0.710633 Loss: 0.915600\n",
      "[015/025] Train Acc: 0.798829 Loss: 0.624637 | Val Acc: 0.711518 Loss: 0.919416\n",
      "saving model with acc 0.712\n",
      "[016/025] Train Acc: 0.805590 Loss: 0.600948 | Val Acc: 0.710511 Loss: 0.928743\n",
      "[017/025] Train Acc: 0.813021 Loss: 0.577325 | Val Acc: 0.707324 Loss: 0.932891\n",
      "[018/025] Train Acc: 0.819812 Loss: 0.555147 | Val Acc: 0.709033 Loss: 0.936165\n",
      "[019/025] Train Acc: 0.827102 Loss: 0.533157 | Val Acc: 0.707271 Loss: 0.958196\n",
      "[020/025] Train Acc: 0.833769 Loss: 0.512558 | Val Acc: 0.708562 Loss: 0.958805\n",
      "[021/025] Train Acc: 0.840233 Loss: 0.491972 | Val Acc: 0.708392 Loss: 0.965819\n",
      "[022/025] Train Acc: 0.846228 Loss: 0.472381 | Val Acc: 0.706816 Loss: 0.987016\n",
      "[023/025] Train Acc: 0.852552 Loss: 0.452405 | Val Acc: 0.706244 Loss: 0.996276\n",
      "[024/025] Train Acc: 0.858893 Loss: 0.433862 | Val Acc: 0.705350 Loss: 1.017534\n",
      "[025/025] Train Acc: 0.864730 Loss: 0.415868 | Val Acc: 0.700815 Loss: 1.040015\n",
      "Training Finished\n"
     ]
    }
   ],
   "source": [
    "# record the best model\n",
    "best_acc = 0.\n",
    "\n",
    "num_epoch = 25\n",
    "\n",
    "model_loss_records = { \"train\": [], \"valid\": []}\n",
    "\n",
    "# training and validating\n",
    "for epoch in range(num_epoch):\n",
    "\n",
    "    train_acc, train_loss = do_train(device, model, train_loader, loss_fn, optimizer)\n",
    "    valid_acc, valid_loss = do_valid(device, model, valid_loader, loss_fn)\n",
    "\n",
    "    print(\"[{:03d}/{:03d}] Train Acc: {:3.6f} Loss: {:3.6f} | Val Acc: {:3.6f} Loss: {:3.6f}\".format(\n",
    "        epoch + 1, num_epoch, train_acc, train_loss, valid_acc, valid_loss\n",
    "    ))\n",
    "\n",
    "    model_loss_records[\"train\"].append(train_loss)\n",
    "    model_loss_records[\"valid\"].append(valid_loss)\n",
    "\n",
    "    if valid_acc > best_acc:\n",
    "        best_acc = valid_acc\n",
    "        torch.save(model.state_dict(), model_path)\n",
    "        print(\"saving model with acc {:.3f}\".format(best_acc))\n",
    "\n",
    "print(\"Training Finished\")"
   ]
  },
  {
   "cell_type": "markdown",
   "metadata": {},
   "source": [
    "## Plotting\n",
    "* Training Loss vs Validating Loss of each epoch"
   ]
  },
  {
   "cell_type": "code",
   "execution_count": 39,
   "metadata": {},
   "outputs": [],
   "source": [
    "def plot_learning_curve(model_loss_record, title=\"\"):\n",
    "    x_1 = range(len(model_loss_record[\"train\"]))\n",
    "    x_2 = x_1[::len(model_loss_record[\"train\"]) // len(model_loss_record[\"valid\"])]\n",
    "    figure(figsize=(6, 4))\n",
    "    plt.plot(x_1, model_loss_record[\"train\"], c=\"tab:red\", label=\"train\")\n",
    "    plt.plot(x_2, model_loss_record[\"valid\"], c=\"tab:cyan\", label=\"valid\")\n",
    "    plt.ylim(0.0, 5.0)\n",
    "    plt.xlabel(\"epoch\")\n",
    "    plt.ylabel(\"loss (cross entropy)\")\n",
    "    plt.title(\"learning curve of {}\".format(title))\n",
    "    plt.legend()\n",
    "    plt.show()"
   ]
  },
  {
   "cell_type": "code",
   "execution_count": 40,
   "metadata": {},
   "outputs": [
    {
     "data": {
      "image/png": "[encoded data removed]",
      "text/plain": [
       "<Figure size 600x400 with 1 Axes>"
      ]
     },
     "metadata": {},
     "output_type": "display_data"
    }
   ],
   "source": [
    "plot_learning_curve(model_loss_records, \"DNN\")"
   ]
  },
  {
   "cell_type": "markdown",
   "metadata": {},
   "source": [
    "## Testing"
   ]
  },
  {
   "cell_type": "code",
   "execution_count": 41,
   "metadata": {},
   "outputs": [
    {
     "data": {
      "text/plain": [
       "<All keys matched successfully>"
      ]
     },
     "execution_count": 41,
     "metadata": {},
     "output_type": "execute_result"
    }
   ],
   "source": [
    "model = Phoneme_Classifier(429, 39).to(device)\n",
    "model.load_state_dict(torch.load(model_path))"
   ]
  },
  {
   "cell_type": "markdown",
   "metadata": {},
   "source": [
    "## Prediction"
   ]
  },
  {
   "cell_type": "code",
   "execution_count": 42,
   "metadata": {},
   "outputs": [],
   "source": [
    "predict = []\n",
    "model.eval()\n",
    "with torch.no_grad():\n",
    "    for i, data in enumerate(test_loader):\n",
    "        inputs = data\n",
    "        inputs = inputs.to(device)\n",
    "        outputs = model(inputs)\n",
    "        _, test_pred = torch.max(outputs, 1)\n",
    "\n",
    "        for y in test_pred.cpu().numpy():\n",
    "            predict.append(y)"
   ]
  },
  {
   "cell_type": "code",
   "execution_count": 43,
   "metadata": {},
   "outputs": [],
   "source": [
    "with open ('prediction.csv', 'w') as f:\n",
    "    f.write('Id,Class\\n')\n",
    "    for i, y in enumerate(predict):\n",
    "        f.write('{},{}\\n'.format(i, y))"
   ]
  },
  {
   "cell_type": "markdown",
   "metadata": {},
   "source": [
    "## Reference\n",
    "**This is a modification code from ML2021 HW2-1**\n",
    "* Source: https://speech.ee.ntu.edu.tw/~hylee/ml/2021-spring.php"
   ]
  }
 ],
 "metadata": {
  "kernelspec": {
   "display_name": "complexa_ML21_3a",
   "language": "python",
   "name": "python3"
  },
  "language_info": {
   "codemirror_mode": {
    "name": "ipython",
    "version": 3
   },
   "file_extension": ".py",
   "mimetype": "text/x-python",
   "name": "python",
   "nbconvert_exporter": "python",
   "pygments_lexer": "ipython3",
   "version": "3.10.13"
  },
  "orig_nbformat": 4
 },
 "nbformat": 4,
 "nbformat_minor": 2
}
