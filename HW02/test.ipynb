{
 "cells": [
  {
   "cell_type": "code",
   "execution_count": 22,
   "metadata": {},
   "outputs": [
    {
     "name": "stdout",
     "output_type": "stream",
     "text": [
      "<class 'numpy.ndarray'>\n",
      "(3,)\n",
      "1 2 3\n",
      "[5 2 3]\n",
      "(2, 4, 0)\n",
      "[]\n"
     ]
    }
   ],
   "source": [
    "import numpy as np\n",
    "\n",
    "a = np.array([1,2,3])\n",
    "print(type(a))\n",
    "print(a.shape)\n",
    "print(a[0], a[1], a[2])\n",
    "a[0] = 5\n",
    "print(a)\n",
    "\n",
    "b = np.array([[[],[],[],[]],[[],[],[],[]]])\n",
    "print(b.shape)\n",
    "print(b)"
   ]
  },
  {
   "cell_type": "markdown",
   "metadata": {},
   "source": []
  },
  {
   "cell_type": "code",
   "execution_count": 19,
   "metadata": {},
   "outputs": [
    {
     "name": "stdout",
     "output_type": "stream",
     "text": [
      "[[0. 0. 0.]\n",
      " [0. 0. 0.]]\n",
      "[[3.1 3.1]\n",
      " [3.1 3.1]]\n",
      "[[1. 0.]\n",
      " [0. 1.]]\n",
      "[[0.17947836 0.9488231 ]\n",
      " [0.73939777 0.44069042]]\n"
     ]
    }
   ],
   "source": [
    "a = np.zeros((2,3))\n",
    "print(a)\n",
    "\n",
    "b = np.full((2, 2), 3.1)\n",
    "print(b)\n",
    "\n",
    "c = np.eye(2)\n",
    "print(c)\n",
    "\n",
    "d = np.random.random((2,2))\n",
    "print(d)"
   ]
  },
  {
   "cell_type": "code",
   "execution_count": 31,
   "metadata": {},
   "outputs": [
    {
     "name": "stdout",
     "output_type": "stream",
     "text": [
      "hello world\n"
     ]
    }
   ],
   "source": [
    "h = 'hello'\n",
    "world = 'world'\n",
    "print('{} {}'.format(h,world))"
   ]
  },
  {
   "cell_type": "code",
   "execution_count": null,
   "metadata": {},
   "outputs": [],
   "source": [
    "a = np.array([[1,2,3], [4,5,6]])\n",
    "r1 = a[1, :]\n",
    "r2 = a[]"
   ]
  },
  {
   "cell_type": "code",
   "execution_count": 8,
   "metadata": {},
   "outputs": [
    {
     "name": "stdout",
     "output_type": "stream",
     "text": [
      "False\n"
     ]
    }
   ],
   "source": [
    "import torch\n",
    "\n",
    "a = torch.tensor([1.0, 2.0, 3.0], requires_grad=True)\n",
    "a = a.detach()\n",
    "print(a.requires_grad)"
   ]
  },
  {
   "cell_type": "code",
   "execution_count": 3,
   "metadata": {},
   "outputs": [
    {
     "name": "stdout",
     "output_type": "stream",
     "text": [
      "a=[1, 2, 3], test=[1, 2, 3], myclass=[1, 2, 3]\n",
      "a=[1, 2, 3, 1, 1, 1], test=[1, 2, 3], myclass=[1, 2, 3]\n",
      "a=[1, 2, 3, 1, 1, 1], test=[4, 5, 6], myclass=[1, 2, 3]\n"
     ]
    }
   ],
   "source": [
    "class myclass:\n",
    "    def __init__(self, aclass):\n",
    "        self.data = aclass.data\n",
    "\n",
    "class test:\n",
    "    def __init__(self, data):\n",
    "        self.data = data\n",
    "\n",
    "a = [1, 2, 3]\n",
    "t = test(a)\n",
    "mc = myclass(t)\n",
    "\n",
    "print(f\"a={a}, test={t.data}, myclass={mc.data}\")\n",
    "\n",
    "a = a + [1, 1, 1]\n",
    "\n",
    "print(f\"a={a}, test={t.data}, myclass={mc.data}\")\n",
    "\n",
    "t.data = [4, 5, 6]\n",
    "\n",
    "print(f\"a={a}, test={t.data}, myclass={mc.data}\")"
   ]
  },
  {
   "cell_type": "code",
   "execution_count": 8,
   "metadata": {},
   "outputs": [
    {
     "name": "stdout",
     "output_type": "stream",
     "text": [
      "[[1 2 3]\n",
      " [4 5 6]\n",
      " [7 8 9]]\n",
      "[[1 2 3]\n",
      " [4 5 6]]\n"
     ]
    }
   ],
   "source": [
    "import numpy as np\n",
    "\n",
    "A = np.array([[1,2,3], [4,5,6],[7,8,9]])\n",
    "\n",
    "a = A[:2]\n",
    "print(A)\n",
    "print(a)"
   ]
  },
  {
   "cell_type": "code",
   "execution_count": null,
   "metadata": {},
   "outputs": [],
   "source": [
    "%pip install "
   ]
  }
 ],
 "metadata": {
  "kernelspec": {
   "display_name": "complexa_ML21_3a",
   "language": "python",
   "name": "python3"
  },
  "language_info": {
   "codemirror_mode": {
    "name": "ipython",
    "version": 3
   },
   "file_extension": ".py",
   "mimetype": "text/x-python",
   "name": "python",
   "nbconvert_exporter": "python",
   "pygments_lexer": "ipython3",
   "version": "3.10.13"
  },
  "orig_nbformat": 4
 },
 "nbformat": 4,
 "nbformat_minor": 2
}
