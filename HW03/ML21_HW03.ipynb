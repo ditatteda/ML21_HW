{
 "cells": [
  {
   "cell_type": "markdown",
   "metadata": {},
   "source": [
    "# **Convolutional Neural Network**"
   ]
  },
  {
   "cell_type": "markdown",
   "metadata": {},
   "source": [
    "## **Download Data**"
   ]
  },
  {
   "cell_type": "code",
   "execution_count": null,
   "metadata": {},
   "outputs": [],
   "source": [
    "# Download the dataset\n",
    "# You may choose where to download the data.\n",
    "\n",
    "# Google Drive\n",
    "!gdown --id '1awF7pZ9Dz7X1jn1_QAiKN-_v56veCEKy' --output food-11.zip\n",
    "\n",
    "# Dropbox\n",
    "# !wget https://www.dropbox.com/s/m9q6273jl3djall/food-11.zip -O food-11.zip\n",
    "\n",
    "# MEGA\n",
    "# !sudo apt install megatools\n",
    "# !megadl \"https://mega.nz/#!zt1TTIhK!ZuMbg5ZjGWzWX1I6nEUbfjMZgCmAgeqJlwDkqdIryfg\"\n",
    "\n",
    "# Unzip the dataset.\n",
    "# This may take some time.\n",
    "!unzip -q food-11.zip"
   ]
  },
  {
   "cell_type": "markdown",
   "metadata": {},
   "source": [
    "## **Import Packages**"
   ]
  },
  {
   "cell_type": "code",
   "execution_count": 1,
   "metadata": {},
   "outputs": [
    {
     "name": "stderr",
     "output_type": "stream",
     "text": [
      "/Users/complexa/anaconda3/envs/complexa_ML21_3a/lib/python3.10/site-packages/torchvision/datapoints/__init__.py:12: UserWarning: The torchvision.datapoints and torchvision.transforms.v2 namespaces are still Beta. While we do not expect major breaking changes, some APIs may still change according to user feedback. Please submit any feedback you may have in this issue: https://github.com/pytorch/vision/issues/6753, and you can also check out https://github.com/pytorch/vision/issues/7319 to learn more about the APIs that we suspect might involve future changes. You can silence this warning by calling torchvision.disable_beta_transforms_warning().\n",
      "  warnings.warn(_BETA_TRANSFORMS_WARNING)\n",
      "/Users/complexa/anaconda3/envs/complexa_ML21_3a/lib/python3.10/site-packages/torchvision/transforms/v2/__init__.py:54: UserWarning: The torchvision.datapoints and torchvision.transforms.v2 namespaces are still Beta. While we do not expect major breaking changes, some APIs may still change according to user feedback. Please submit any feedback you may have in this issue: https://github.com/pytorch/vision/issues/6753, and you can also check out https://github.com/pytorch/vision/issues/7319 to learn more about the APIs that we suspect might involve future changes. You can silence this warning by calling torchvision.disable_beta_transforms_warning().\n",
      "  warnings.warn(_BETA_TRANSFORMS_WARNING)\n"
     ]
    }
   ],
   "source": [
    "import numpy as np\n",
    "import torch\n",
    "import torch.nn as nn\n",
    "from torchvision.transforms import v2\n",
    "from PIL import Image\n",
    "# \"ConcatDataset\" and \"Subset\" are possibly useful when doing semi-supervised learning.\n",
    "from torch.utils.data import ConcatDataset, DataLoader, Subset\n",
    "from torchvision.datasets import DatasetFolder\n",
    "\n",
    "# This is for the progress bar.\n",
    "from tqdm.auto import tqdm\n",
    "\n",
    "# Plotting\n",
    "import matplotlib.pyplot as plt"
   ]
  },
  {
   "cell_type": "markdown",
   "metadata": {},
   "source": [
    "## **Tools for Semi-Supervised Learning**"
   ]
  },
  {
   "cell_type": "code",
   "execution_count": 2,
   "metadata": {},
   "outputs": [],
   "source": [
    "class Custom_DatasetFolder(DatasetFolder):\n",
    "    '''This customized class is used for unlabeled training data'''\n",
    "    def __init__(self, root, loader, extension, transform):\n",
    "        super().__init__(root=root, loader=loader, extensions=extension, transform=transform)\n",
    "    \n",
    "    \n",
    "    def __getitem__(self, index):\n",
    "        '''This method had been overriden'''\n",
    "\n",
    "        path, target = self.samples[index]\n",
    "        sample = self.loader(path)\n",
    "        if self.transform is not None:\n",
    "            sample = self.transform(sample)\n",
    "            \n",
    "        return sample, self.targets[index]\n",
    "    \n",
    "    def set_label(self, index, label):\n",
    "        self.targets[index] = label\n",
    "\n",
    "    '''Alternative Solution - not override the __getitem__ method\n",
    "    def set_label(self, index, label):\n",
    "        # TODO : check whether the input index is valid\n",
    "        #\n",
    "        #\n",
    "\n",
    "        temp_sample = self.samples[index] # a tuple (path : str, label : int)\n",
    "        temp_sample = list(temp_sample)\n",
    "        temp_sample[1] = label\n",
    "        self.samples[index] = tuple(temp_sample)\n",
    "    '''\n",
    "\n",
    "\n",
    "def get_pseudo_labels(dataset, model, batch_size, device=\"cpu\", threshold=0.65):\n",
    "    '''This function generate pseudo-labels of a (unlabeled) dataset using given model.\n",
    "       It returns an instance of DatasetFolder containing images whose prediction confidences exceed a given threshold.\n",
    "       '''\n",
    "    model.eval()\n",
    "    sofmax = nn.Softmax(dim=-1)\n",
    "    data_loader = DataLoader(dataset, batch_size=batch_size, shuffle=False)\n",
    "\n",
    "    print(\"get_pseudo_labels(...) activate ...\")\n",
    "\n",
    "    # indices list to record those samples' indices in dataset for which predicted probabilities pass threshold\n",
    "    idx_lst = []\n",
    "\n",
    "    for batch_idx, (imgs, null_labels) in enumerate(data_loader):\n",
    "\n",
    "        '''Testing'''\n",
    "        if batch_idx > 2:\n",
    "            break\n",
    "\n",
    "        # forward the data\n",
    "        with torch.no_grad():\n",
    "            logits = model(imgs.to(device))\n",
    "        \n",
    "        # optain the probability distributions by applying softmax on logits\n",
    "        probs = sofmax(logits)\n",
    "\n",
    "        # get maximum probability & corresponding class of each sample\n",
    "        max_probs_class = probs.max(dim=-1)\n",
    "        max_probs_lst = max_probs_class[0].tolist()\n",
    "        max_class_lst = max_probs_class[1].tolist()\n",
    "\n",
    "        # loop through all samples in a batch, and select those samples that pass threshold\n",
    "        for i in range(len(max_probs_lst)):\n",
    "            \n",
    "            if max_probs_lst[i] >= threshold:\n",
    "\n",
    "                # calculate the corresponding index of dataset\n",
    "                corrected_idx = i + batch_idx * data_loader.batch_size\n",
    "\n",
    "                idx_lst.append(corrected_idx)\n",
    "\n",
    "                # assign label to sample that exceeds threshold\n",
    "                dataset.set_label(corrected_idx, max_class_lst[i])\n",
    "\n",
    "    return Subset(dataset, idx_lst)"
   ]
  },
  {
   "cell_type": "markdown",
   "metadata": {},
   "source": [
    "## **Dataset, Data Loader, and Transforms**"
   ]
  },
  {
   "cell_type": "code",
   "execution_count": 3,
   "metadata": {},
   "outputs": [
    {
     "name": "stdout",
     "output_type": "stream",
     "text": [
      "training data (labeled) size: 6160\n",
      "training data (unlabeled) size: 6786\n",
      "validation data size: 660\n",
      "testing data size: 3347\n"
     ]
    },
    {
     "name": "stderr",
     "output_type": "stream",
     "text": [
      "/Users/complexa/anaconda3/envs/complexa_ML21_3a/lib/python3.10/site-packages/torchvision/transforms/v2/_deprecated.py:41: UserWarning: The transform `ToTensor()` is deprecated and will be removed in a future release. Instead, please use `transforms.Compose([transforms.ToImageTensor(), transforms.ConvertImageDtype()])`.\n",
      "  warnings.warn(\n"
     ]
    }
   ],
   "source": [
    "batch_size = 128\n",
    "\n",
    "# transformation for training data\n",
    "# resize the image to (height, width)=(128, 128)\n",
    "train_tfm_origin = v2.Compose([\n",
    "    v2.Resize((128, 128)),\n",
    "    v2.ToTensor()\n",
    "])\n",
    "# data augmentation\n",
    "train_tfm_augmen = v2.Compose([\n",
    "    v2.Resize((128, 128)),\n",
    "    # ----TODO----\n",
    "    # add more transforms for data augmentation\n",
    "    v2.RandomHorizontalFlip(1),\n",
    "    v2.ToTensor()\n",
    "])\n",
    "\n",
    "# transformation for testing data\n",
    "# resize the image to (height, width)=(128, 128)\n",
    "test_tfm = v2.Compose([\n",
    "    v2.Resize((128, 128)),\n",
    "    v2.ToTensor()\n",
    "])\n",
    "\n",
    "# dataset augmentation\n",
    "train_lb_dataset_origin = DatasetFolder(\"./food-11/training/labeled\", loader=lambda x: Image.open(x), extensions=\"jpg\", transform=train_tfm_origin)\n",
    "train_lb_dataset_augmen = DatasetFolder(\"./food-11/training/labeled\", loader=lambda x: Image.open(x), extensions=\"jpg\", transform=train_tfm_augmen)\n",
    "train_lb_dataset = ConcatDataset([train_lb_dataset_origin, train_lb_dataset_augmen])\n",
    "train_unlb_dataset = Custom_DatasetFolder(\"./food-11/training/unlabeled\", lambda x: Image.open(x), \"jpg\", train_tfm_origin)\n",
    "valid_lb_dataset = DatasetFolder(\"./food-11/validation\", loader=lambda x: Image.open(x), extensions=\"jpg\", transform=test_tfm)\n",
    "test_dataset = DatasetFolder(\"./food-11/testing\", loader=lambda x: Image.open(x), extensions=\"jpg\", transform=test_tfm)\n",
    "\n",
    "# dataloaders\n",
    "train_loader = DataLoader(train_lb_dataset, batch_size=batch_size, shuffle=True, num_workers=0, pin_memory=True)\n",
    "valid_loader = DataLoader(valid_lb_dataset, batch_size=batch_size, shuffle=False, num_workers=0, pin_memory=True)\n",
    "test_loader = DataLoader(test_dataset, batch_size=batch_size, shuffle=False)\n",
    "\n",
    "print(f\"training data (labeled) size: {len(train_lb_dataset)}\")\n",
    "print(f\"training data (unlabeled) size: {len(train_unlb_dataset)}\")\n",
    "print(f\"validation data size: {len(valid_lb_dataset)}\")\n",
    "print(f\"testing data size: {len(test_dataset)}\")"
   ]
  },
  {
   "cell_type": "markdown",
   "metadata": {},
   "source": [
    "## **Model**"
   ]
  },
  {
   "cell_type": "code",
   "execution_count": 4,
   "metadata": {},
   "outputs": [],
   "source": [
    "class Food11_ImgClassifier(nn.Module):\n",
    "    def __init__(self):\n",
    "        super(Food11_ImgClassifier, self).__init__()\n",
    "        \n",
    "        # input image size : (c, h, w) = (3, 128, 128)\n",
    "        self.cnn_layers = nn.Sequential(\n",
    "            nn.Conv2d(3, 64, 3, 1, 1),\n",
    "            nn.BatchNorm2d(64),\n",
    "            nn.ReLU(),\n",
    "            nn.MaxPool2d(2, 2, 0),\n",
    "\n",
    "            nn.Conv2d(64, 128, 3, 1, 1),\n",
    "            nn.BatchNorm2d(128),\n",
    "            nn.ReLU(),\n",
    "            nn.MaxPool2d(2, 2, 0),\n",
    "\n",
    "            nn.Conv2d(128, 256, 3, 1, 1),\n",
    "            nn.BatchNorm2d(256),\n",
    "            nn.ReLU(),\n",
    "            nn.MaxPool2d(4, 4, 0),\n",
    "        )\n",
    "\n",
    "        # fully-connected layers\n",
    "        # output 11 classes\n",
    "        self.fc_layers = nn.Sequential(\n",
    "            nn.Linear(256 * 8 * 8, 256),\n",
    "            nn.ReLU(),\n",
    "            nn.Linear(256, 256),\n",
    "            nn.ReLU(),\n",
    "            nn.Linear(256, 11)\n",
    "        )\n",
    "\n",
    "    def forward(self, x):\n",
    "        # inpurt (x) : [batch_size, 3, 128, 128]\n",
    "        # output : [batch_size, 11]\n",
    "        \n",
    "        # extract features by convolutional layers\n",
    "        x = self.cnn_layers(x)\n",
    "\n",
    "        # the extracted feature map must be flatten before going to fully-connected layers\n",
    "        # dim-0 is for batch_size, which need not be flattened\n",
    "        x = x.flatten(1)\n",
    "\n",
    "        x = self.fc_layers(x)\n",
    "        return x"
   ]
  },
  {
   "cell_type": "markdown",
   "metadata": {},
   "source": [
    "## **Training**"
   ]
  },
  {
   "cell_type": "code",
   "execution_count": 5,
   "metadata": {},
   "outputs": [
    {
     "name": "stdout",
     "output_type": "stream",
     "text": [
      "device : mps\n",
      "get_pseudo_labels(...) activate ...\n",
      "pseudo set size : 0\n",
      "unlabeled set size : 6786\n",
      "training set size : 6160\n",
      "start training ...\n"
     ]
    },
    {
     "data": {
      "application/vnd.jupyter.widget-view+json": {
       "model_id": "795fc1ee476b4a11bd8a64df04b92459",
       "version_major": 2,
       "version_minor": 0
      },
      "text/plain": [
       "  0%|          | 0/49 [00:00<?, ?it/s]"
      ]
     },
     "metadata": {},
     "output_type": "display_data"
    },
    {
     "name": "stdout",
     "output_type": "stream",
     "text": [
      "[ Train | 001/060 ] loss = 2.10316, acc = 0.25717\n"
     ]
    },
    {
     "data": {
      "application/vnd.jupyter.widget-view+json": {
       "model_id": "29a0e0b6104c4231a29d2e0c43bd6551",
       "version_major": 2,
       "version_minor": 0
      },
      "text/plain": [
       "  0%|          | 0/6 [00:00<?, ?it/s]"
      ]
     },
     "metadata": {},
     "output_type": "display_data"
    },
    {
     "name": "stdout",
     "output_type": "stream",
     "text": [
      "[ Valid | 001/060 ] loss = 2.56650, acc = 0.14974\n",
      "Saving model ... | Valid Accu : 0.14974\n",
      "get_pseudo_labels(...) activate ...\n",
      "pseudo set size : 4\n",
      "unlabeled set size : 6786\n",
      "training set size : 6164\n",
      "start training ...\n"
     ]
    },
    {
     "data": {
      "application/vnd.jupyter.widget-view+json": {
       "model_id": "38dae87da1044fe4a70a1c2b3e84ca86",
       "version_major": 2,
       "version_minor": 0
      },
      "text/plain": [
       "  0%|          | 0/49 [00:00<?, ?it/s]"
      ]
     },
     "metadata": {},
     "output_type": "display_data"
    },
    {
     "name": "stdout",
     "output_type": "stream",
     "text": [
      "[ Train | 002/060 ] loss = 1.70370, acc = 0.40140\n"
     ]
    },
    {
     "data": {
      "application/vnd.jupyter.widget-view+json": {
       "model_id": "50c441cf23ef4633a972c1ae0f2f25a1",
       "version_major": 2,
       "version_minor": 0
      },
      "text/plain": [
       "  0%|          | 0/6 [00:00<?, ?it/s]"
      ]
     },
     "metadata": {},
     "output_type": "display_data"
    },
    {
     "name": "stdout",
     "output_type": "stream",
     "text": [
      "[ Valid | 002/060 ] loss = 1.76341, acc = 0.40573\n",
      "Saving model ... | Valid Accu : 0.40573\n",
      "get_pseudo_labels(...) activate ...\n",
      "pseudo set size : 24\n",
      "unlabeled set size : 6786\n",
      "training set size : 6184\n",
      "start training ...\n"
     ]
    },
    {
     "data": {
      "application/vnd.jupyter.widget-view+json": {
       "model_id": "9b798c8b092848b094fe735550cc8984",
       "version_major": 2,
       "version_minor": 0
      },
      "text/plain": [
       "  0%|          | 0/49 [00:00<?, ?it/s]"
      ]
     },
     "metadata": {},
     "output_type": "display_data"
    },
    {
     "name": "stdout",
     "output_type": "stream",
     "text": [
      "[ Train | 003/060 ] loss = 1.49723, acc = 0.48026\n"
     ]
    },
    {
     "data": {
      "application/vnd.jupyter.widget-view+json": {
       "model_id": "610e37dcbb52407bae48d49c2e66f870",
       "version_major": 2,
       "version_minor": 0
      },
      "text/plain": [
       "  0%|          | 0/6 [00:00<?, ?it/s]"
      ]
     },
     "metadata": {},
     "output_type": "display_data"
    },
    {
     "name": "stdout",
     "output_type": "stream",
     "text": [
      "[ Valid | 003/060 ] loss = 1.53520, acc = 0.46979\n",
      "Saving model ... | Valid Accu : 0.46979\n",
      "get_pseudo_labels(...) activate ...\n",
      "pseudo set size : 45\n",
      "unlabeled set size : 6786\n",
      "training set size : 6205\n",
      "start training ...\n"
     ]
    },
    {
     "data": {
      "application/vnd.jupyter.widget-view+json": {
       "model_id": "bfe3d559fe4844648f02cff1ff712544",
       "version_major": 2,
       "version_minor": 0
      },
      "text/plain": [
       "  0%|          | 0/49 [00:00<?, ?it/s]"
      ]
     },
     "metadata": {},
     "output_type": "display_data"
    },
    {
     "name": "stdout",
     "output_type": "stream",
     "text": [
      "[ Train | 004/060 ] loss = 1.33011, acc = 0.53797\n"
     ]
    },
    {
     "data": {
      "application/vnd.jupyter.widget-view+json": {
       "model_id": "c9d7ec5afc104620bec9a1d41150087f",
       "version_major": 2,
       "version_minor": 0
      },
      "text/plain": [
       "  0%|          | 0/6 [00:00<?, ?it/s]"
      ]
     },
     "metadata": {},
     "output_type": "display_data"
    },
    {
     "name": "stdout",
     "output_type": "stream",
     "text": [
      "[ Valid | 004/060 ] loss = 1.40460, acc = 0.51276\n",
      "Saving model ... | Valid Accu : 0.51276\n",
      "get_pseudo_labels(...) activate ...\n",
      "pseudo set size : 80\n",
      "unlabeled set size : 6786\n",
      "training set size : 6240\n",
      "start training ...\n"
     ]
    },
    {
     "data": {
      "application/vnd.jupyter.widget-view+json": {
       "model_id": "f9bf150b91ab4517a0d8311a63b7356a",
       "version_major": 2,
       "version_minor": 0
      },
      "text/plain": [
       "  0%|          | 0/49 [00:00<?, ?it/s]"
      ]
     },
     "metadata": {},
     "output_type": "display_data"
    },
    {
     "name": "stdout",
     "output_type": "stream",
     "text": [
      "[ Train | 005/060 ] loss = 1.16321, acc = 0.59885\n"
     ]
    },
    {
     "data": {
      "application/vnd.jupyter.widget-view+json": {
       "model_id": "2b6b33e215a54e4cb1a38b7f7a11976b",
       "version_major": 2,
       "version_minor": 0
      },
      "text/plain": [
       "  0%|          | 0/6 [00:00<?, ?it/s]"
      ]
     },
     "metadata": {},
     "output_type": "display_data"
    },
    {
     "name": "stdout",
     "output_type": "stream",
     "text": [
      "[ Valid | 005/060 ] loss = 1.36480, acc = 0.54479\n",
      "Saving model ... | Valid Accu : 0.54479\n",
      "get_pseudo_labels(...) activate ...\n",
      "pseudo set size : 126\n",
      "unlabeled set size : 6786\n",
      "training set size : 6286\n",
      "start training ...\n"
     ]
    },
    {
     "data": {
      "application/vnd.jupyter.widget-view+json": {
       "model_id": "539e3084264c40078e9d9a37fbf0cdb5",
       "version_major": 2,
       "version_minor": 0
      },
      "text/plain": [
       "  0%|          | 0/50 [00:00<?, ?it/s]"
      ]
     },
     "metadata": {},
     "output_type": "display_data"
    },
    {
     "name": "stdout",
     "output_type": "stream",
     "text": [
      "[ Train | 006/060 ] loss = 1.02870, acc = 0.64694\n"
     ]
    },
    {
     "data": {
      "application/vnd.jupyter.widget-view+json": {
       "model_id": "d1a76ea53ef74163b5fad9eaaf2be750",
       "version_major": 2,
       "version_minor": 0
      },
      "text/plain": [
       "  0%|          | 0/6 [00:00<?, ?it/s]"
      ]
     },
     "metadata": {},
     "output_type": "display_data"
    },
    {
     "name": "stdout",
     "output_type": "stream",
     "text": [
      "[ Valid | 006/060 ] loss = 1.49809, acc = 0.49766\n",
      "get_pseudo_labels(...) activate ...\n",
      "pseudo set size : 113\n",
      "unlabeled set size : 6786\n",
      "training set size : 6273\n",
      "start training ...\n"
     ]
    },
    {
     "data": {
      "application/vnd.jupyter.widget-view+json": {
       "model_id": "fcb7d02f93704c8d841ca2550b6928ec",
       "version_major": 2,
       "version_minor": 0
      },
      "text/plain": [
       "  0%|          | 0/50 [00:00<?, ?it/s]"
      ]
     },
     "metadata": {},
     "output_type": "display_data"
    },
    {
     "name": "stdout",
     "output_type": "stream",
     "text": [
      "[ Train | 007/060 ] loss = 0.99925, acc = 0.66953\n"
     ]
    },
    {
     "data": {
      "application/vnd.jupyter.widget-view+json": {
       "model_id": "ebcf20db7db542459c27ddac7a55e33d",
       "version_major": 2,
       "version_minor": 0
      },
      "text/plain": [
       "  0%|          | 0/6 [00:00<?, ?it/s]"
      ]
     },
     "metadata": {},
     "output_type": "display_data"
    },
    {
     "name": "stdout",
     "output_type": "stream",
     "text": [
      "[ Valid | 007/060 ] loss = 1.43604, acc = 0.50885\n",
      "get_pseudo_labels(...) activate ...\n",
      "pseudo set size : 120\n",
      "unlabeled set size : 6786\n",
      "training set size : 6280\n",
      "start training ...\n"
     ]
    },
    {
     "data": {
      "application/vnd.jupyter.widget-view+json": {
       "model_id": "a75c294599b949dcb0e6298a45394bb2",
       "version_major": 2,
       "version_minor": 0
      },
      "text/plain": [
       "  0%|          | 0/50 [00:00<?, ?it/s]"
      ]
     },
     "metadata": {},
     "output_type": "display_data"
    },
    {
     "name": "stdout",
     "output_type": "stream",
     "text": [
      "[ Train | 008/060 ] loss = 0.81462, acc = 0.72734\n"
     ]
    },
    {
     "data": {
      "application/vnd.jupyter.widget-view+json": {
       "model_id": "58ca229bd07a48ff99d6ad3117ff6778",
       "version_major": 2,
       "version_minor": 0
      },
      "text/plain": [
       "  0%|          | 0/6 [00:00<?, ?it/s]"
      ]
     },
     "metadata": {},
     "output_type": "display_data"
    },
    {
     "name": "stdout",
     "output_type": "stream",
     "text": [
      "[ Valid | 008/060 ] loss = 1.44947, acc = 0.53021\n",
      "get_pseudo_labels(...) activate ...\n",
      "pseudo set size : 167\n",
      "unlabeled set size : 6786\n",
      "training set size : 6327\n",
      "start training ...\n"
     ]
    },
    {
     "data": {
      "application/vnd.jupyter.widget-view+json": {
       "model_id": "63df742bea024bc8a4a3438e94a049f1",
       "version_major": 2,
       "version_minor": 0
      },
      "text/plain": [
       "  0%|          | 0/50 [00:00<?, ?it/s]"
      ]
     },
     "metadata": {},
     "output_type": "display_data"
    },
    {
     "name": "stdout",
     "output_type": "stream",
     "text": [
      "[ Train | 009/060 ] loss = 0.68708, acc = 0.77335\n"
     ]
    },
    {
     "data": {
      "application/vnd.jupyter.widget-view+json": {
       "model_id": "7afac26979014ac185cd521c1f578fff",
       "version_major": 2,
       "version_minor": 0
      },
      "text/plain": [
       "  0%|          | 0/6 [00:00<?, ?it/s]"
      ]
     },
     "metadata": {},
     "output_type": "display_data"
    },
    {
     "name": "stdout",
     "output_type": "stream",
     "text": [
      "[ Valid | 009/060 ] loss = 1.48529, acc = 0.49844\n",
      "get_pseudo_labels(...) activate ...\n",
      "pseudo set size : 203\n",
      "unlabeled set size : 6786\n",
      "training set size : 6363\n",
      "start training ...\n"
     ]
    },
    {
     "data": {
      "application/vnd.jupyter.widget-view+json": {
       "model_id": "0f1dbd28e6a348debfa69893624e236b",
       "version_major": 2,
       "version_minor": 0
      },
      "text/plain": [
       "  0%|          | 0/50 [00:00<?, ?it/s]"
      ]
     },
     "metadata": {},
     "output_type": "display_data"
    },
    {
     "name": "stdout",
     "output_type": "stream",
     "text": [
      "[ Train | 010/060 ] loss = 0.57114, acc = 0.81698\n"
     ]
    },
    {
     "data": {
      "application/vnd.jupyter.widget-view+json": {
       "model_id": "32a720488540483784f60dbdc082738c",
       "version_major": 2,
       "version_minor": 0
      },
      "text/plain": [
       "  0%|          | 0/6 [00:00<?, ?it/s]"
      ]
     },
     "metadata": {},
     "output_type": "display_data"
    },
    {
     "name": "stdout",
     "output_type": "stream",
     "text": [
      "[ Valid | 010/060 ] loss = 1.68648, acc = 0.50026\n",
      "get_pseudo_labels(...) activate ...\n",
      "pseudo set size : 228\n",
      "unlabeled set size : 6786\n",
      "training set size : 6388\n",
      "start training ...\n"
     ]
    },
    {
     "data": {
      "application/vnd.jupyter.widget-view+json": {
       "model_id": "6b3aed77faf94d7686728cd5a5398f32",
       "version_major": 2,
       "version_minor": 0
      },
      "text/plain": [
       "  0%|          | 0/50 [00:00<?, ?it/s]"
      ]
     },
     "metadata": {},
     "output_type": "display_data"
    },
    {
     "name": "stdout",
     "output_type": "stream",
     "text": [
      "[ Train | 011/060 ] loss = 0.50334, acc = 0.83860\n"
     ]
    },
    {
     "data": {
      "application/vnd.jupyter.widget-view+json": {
       "model_id": "1fdd805548114005b6f9179d2038cde4",
       "version_major": 2,
       "version_minor": 0
      },
      "text/plain": [
       "  0%|          | 0/6 [00:00<?, ?it/s]"
      ]
     },
     "metadata": {},
     "output_type": "display_data"
    },
    {
     "name": "stdout",
     "output_type": "stream",
     "text": [
      "[ Valid | 011/060 ] loss = 1.46341, acc = 0.55651\n",
      "Saving model ... | Valid Accu : 0.55651\n",
      "get_pseudo_labels(...) activate ...\n",
      "pseudo set size : 214\n",
      "unlabeled set size : 6786\n",
      "training set size : 6374\n",
      "start training ...\n"
     ]
    },
    {
     "data": {
      "application/vnd.jupyter.widget-view+json": {
       "model_id": "3feae71cf63447de89eecef96763633b",
       "version_major": 2,
       "version_minor": 0
      },
      "text/plain": [
       "  0%|          | 0/50 [00:00<?, ?it/s]"
      ]
     },
     "metadata": {},
     "output_type": "display_data"
    },
    {
     "name": "stdout",
     "output_type": "stream",
     "text": [
      "[ Train | 012/060 ] loss = 0.42517, acc = 0.86745\n"
     ]
    },
    {
     "data": {
      "application/vnd.jupyter.widget-view+json": {
       "model_id": "c923e348736248e090446982b03966d7",
       "version_major": 2,
       "version_minor": 0
      },
      "text/plain": [
       "  0%|          | 0/6 [00:00<?, ?it/s]"
      ]
     },
     "metadata": {},
     "output_type": "display_data"
    },
    {
     "name": "stdout",
     "output_type": "stream",
     "text": [
      "[ Valid | 012/060 ] loss = 1.49770, acc = 0.55911\n",
      "Saving model ... | Valid Accu : 0.55911\n",
      "get_pseudo_labels(...) activate ...\n",
      "pseudo set size : 219\n",
      "unlabeled set size : 6786\n",
      "training set size : 6379\n",
      "start training ...\n"
     ]
    },
    {
     "data": {
      "application/vnd.jupyter.widget-view+json": {
       "model_id": "473595684ca94963b49c68f563254c74",
       "version_major": 2,
       "version_minor": 0
      },
      "text/plain": [
       "  0%|          | 0/50 [00:00<?, ?it/s]"
      ]
     },
     "metadata": {},
     "output_type": "display_data"
    },
    {
     "name": "stdout",
     "output_type": "stream",
     "text": [
      "[ Train | 013/060 ] loss = 0.32035, acc = 0.90357\n"
     ]
    },
    {
     "data": {
      "application/vnd.jupyter.widget-view+json": {
       "model_id": "648ab729fd5d4cc9b1d330dd10b0bc5f",
       "version_major": 2,
       "version_minor": 0
      },
      "text/plain": [
       "  0%|          | 0/6 [00:00<?, ?it/s]"
      ]
     },
     "metadata": {},
     "output_type": "display_data"
    },
    {
     "name": "stdout",
     "output_type": "stream",
     "text": [
      "[ Valid | 013/060 ] loss = 1.62484, acc = 0.57188\n",
      "Saving model ... | Valid Accu : 0.57188\n",
      "get_pseudo_labels(...) activate ...\n",
      "pseudo set size : 251\n",
      "unlabeled set size : 6786\n",
      "training set size : 6411\n",
      "start training ...\n"
     ]
    },
    {
     "data": {
      "application/vnd.jupyter.widget-view+json": {
       "model_id": "9745f1a56cb043fbb0c7510ac2c3e5a6",
       "version_major": 2,
       "version_minor": 0
      },
      "text/plain": [
       "  0%|          | 0/51 [00:00<?, ?it/s]"
      ]
     },
     "metadata": {},
     "output_type": "display_data"
    },
    {
     "name": "stdout",
     "output_type": "stream",
     "text": [
      "[ Train | 014/060 ] loss = 0.26253, acc = 0.92827\n"
     ]
    },
    {
     "data": {
      "application/vnd.jupyter.widget-view+json": {
       "model_id": "2afc67942a854e6b9bbac9d49753f988",
       "version_major": 2,
       "version_minor": 0
      },
      "text/plain": [
       "  0%|          | 0/6 [00:00<?, ?it/s]"
      ]
     },
     "metadata": {},
     "output_type": "display_data"
    },
    {
     "name": "stdout",
     "output_type": "stream",
     "text": [
      "[ Valid | 014/060 ] loss = 1.67840, acc = 0.55130\n",
      "get_pseudo_labels(...) activate ...\n",
      "pseudo set size : 287\n",
      "unlabeled set size : 6786\n",
      "training set size : 6447\n",
      "start training ...\n"
     ]
    },
    {
     "data": {
      "application/vnd.jupyter.widget-view+json": {
       "model_id": "cd68b457db5d4660bc01dd21f2c4361e",
       "version_major": 2,
       "version_minor": 0
      },
      "text/plain": [
       "  0%|          | 0/51 [00:00<?, ?it/s]"
      ]
     },
     "metadata": {},
     "output_type": "display_data"
    },
    {
     "name": "stdout",
     "output_type": "stream",
     "text": [
      "[ Train | 015/060 ] loss = 0.20118, acc = 0.94706\n"
     ]
    },
    {
     "data": {
      "application/vnd.jupyter.widget-view+json": {
       "model_id": "dd876c3e568e4970a7f8506d55d5df58",
       "version_major": 2,
       "version_minor": 0
      },
      "text/plain": [
       "  0%|          | 0/6 [00:00<?, ?it/s]"
      ]
     },
     "metadata": {},
     "output_type": "display_data"
    },
    {
     "name": "stdout",
     "output_type": "stream",
     "text": [
      "[ Valid | 015/060 ] loss = 1.76784, acc = 0.55990\n",
      "get_pseudo_labels(...) activate ...\n",
      "pseudo set size : 290\n",
      "unlabeled set size : 6786\n",
      "training set size : 6450\n",
      "start training ...\n"
     ]
    },
    {
     "data": {
      "application/vnd.jupyter.widget-view+json": {
       "model_id": "adc6a0ea026d465a97f1befcaafe044b",
       "version_major": 2,
       "version_minor": 0
      },
      "text/plain": [
       "  0%|          | 0/51 [00:00<?, ?it/s]"
      ]
     },
     "metadata": {},
     "output_type": "display_data"
    },
    {
     "name": "stdout",
     "output_type": "stream",
     "text": [
      "[ Train | 016/060 ] loss = 0.14485, acc = 0.96681\n"
     ]
    },
    {
     "data": {
      "application/vnd.jupyter.widget-view+json": {
       "model_id": "fe8ec8e1ebcf4e72a3f3ef023e171ae1",
       "version_major": 2,
       "version_minor": 0
      },
      "text/plain": [
       "  0%|          | 0/6 [00:00<?, ?it/s]"
      ]
     },
     "metadata": {},
     "output_type": "display_data"
    },
    {
     "name": "stdout",
     "output_type": "stream",
     "text": [
      "[ Valid | 016/060 ] loss = 1.75816, acc = 0.56432\n",
      "get_pseudo_labels(...) activate ...\n",
      "pseudo set size : 321\n",
      "unlabeled set size : 6786\n",
      "training set size : 6481\n",
      "start training ...\n"
     ]
    },
    {
     "data": {
      "application/vnd.jupyter.widget-view+json": {
       "model_id": "d5b0c63ab5524149832c50e93f087b33",
       "version_major": 2,
       "version_minor": 0
      },
      "text/plain": [
       "  0%|          | 0/51 [00:00<?, ?it/s]"
      ]
     },
     "metadata": {},
     "output_type": "display_data"
    },
    {
     "name": "stdout",
     "output_type": "stream",
     "text": [
      "[ Train | 017/060 ] loss = 0.13168, acc = 0.96881\n"
     ]
    },
    {
     "data": {
      "application/vnd.jupyter.widget-view+json": {
       "model_id": "bc3be84d43ed4b45b59747bcb4d1248c",
       "version_major": 2,
       "version_minor": 0
      },
      "text/plain": [
       "  0%|          | 0/6 [00:00<?, ?it/s]"
      ]
     },
     "metadata": {},
     "output_type": "display_data"
    },
    {
     "name": "stdout",
     "output_type": "stream",
     "text": [
      "[ Valid | 017/060 ] loss = 1.91008, acc = 0.53984\n",
      "get_pseudo_labels(...) activate ...\n",
      "pseudo set size : 324\n",
      "unlabeled set size : 6786\n",
      "training set size : 6484\n",
      "start training ...\n"
     ]
    },
    {
     "data": {
      "application/vnd.jupyter.widget-view+json": {
       "model_id": "35505d55905342b3834d524d1a3318ff",
       "version_major": 2,
       "version_minor": 0
      },
      "text/plain": [
       "  0%|          | 0/51 [00:00<?, ?it/s]"
      ]
     },
     "metadata": {},
     "output_type": "display_data"
    },
    {
     "name": "stdout",
     "output_type": "stream",
     "text": [
      "[ Train | 018/060 ] loss = 0.11094, acc = 0.97564\n"
     ]
    },
    {
     "data": {
      "application/vnd.jupyter.widget-view+json": {
       "model_id": "f6d8023db2c44006af3eb41275a9bbc1",
       "version_major": 2,
       "version_minor": 0
      },
      "text/plain": [
       "  0%|          | 0/6 [00:00<?, ?it/s]"
      ]
     },
     "metadata": {},
     "output_type": "display_data"
    },
    {
     "name": "stdout",
     "output_type": "stream",
     "text": [
      "[ Valid | 018/060 ] loss = 1.96425, acc = 0.55469\n",
      "get_pseudo_labels(...) activate ...\n",
      "pseudo set size : 338\n",
      "unlabeled set size : 6786\n",
      "training set size : 6498\n",
      "start training ...\n"
     ]
    },
    {
     "data": {
      "application/vnd.jupyter.widget-view+json": {
       "model_id": "a774c6ad498f4b8eb5dd93cf42e0fe3f",
       "version_major": 2,
       "version_minor": 0
      },
      "text/plain": [
       "  0%|          | 0/51 [00:00<?, ?it/s]"
      ]
     },
     "metadata": {},
     "output_type": "display_data"
    },
    {
     "name": "stdout",
     "output_type": "stream",
     "text": [
      "[ Train | 019/060 ] loss = 0.09281, acc = 0.98154\n"
     ]
    },
    {
     "data": {
      "application/vnd.jupyter.widget-view+json": {
       "model_id": "c8631f3c563c4c03b9ba73d191508926",
       "version_major": 2,
       "version_minor": 0
      },
      "text/plain": [
       "  0%|          | 0/6 [00:00<?, ?it/s]"
      ]
     },
     "metadata": {},
     "output_type": "display_data"
    },
    {
     "name": "stdout",
     "output_type": "stream",
     "text": [
      "[ Valid | 019/060 ] loss = 1.96612, acc = 0.56120\n",
      "get_pseudo_labels(...) activate ...\n",
      "pseudo set size : 340\n",
      "unlabeled set size : 6786\n",
      "training set size : 6500\n",
      "start training ...\n"
     ]
    },
    {
     "data": {
      "application/vnd.jupyter.widget-view+json": {
       "model_id": "f59d89e67adf461bb1d60ffd5457e456",
       "version_major": 2,
       "version_minor": 0
      },
      "text/plain": [
       "  0%|          | 0/51 [00:00<?, ?it/s]"
      ]
     },
     "metadata": {},
     "output_type": "display_data"
    },
    {
     "name": "stdout",
     "output_type": "stream",
     "text": [
      "[ Train | 020/060 ] loss = 0.05699, acc = 0.99077\n"
     ]
    },
    {
     "data": {
      "application/vnd.jupyter.widget-view+json": {
       "model_id": "2b093a7055324556b11756f0f59241e1",
       "version_major": 2,
       "version_minor": 0
      },
      "text/plain": [
       "  0%|          | 0/6 [00:00<?, ?it/s]"
      ]
     },
     "metadata": {},
     "output_type": "display_data"
    },
    {
     "name": "stdout",
     "output_type": "stream",
     "text": [
      "[ Valid | 020/060 ] loss = 2.20127, acc = 0.51849\n",
      "get_pseudo_labels(...) activate ...\n",
      "pseudo set size : 346\n",
      "unlabeled set size : 6786\n",
      "training set size : 6506\n",
      "start training ...\n"
     ]
    },
    {
     "data": {
      "application/vnd.jupyter.widget-view+json": {
       "model_id": "81c3bf60a11040e49cdd418d6977cea8",
       "version_major": 2,
       "version_minor": 0
      },
      "text/plain": [
       "  0%|          | 0/51 [00:00<?, ?it/s]"
      ]
     },
     "metadata": {},
     "output_type": "display_data"
    },
    {
     "name": "stdout",
     "output_type": "stream",
     "text": [
      "[ Train | 021/060 ] loss = 0.05857, acc = 0.99127\n"
     ]
    },
    {
     "data": {
      "application/vnd.jupyter.widget-view+json": {
       "model_id": "cb94f4c30f844b21b8155b46ca31bb35",
       "version_major": 2,
       "version_minor": 0
      },
      "text/plain": [
       "  0%|          | 0/6 [00:00<?, ?it/s]"
      ]
     },
     "metadata": {},
     "output_type": "display_data"
    },
    {
     "name": "stdout",
     "output_type": "stream",
     "text": [
      "[ Valid | 021/060 ] loss = 2.26720, acc = 0.51953\n",
      "get_pseudo_labels(...) activate ...\n",
      "pseudo set size : 342\n",
      "unlabeled set size : 6786\n",
      "training set size : 6502\n",
      "start training ...\n"
     ]
    },
    {
     "data": {
      "application/vnd.jupyter.widget-view+json": {
       "model_id": "853ac120d7244b28b8b35296d9df4dfa",
       "version_major": 2,
       "version_minor": 0
      },
      "text/plain": [
       "  0%|          | 0/51 [00:00<?, ?it/s]"
      ]
     },
     "metadata": {},
     "output_type": "display_data"
    },
    {
     "name": "stdout",
     "output_type": "stream",
     "text": [
      "[ Train | 022/060 ] loss = 0.06516, acc = 0.98617\n"
     ]
    },
    {
     "data": {
      "application/vnd.jupyter.widget-view+json": {
       "model_id": "83d8cd1b5e2b4b64ac789246ec60ac9c",
       "version_major": 2,
       "version_minor": 0
      },
      "text/plain": [
       "  0%|          | 0/6 [00:00<?, ?it/s]"
      ]
     },
     "metadata": {},
     "output_type": "display_data"
    },
    {
     "name": "stdout",
     "output_type": "stream",
     "text": [
      "[ Valid | 022/060 ] loss = 2.14365, acc = 0.54818\n",
      "get_pseudo_labels(...) activate ...\n",
      "pseudo set size : 365\n",
      "unlabeled set size : 6786\n",
      "training set size : 6525\n",
      "start training ...\n"
     ]
    },
    {
     "data": {
      "application/vnd.jupyter.widget-view+json": {
       "model_id": "a8e9665f81f442308688a77e72bf8376",
       "version_major": 2,
       "version_minor": 0
      },
      "text/plain": [
       "  0%|          | 0/51 [00:00<?, ?it/s]"
      ]
     },
     "metadata": {},
     "output_type": "display_data"
    },
    {
     "name": "stdout",
     "output_type": "stream",
     "text": [
      "[ Train | 023/060 ] loss = 0.03594, acc = 0.99509\n"
     ]
    },
    {
     "data": {
      "application/vnd.jupyter.widget-view+json": {
       "model_id": "7b1d958fae43475bbe3948ad3783268d",
       "version_major": 2,
       "version_minor": 0
      },
      "text/plain": [
       "  0%|          | 0/6 [00:00<?, ?it/s]"
      ]
     },
     "metadata": {},
     "output_type": "display_data"
    },
    {
     "name": "stdout",
     "output_type": "stream",
     "text": [
      "[ Valid | 023/060 ] loss = 2.18055, acc = 0.55781\n",
      "get_pseudo_labels(...) activate ...\n",
      "pseudo set size : 366\n",
      "unlabeled set size : 6786\n",
      "training set size : 6526\n",
      "start training ...\n"
     ]
    },
    {
     "data": {
      "application/vnd.jupyter.widget-view+json": {
       "model_id": "ad4b4e1eeab9485a9fb5981b29da842c",
       "version_major": 2,
       "version_minor": 0
      },
      "text/plain": [
       "  0%|          | 0/51 [00:00<?, ?it/s]"
      ]
     },
     "metadata": {},
     "output_type": "display_data"
    },
    {
     "name": "stdout",
     "output_type": "stream",
     "text": [
      "[ Train | 024/060 ] loss = 0.01885, acc = 0.99893\n"
     ]
    },
    {
     "data": {
      "application/vnd.jupyter.widget-view+json": {
       "model_id": "14d4065c02884d039bae334844a9e483",
       "version_major": 2,
       "version_minor": 0
      },
      "text/plain": [
       "  0%|          | 0/6 [00:00<?, ?it/s]"
      ]
     },
     "metadata": {},
     "output_type": "display_data"
    },
    {
     "name": "stdout",
     "output_type": "stream",
     "text": [
      "[ Valid | 024/060 ] loss = 2.10235, acc = 0.57995\n",
      "Saving model ... | Valid Accu : 0.57995\n",
      "get_pseudo_labels(...) activate ...\n",
      "pseudo set size : 370\n",
      "unlabeled set size : 6786\n",
      "training set size : 6530\n",
      "start training ...\n"
     ]
    },
    {
     "data": {
      "application/vnd.jupyter.widget-view+json": {
       "model_id": "8a07e93e32e5488588930797bef7d66d",
       "version_major": 2,
       "version_minor": 0
      },
      "text/plain": [
       "  0%|          | 0/52 [00:00<?, ?it/s]"
      ]
     },
     "metadata": {},
     "output_type": "display_data"
    },
    {
     "name": "stdout",
     "output_type": "stream",
     "text": [
      "[ Train | 025/060 ] loss = 0.07323, acc = 0.99023\n"
     ]
    },
    {
     "data": {
      "application/vnd.jupyter.widget-view+json": {
       "model_id": "2e6c1da4776944ab99f7cdfad187f037",
       "version_major": 2,
       "version_minor": 0
      },
      "text/plain": [
       "  0%|          | 0/6 [00:00<?, ?it/s]"
      ]
     },
     "metadata": {},
     "output_type": "display_data"
    },
    {
     "name": "stdout",
     "output_type": "stream",
     "text": [
      "[ Valid | 025/060 ] loss = 2.19040, acc = 0.58255\n",
      "Saving model ... | Valid Accu : 0.58255\n",
      "get_pseudo_labels(...) activate ...\n",
      "pseudo set size : 372\n",
      "unlabeled set size : 6786\n",
      "training set size : 6532\n",
      "start training ...\n"
     ]
    },
    {
     "data": {
      "application/vnd.jupyter.widget-view+json": {
       "model_id": "0a0b97ae8582434392a71d38b6097e31",
       "version_major": 2,
       "version_minor": 0
      },
      "text/plain": [
       "  0%|          | 0/52 [00:00<?, ?it/s]"
      ]
     },
     "metadata": {},
     "output_type": "display_data"
    },
    {
     "name": "stdout",
     "output_type": "stream",
     "text": [
      "[ Train | 026/060 ] loss = 0.06992, acc = 0.98122\n"
     ]
    },
    {
     "data": {
      "application/vnd.jupyter.widget-view+json": {
       "model_id": "14465049be8240f7a7b29bce367c0128",
       "version_major": 2,
       "version_minor": 0
      },
      "text/plain": [
       "  0%|          | 0/6 [00:00<?, ?it/s]"
      ]
     },
     "metadata": {},
     "output_type": "display_data"
    },
    {
     "name": "stdout",
     "output_type": "stream",
     "text": [
      "[ Valid | 026/060 ] loss = 2.76442, acc = 0.53464\n",
      "get_pseudo_labels(...) activate ...\n",
      "pseudo set size : 346\n",
      "unlabeled set size : 6786\n",
      "training set size : 6506\n",
      "start training ...\n"
     ]
    },
    {
     "data": {
      "application/vnd.jupyter.widget-view+json": {
       "model_id": "71e29c0aa0074af0ba1a2f67dde7eeeb",
       "version_major": 2,
       "version_minor": 0
      },
      "text/plain": [
       "  0%|          | 0/51 [00:00<?, ?it/s]"
      ]
     },
     "metadata": {},
     "output_type": "display_data"
    },
    {
     "name": "stdout",
     "output_type": "stream",
     "text": [
      "[ Train | 027/060 ] loss = 0.13599, acc = 0.95950\n"
     ]
    },
    {
     "data": {
      "application/vnd.jupyter.widget-view+json": {
       "model_id": "2c598afd285e454f96d8893e4517fa8e",
       "version_major": 2,
       "version_minor": 0
      },
      "text/plain": [
       "  0%|          | 0/6 [00:00<?, ?it/s]"
      ]
     },
     "metadata": {},
     "output_type": "display_data"
    },
    {
     "name": "stdout",
     "output_type": "stream",
     "text": [
      "[ Valid | 027/060 ] loss = 2.30441, acc = 0.53229\n",
      "get_pseudo_labels(...) activate ...\n",
      "pseudo set size : 362\n",
      "unlabeled set size : 6786\n",
      "training set size : 6522\n",
      "start training ...\n"
     ]
    },
    {
     "data": {
      "application/vnd.jupyter.widget-view+json": {
       "model_id": "87e6146b7d544e3798e6687eabc1d32b",
       "version_major": 2,
       "version_minor": 0
      },
      "text/plain": [
       "  0%|          | 0/51 [00:00<?, ?it/s]"
      ]
     },
     "metadata": {},
     "output_type": "display_data"
    },
    {
     "name": "stdout",
     "output_type": "stream",
     "text": [
      "[ Train | 028/060 ] loss = 0.06705, acc = 0.98359\n"
     ]
    },
    {
     "data": {
      "application/vnd.jupyter.widget-view+json": {
       "model_id": "fd9137085d37437ea8e4fd2cbe808c90",
       "version_major": 2,
       "version_minor": 0
      },
      "text/plain": [
       "  0%|          | 0/6 [00:00<?, ?it/s]"
      ]
     },
     "metadata": {},
     "output_type": "display_data"
    },
    {
     "name": "stdout",
     "output_type": "stream",
     "text": [
      "[ Valid | 028/060 ] loss = 2.38335, acc = 0.56484\n",
      "get_pseudo_labels(...) activate ...\n",
      "pseudo set size : 370\n",
      "unlabeled set size : 6786\n",
      "training set size : 6530\n",
      "start training ...\n"
     ]
    },
    {
     "data": {
      "application/vnd.jupyter.widget-view+json": {
       "model_id": "4af56c57694e42708f6bbfea8a04c6ab",
       "version_major": 2,
       "version_minor": 0
      },
      "text/plain": [
       "  0%|          | 0/52 [00:00<?, ?it/s]"
      ]
     },
     "metadata": {},
     "output_type": "display_data"
    },
    {
     "name": "stdout",
     "output_type": "stream",
     "text": [
      "[ Train | 029/060 ] loss = 0.06225, acc = 0.98483\n"
     ]
    },
    {
     "data": {
      "application/vnd.jupyter.widget-view+json": {
       "model_id": "1738f7bd22b749f7992b7875aba3455b",
       "version_major": 2,
       "version_minor": 0
      },
      "text/plain": [
       "  0%|          | 0/6 [00:00<?, ?it/s]"
      ]
     },
     "metadata": {},
     "output_type": "display_data"
    },
    {
     "name": "stdout",
     "output_type": "stream",
     "text": [
      "[ Valid | 029/060 ] loss = 2.41582, acc = 0.56953\n",
      "get_pseudo_labels(...) activate ...\n",
      "pseudo set size : 378\n",
      "unlabeled set size : 6786\n",
      "training set size : 6538\n",
      "start training ...\n"
     ]
    },
    {
     "data": {
      "application/vnd.jupyter.widget-view+json": {
       "model_id": "45a8a33da7d142fa9ff89be765b5fe8c",
       "version_major": 2,
       "version_minor": 0
      },
      "text/plain": [
       "  0%|          | 0/52 [00:00<?, ?it/s]"
      ]
     },
     "metadata": {},
     "output_type": "display_data"
    },
    {
     "name": "stdout",
     "output_type": "stream",
     "text": [
      "[ Train | 030/060 ] loss = 0.04344, acc = 0.98933\n"
     ]
    },
    {
     "data": {
      "application/vnd.jupyter.widget-view+json": {
       "model_id": "49ef6f0e56084776baf41bc2186b3f63",
       "version_major": 2,
       "version_minor": 0
      },
      "text/plain": [
       "  0%|          | 0/6 [00:00<?, ?it/s]"
      ]
     },
     "metadata": {},
     "output_type": "display_data"
    },
    {
     "name": "stdout",
     "output_type": "stream",
     "text": [
      "[ Valid | 030/060 ] loss = 2.40117, acc = 0.57318\n",
      "get_pseudo_labels(...) activate ...\n",
      "pseudo set size : 378\n",
      "unlabeled set size : 6786\n",
      "training set size : 6538\n",
      "start training ...\n"
     ]
    },
    {
     "data": {
      "application/vnd.jupyter.widget-view+json": {
       "model_id": "e165d95d9a444ca28dd2276a37ce3042",
       "version_major": 2,
       "version_minor": 0
      },
      "text/plain": [
       "  0%|          | 0/52 [00:00<?, ?it/s]"
      ]
     },
     "metadata": {},
     "output_type": "display_data"
    },
    {
     "name": "stdout",
     "output_type": "stream",
     "text": [
      "[ Train | 031/060 ] loss = 0.02489, acc = 0.99579\n"
     ]
    },
    {
     "data": {
      "application/vnd.jupyter.widget-view+json": {
       "model_id": "0e615b90e6064e0e921c931380030dd0",
       "version_major": 2,
       "version_minor": 0
      },
      "text/plain": [
       "  0%|          | 0/6 [00:00<?, ?it/s]"
      ]
     },
     "metadata": {},
     "output_type": "display_data"
    },
    {
     "name": "stdout",
     "output_type": "stream",
     "text": [
      "[ Valid | 031/060 ] loss = 2.36294, acc = 0.57734\n",
      "get_pseudo_labels(...) activate ...\n",
      "pseudo set size : 377\n",
      "unlabeled set size : 6786\n",
      "training set size : 6537\n",
      "start training ...\n"
     ]
    },
    {
     "data": {
      "application/vnd.jupyter.widget-view+json": {
       "model_id": "d34bd60cbe7b4cefaff039aa27516b7c",
       "version_major": 2,
       "version_minor": 0
      },
      "text/plain": [
       "  0%|          | 0/52 [00:00<?, ?it/s]"
      ]
     },
     "metadata": {},
     "output_type": "display_data"
    },
    {
     "name": "stdout",
     "output_type": "stream",
     "text": [
      "[ Train | 032/060 ] loss = 0.01418, acc = 0.99850\n"
     ]
    },
    {
     "data": {
      "application/vnd.jupyter.widget-view+json": {
       "model_id": "0f543873429d49c5b065fe6f27b6696c",
       "version_major": 2,
       "version_minor": 0
      },
      "text/plain": [
       "  0%|          | 0/6 [00:00<?, ?it/s]"
      ]
     },
     "metadata": {},
     "output_type": "display_data"
    },
    {
     "name": "stdout",
     "output_type": "stream",
     "text": [
      "[ Valid | 032/060 ] loss = 2.29854, acc = 0.58516\n",
      "Saving model ... | Valid Accu : 0.58516\n",
      "get_pseudo_labels(...) activate ...\n",
      "pseudo set size : 382\n",
      "unlabeled set size : 6786\n",
      "training set size : 6542\n",
      "start training ...\n"
     ]
    },
    {
     "data": {
      "application/vnd.jupyter.widget-view+json": {
       "model_id": "12afed779b364247a01a5f6165e353e4",
       "version_major": 2,
       "version_minor": 0
      },
      "text/plain": [
       "  0%|          | 0/52 [00:00<?, ?it/s]"
      ]
     },
     "metadata": {},
     "output_type": "display_data"
    },
    {
     "name": "stdout",
     "output_type": "stream",
     "text": [
      "[ Train | 033/060 ] loss = 0.01732, acc = 0.99517\n"
     ]
    },
    {
     "data": {
      "application/vnd.jupyter.widget-view+json": {
       "model_id": "8ca9f95edd344d7994ca79e842b7020b",
       "version_major": 2,
       "version_minor": 0
      },
      "text/plain": [
       "  0%|          | 0/6 [00:00<?, ?it/s]"
      ]
     },
     "metadata": {},
     "output_type": "display_data"
    },
    {
     "name": "stdout",
     "output_type": "stream",
     "text": [
      "[ Valid | 033/060 ] loss = 2.72858, acc = 0.57031\n",
      "get_pseudo_labels(...) activate ...\n",
      "pseudo set size : 367\n",
      "unlabeled set size : 6786\n",
      "training set size : 6527\n",
      "start training ...\n"
     ]
    },
    {
     "data": {
      "application/vnd.jupyter.widget-view+json": {
       "model_id": "d2e360bc7d004dae8969276115af3712",
       "version_major": 2,
       "version_minor": 0
      },
      "text/plain": [
       "  0%|          | 0/51 [00:00<?, ?it/s]"
      ]
     },
     "metadata": {},
     "output_type": "display_data"
    },
    {
     "name": "stdout",
     "output_type": "stream",
     "text": [
      "[ Train | 034/060 ] loss = 0.08437, acc = 0.97426\n"
     ]
    },
    {
     "data": {
      "application/vnd.jupyter.widget-view+json": {
       "model_id": "af5a63f684584728992a944ea1728936",
       "version_major": 2,
       "version_minor": 0
      },
      "text/plain": [
       "  0%|          | 0/6 [00:00<?, ?it/s]"
      ]
     },
     "metadata": {},
     "output_type": "display_data"
    },
    {
     "name": "stdout",
     "output_type": "stream",
     "text": [
      "[ Valid | 034/060 ] loss = 2.80982, acc = 0.57057\n",
      "get_pseudo_labels(...) activate ...\n",
      "pseudo set size : 367\n",
      "unlabeled set size : 6786\n",
      "training set size : 6527\n",
      "start training ...\n"
     ]
    },
    {
     "data": {
      "application/vnd.jupyter.widget-view+json": {
       "model_id": "326b8071108f4269955109d80aae2083",
       "version_major": 2,
       "version_minor": 0
      },
      "text/plain": [
       "  0%|          | 0/51 [00:00<?, ?it/s]"
      ]
     },
     "metadata": {},
     "output_type": "display_data"
    },
    {
     "name": "stdout",
     "output_type": "stream",
     "text": [
      "[ Train | 035/060 ] loss = 0.04805, acc = 0.98943\n"
     ]
    },
    {
     "data": {
      "application/vnd.jupyter.widget-view+json": {
       "model_id": "cc8a111599924207bc66f7b5e2cdb513",
       "version_major": 2,
       "version_minor": 0
      },
      "text/plain": [
       "  0%|          | 0/6 [00:00<?, ?it/s]"
      ]
     },
     "metadata": {},
     "output_type": "display_data"
    },
    {
     "name": "stdout",
     "output_type": "stream",
     "text": [
      "[ Valid | 035/060 ] loss = 2.59194, acc = 0.51797\n",
      "get_pseudo_labels(...) activate ...\n",
      "pseudo set size : 374\n",
      "unlabeled set size : 6786\n",
      "training set size : 6534\n",
      "start training ...\n"
     ]
    },
    {
     "data": {
      "application/vnd.jupyter.widget-view+json": {
       "model_id": "518816f462d949738370524de96b5146",
       "version_major": 2,
       "version_minor": 0
      },
      "text/plain": [
       "  0%|          | 0/52 [00:00<?, ?it/s]"
      ]
     },
     "metadata": {},
     "output_type": "display_data"
    },
    {
     "name": "stdout",
     "output_type": "stream",
     "text": [
      "[ Train | 036/060 ] loss = 0.02876, acc = 0.99339\n"
     ]
    },
    {
     "data": {
      "application/vnd.jupyter.widget-view+json": {
       "model_id": "b28861e907df4cc28fbf06018304c6ca",
       "version_major": 2,
       "version_minor": 0
      },
      "text/plain": [
       "  0%|          | 0/6 [00:00<?, ?it/s]"
      ]
     },
     "metadata": {},
     "output_type": "display_data"
    },
    {
     "name": "stdout",
     "output_type": "stream",
     "text": [
      "[ Valid | 036/060 ] loss = 2.73334, acc = 0.56797\n",
      "get_pseudo_labels(...) activate ...\n",
      "pseudo set size : 375\n",
      "unlabeled set size : 6786\n",
      "training set size : 6535\n",
      "start training ...\n"
     ]
    },
    {
     "data": {
      "application/vnd.jupyter.widget-view+json": {
       "model_id": "a60e6f36c78c484a957e3668868d85f7",
       "version_major": 2,
       "version_minor": 0
      },
      "text/plain": [
       "  0%|          | 0/52 [00:00<?, ?it/s]"
      ]
     },
     "metadata": {},
     "output_type": "display_data"
    },
    {
     "name": "stdout",
     "output_type": "stream",
     "text": [
      "[ Train | 037/060 ] loss = 0.03400, acc = 0.99114\n"
     ]
    },
    {
     "data": {
      "application/vnd.jupyter.widget-view+json": {
       "model_id": "0862b41a8ec94d948bbfc6c607607897",
       "version_major": 2,
       "version_minor": 0
      },
      "text/plain": [
       "  0%|          | 0/6 [00:00<?, ?it/s]"
      ]
     },
     "metadata": {},
     "output_type": "display_data"
    },
    {
     "name": "stdout",
     "output_type": "stream",
     "text": [
      "[ Valid | 037/060 ] loss = 2.62070, acc = 0.54297\n",
      "get_pseudo_labels(...) activate ...\n",
      "pseudo set size : 373\n",
      "unlabeled set size : 6786\n",
      "training set size : 6533\n",
      "start training ...\n"
     ]
    },
    {
     "data": {
      "application/vnd.jupyter.widget-view+json": {
       "model_id": "7f35054351054c598fa9c025d2d0b794",
       "version_major": 2,
       "version_minor": 0
      },
      "text/plain": [
       "  0%|          | 0/52 [00:00<?, ?it/s]"
      ]
     },
     "metadata": {},
     "output_type": "display_data"
    },
    {
     "name": "stdout",
     "output_type": "stream",
     "text": [
      "[ Train | 038/060 ] loss = 0.03584, acc = 0.99174\n"
     ]
    },
    {
     "data": {
      "application/vnd.jupyter.widget-view+json": {
       "model_id": "057e6814979d45dcbbf024ba7d3692fb",
       "version_major": 2,
       "version_minor": 0
      },
      "text/plain": [
       "  0%|          | 0/6 [00:00<?, ?it/s]"
      ]
     },
     "metadata": {},
     "output_type": "display_data"
    },
    {
     "name": "stdout",
     "output_type": "stream",
     "text": [
      "[ Valid | 038/060 ] loss = 2.68971, acc = 0.54089\n",
      "get_pseudo_labels(...) activate ...\n",
      "pseudo set size : 374\n",
      "unlabeled set size : 6786\n",
      "training set size : 6534\n",
      "start training ...\n"
     ]
    },
    {
     "data": {
      "application/vnd.jupyter.widget-view+json": {
       "model_id": "d260a87d3316475bbd83e1ba433fe314",
       "version_major": 2,
       "version_minor": 0
      },
      "text/plain": [
       "  0%|          | 0/52 [00:00<?, ?it/s]"
      ]
     },
     "metadata": {},
     "output_type": "display_data"
    },
    {
     "name": "stdout",
     "output_type": "stream",
     "text": [
      "[ Train | 039/060 ] loss = 0.07890, acc = 0.97521\n"
     ]
    },
    {
     "data": {
      "application/vnd.jupyter.widget-view+json": {
       "model_id": "4d391450d67445e19897ca453e484fb3",
       "version_major": 2,
       "version_minor": 0
      },
      "text/plain": [
       "  0%|          | 0/6 [00:00<?, ?it/s]"
      ]
     },
     "metadata": {},
     "output_type": "display_data"
    },
    {
     "name": "stdout",
     "output_type": "stream",
     "text": [
      "[ Valid | 039/060 ] loss = 3.00781, acc = 0.52526\n",
      "get_pseudo_labels(...) activate ...\n",
      "pseudo set size : 341\n",
      "unlabeled set size : 6786\n",
      "training set size : 6501\n",
      "start training ...\n"
     ]
    },
    {
     "data": {
      "application/vnd.jupyter.widget-view+json": {
       "model_id": "9a8483c75f9949299e05c59a36477857",
       "version_major": 2,
       "version_minor": 0
      },
      "text/plain": [
       "  0%|          | 0/51 [00:00<?, ?it/s]"
      ]
     },
     "metadata": {},
     "output_type": "display_data"
    },
    {
     "name": "stdout",
     "output_type": "stream",
     "text": [
      "[ Train | 040/060 ] loss = 0.06519, acc = 0.98073\n"
     ]
    },
    {
     "data": {
      "application/vnd.jupyter.widget-view+json": {
       "model_id": "bc9db20c7e0e440e84fc3527acf50037",
       "version_major": 2,
       "version_minor": 0
      },
      "text/plain": [
       "  0%|          | 0/6 [00:00<?, ?it/s]"
      ]
     },
     "metadata": {},
     "output_type": "display_data"
    },
    {
     "name": "stdout",
     "output_type": "stream",
     "text": [
      "[ Valid | 040/060 ] loss = 2.65854, acc = 0.53854\n",
      "get_pseudo_labels(...) activate ...\n",
      "pseudo set size : 370\n",
      "unlabeled set size : 6786\n",
      "training set size : 6530\n",
      "start training ...\n"
     ]
    },
    {
     "data": {
      "application/vnd.jupyter.widget-view+json": {
       "model_id": "3112a2d2d860456a83776300892ea0e3",
       "version_major": 2,
       "version_minor": 0
      },
      "text/plain": [
       "  0%|          | 0/52 [00:00<?, ?it/s]"
      ]
     },
     "metadata": {},
     "output_type": "display_data"
    },
    {
     "name": "stdout",
     "output_type": "stream",
     "text": [
      "[ Train | 041/060 ] loss = 0.03668, acc = 0.98633\n"
     ]
    },
    {
     "data": {
      "application/vnd.jupyter.widget-view+json": {
       "model_id": "3c6f4a1db4184d9289cbd0091ee53496",
       "version_major": 2,
       "version_minor": 0
      },
      "text/plain": [
       "  0%|          | 0/6 [00:00<?, ?it/s]"
      ]
     },
     "metadata": {},
     "output_type": "display_data"
    },
    {
     "name": "stdout",
     "output_type": "stream",
     "text": [
      "[ Valid | 041/060 ] loss = 2.64681, acc = 0.57708\n",
      "get_pseudo_labels(...) activate ...\n",
      "pseudo set size : 378\n",
      "unlabeled set size : 6786\n",
      "training set size : 6538\n",
      "start training ...\n"
     ]
    },
    {
     "data": {
      "application/vnd.jupyter.widget-view+json": {
       "model_id": "aa67077bd0a54003bd40c1d41cbb72ec",
       "version_major": 2,
       "version_minor": 0
      },
      "text/plain": [
       "  0%|          | 0/52 [00:00<?, ?it/s]"
      ]
     },
     "metadata": {},
     "output_type": "display_data"
    },
    {
     "name": "stdout",
     "output_type": "stream",
     "text": [
      "[ Train | 042/060 ] loss = 0.03904, acc = 0.98918\n"
     ]
    },
    {
     "data": {
      "application/vnd.jupyter.widget-view+json": {
       "model_id": "f91e9aaa70084a4fa167a8abfbea8a1f",
       "version_major": 2,
       "version_minor": 0
      },
      "text/plain": [
       "  0%|          | 0/6 [00:00<?, ?it/s]"
      ]
     },
     "metadata": {},
     "output_type": "display_data"
    },
    {
     "name": "stdout",
     "output_type": "stream",
     "text": [
      "[ Valid | 042/060 ] loss = 2.48549, acc = 0.58776\n",
      "Saving model ... | Valid Accu : 0.58776\n",
      "get_pseudo_labels(...) activate ...\n",
      "pseudo set size : 384\n",
      "unlabeled set size : 6786\n",
      "training set size : 6544\n",
      "start training ...\n"
     ]
    },
    {
     "data": {
      "application/vnd.jupyter.widget-view+json": {
       "model_id": "a98924aa30bb4d64852c119056bc1f8c",
       "version_major": 2,
       "version_minor": 0
      },
      "text/plain": [
       "  0%|          | 0/52 [00:00<?, ?it/s]"
      ]
     },
     "metadata": {},
     "output_type": "display_data"
    },
    {
     "name": "stdout",
     "output_type": "stream",
     "text": [
      "[ Train | 043/060 ] loss = 0.01301, acc = 0.99700\n"
     ]
    },
    {
     "data": {
      "application/vnd.jupyter.widget-view+json": {
       "model_id": "0f726cc9a9d046529a54ae935d828c9b",
       "version_major": 2,
       "version_minor": 0
      },
      "text/plain": [
       "  0%|          | 0/6 [00:00<?, ?it/s]"
      ]
     },
     "metadata": {},
     "output_type": "display_data"
    },
    {
     "name": "stdout",
     "output_type": "stream",
     "text": [
      "[ Valid | 043/060 ] loss = 2.65634, acc = 0.53542\n",
      "get_pseudo_labels(...) activate ...\n",
      "pseudo set size : 379\n",
      "unlabeled set size : 6786\n",
      "training set size : 6539\n",
      "start training ...\n"
     ]
    },
    {
     "data": {
      "application/vnd.jupyter.widget-view+json": {
       "model_id": "9038243a59564664b66ff71598efe11e",
       "version_major": 2,
       "version_minor": 0
      },
      "text/plain": [
       "  0%|          | 0/52 [00:00<?, ?it/s]"
      ]
     },
     "metadata": {},
     "output_type": "display_data"
    },
    {
     "name": "stdout",
     "output_type": "stream",
     "text": [
      "[ Train | 044/060 ] loss = 0.03691, acc = 0.98993\n"
     ]
    },
    {
     "data": {
      "application/vnd.jupyter.widget-view+json": {
       "model_id": "49f9dfb141334cdc8bd906b4fcd60693",
       "version_major": 2,
       "version_minor": 0
      },
      "text/plain": [
       "  0%|          | 0/6 [00:00<?, ?it/s]"
      ]
     },
     "metadata": {},
     "output_type": "display_data"
    },
    {
     "name": "stdout",
     "output_type": "stream",
     "text": [
      "[ Valid | 044/060 ] loss = 2.71930, acc = 0.57005\n",
      "get_pseudo_labels(...) activate ...\n",
      "pseudo set size : 372\n",
      "unlabeled set size : 6786\n",
      "training set size : 6532\n",
      "start training ...\n"
     ]
    },
    {
     "data": {
      "application/vnd.jupyter.widget-view+json": {
       "model_id": "1092b56bd6f348689bdd9938a3090d2d",
       "version_major": 2,
       "version_minor": 0
      },
      "text/plain": [
       "  0%|          | 0/52 [00:00<?, ?it/s]"
      ]
     },
     "metadata": {},
     "output_type": "display_data"
    },
    {
     "name": "stdout",
     "output_type": "stream",
     "text": [
      "[ Train | 045/060 ] loss = 0.01810, acc = 0.99609\n"
     ]
    },
    {
     "data": {
      "application/vnd.jupyter.widget-view+json": {
       "model_id": "92982ab22df541b399d7d8a718370ec6",
       "version_major": 2,
       "version_minor": 0
      },
      "text/plain": [
       "  0%|          | 0/6 [00:00<?, ?it/s]"
      ]
     },
     "metadata": {},
     "output_type": "display_data"
    },
    {
     "name": "stdout",
     "output_type": "stream",
     "text": [
      "[ Valid | 045/060 ] loss = 2.64997, acc = 0.57786\n",
      "get_pseudo_labels(...) activate ...\n",
      "pseudo set size : 381\n",
      "unlabeled set size : 6786\n",
      "training set size : 6541\n",
      "start training ...\n"
     ]
    },
    {
     "data": {
      "application/vnd.jupyter.widget-view+json": {
       "model_id": "606ed0baf4e541a59dbedf9943f0a9e6",
       "version_major": 2,
       "version_minor": 0
      },
      "text/plain": [
       "  0%|          | 0/52 [00:00<?, ?it/s]"
      ]
     },
     "metadata": {},
     "output_type": "display_data"
    },
    {
     "name": "stdout",
     "output_type": "stream",
     "text": [
      "[ Train | 046/060 ] loss = 0.00589, acc = 0.99925\n"
     ]
    },
    {
     "data": {
      "application/vnd.jupyter.widget-view+json": {
       "model_id": "7200e86e255b4d49ba1ba81ac526de82",
       "version_major": 2,
       "version_minor": 0
      },
      "text/plain": [
       "  0%|          | 0/6 [00:00<?, ?it/s]"
      ]
     },
     "metadata": {},
     "output_type": "display_data"
    },
    {
     "name": "stdout",
     "output_type": "stream",
     "text": [
      "[ Valid | 046/060 ] loss = 2.73089, acc = 0.57865\n",
      "get_pseudo_labels(...) activate ...\n",
      "pseudo set size : 383\n",
      "unlabeled set size : 6786\n",
      "training set size : 6543\n",
      "start training ...\n"
     ]
    },
    {
     "data": {
      "application/vnd.jupyter.widget-view+json": {
       "model_id": "86ae92f1acbd4477b9493224203faca3",
       "version_major": 2,
       "version_minor": 0
      },
      "text/plain": [
       "  0%|          | 0/52 [00:00<?, ?it/s]"
      ]
     },
     "metadata": {},
     "output_type": "display_data"
    },
    {
     "name": "stdout",
     "output_type": "stream",
     "text": [
      "[ Train | 047/060 ] loss = 0.00159, acc = 1.00000\n"
     ]
    },
    {
     "data": {
      "application/vnd.jupyter.widget-view+json": {
       "model_id": "b3502921aa4c4174bb897305f21ccfce",
       "version_major": 2,
       "version_minor": 0
      },
      "text/plain": [
       "  0%|          | 0/6 [00:00<?, ?it/s]"
      ]
     },
     "metadata": {},
     "output_type": "display_data"
    },
    {
     "name": "stdout",
     "output_type": "stream",
     "text": [
      "[ Valid | 047/060 ] loss = 2.65267, acc = 0.60130\n",
      "Saving model ... | Valid Accu : 0.60130\n",
      "get_pseudo_labels(...) activate ...\n",
      "pseudo set size : 383\n",
      "unlabeled set size : 6786\n",
      "training set size : 6543\n",
      "start training ...\n"
     ]
    },
    {
     "data": {
      "application/vnd.jupyter.widget-view+json": {
       "model_id": "61d5a92e37354a399a1c387d01c1b023",
       "version_major": 2,
       "version_minor": 0
      },
      "text/plain": [
       "  0%|          | 0/52 [00:00<?, ?it/s]"
      ]
     },
     "metadata": {},
     "output_type": "display_data"
    },
    {
     "name": "stdout",
     "output_type": "stream",
     "text": [
      "[ Train | 048/060 ] loss = 0.00110, acc = 1.00000\n"
     ]
    },
    {
     "data": {
      "application/vnd.jupyter.widget-view+json": {
       "model_id": "0e06feea725f4085afb55991181ea551",
       "version_major": 2,
       "version_minor": 0
      },
      "text/plain": [
       "  0%|          | 0/6 [00:00<?, ?it/s]"
      ]
     },
     "metadata": {},
     "output_type": "display_data"
    },
    {
     "name": "stdout",
     "output_type": "stream",
     "text": [
      "[ Valid | 048/060 ] loss = 2.73952, acc = 0.59479\n",
      "get_pseudo_labels(...) activate ...\n",
      "pseudo set size : 384\n",
      "unlabeled set size : 6786\n",
      "training set size : 6544\n",
      "start training ...\n"
     ]
    },
    {
     "data": {
      "application/vnd.jupyter.widget-view+json": {
       "model_id": "6a97f926f81f4944bc47460d060308f4",
       "version_major": 2,
       "version_minor": 0
      },
      "text/plain": [
       "  0%|          | 0/52 [00:00<?, ?it/s]"
      ]
     },
     "metadata": {},
     "output_type": "display_data"
    },
    {
     "name": "stdout",
     "output_type": "stream",
     "text": [
      "[ Train | 049/060 ] loss = 0.00435, acc = 0.99940\n"
     ]
    },
    {
     "data": {
      "application/vnd.jupyter.widget-view+json": {
       "model_id": "7a9b9cb15d644e7282a3b47984e630d7",
       "version_major": 2,
       "version_minor": 0
      },
      "text/plain": [
       "  0%|          | 0/6 [00:00<?, ?it/s]"
      ]
     },
     "metadata": {},
     "output_type": "display_data"
    },
    {
     "name": "stdout",
     "output_type": "stream",
     "text": [
      "[ Valid | 049/060 ] loss = 2.81789, acc = 0.57995\n",
      "get_pseudo_labels(...) activate ...\n",
      "pseudo set size : 383\n",
      "unlabeled set size : 6786\n",
      "training set size : 6543\n",
      "start training ...\n"
     ]
    },
    {
     "data": {
      "application/vnd.jupyter.widget-view+json": {
       "model_id": "cf446977879f46518bc063fcdce61469",
       "version_major": 2,
       "version_minor": 0
      },
      "text/plain": [
       "  0%|          | 0/52 [00:00<?, ?it/s]"
      ]
     },
     "metadata": {},
     "output_type": "display_data"
    },
    {
     "name": "stdout",
     "output_type": "stream",
     "text": [
      "[ Train | 050/060 ] loss = 0.00263, acc = 0.99955\n"
     ]
    },
    {
     "data": {
      "application/vnd.jupyter.widget-view+json": {
       "model_id": "d7f324e662c045fe89dd7f0c61b47187",
       "version_major": 2,
       "version_minor": 0
      },
      "text/plain": [
       "  0%|          | 0/6 [00:00<?, ?it/s]"
      ]
     },
     "metadata": {},
     "output_type": "display_data"
    },
    {
     "name": "stdout",
     "output_type": "stream",
     "text": [
      "[ Valid | 050/060 ] loss = 2.67021, acc = 0.59870\n",
      "get_pseudo_labels(...) activate ...\n",
      "pseudo set size : 384\n",
      "unlabeled set size : 6786\n",
      "training set size : 6544\n",
      "start training ...\n"
     ]
    },
    {
     "data": {
      "application/vnd.jupyter.widget-view+json": {
       "model_id": "ce17eadca2294354b736054df1b27e01",
       "version_major": 2,
       "version_minor": 0
      },
      "text/plain": [
       "  0%|          | 0/52 [00:00<?, ?it/s]"
      ]
     },
     "metadata": {},
     "output_type": "display_data"
    },
    {
     "name": "stdout",
     "output_type": "stream",
     "text": [
      "[ Train | 051/060 ] loss = 0.00109, acc = 1.00000\n"
     ]
    },
    {
     "data": {
      "application/vnd.jupyter.widget-view+json": {
       "model_id": "2188a68c580440b2935bb093b0f01008",
       "version_major": 2,
       "version_minor": 0
      },
      "text/plain": [
       "  0%|          | 0/6 [00:00<?, ?it/s]"
      ]
     },
     "metadata": {},
     "output_type": "display_data"
    },
    {
     "name": "stdout",
     "output_type": "stream",
     "text": [
      "[ Valid | 051/060 ] loss = 2.71713, acc = 0.60651\n",
      "Saving model ... | Valid Accu : 0.60651\n",
      "get_pseudo_labels(...) activate ...\n",
      "pseudo set size : 384\n",
      "unlabeled set size : 6786\n",
      "training set size : 6544\n",
      "start training ...\n"
     ]
    },
    {
     "data": {
      "application/vnd.jupyter.widget-view+json": {
       "model_id": "41e5c5c64b5d455fa398345574a9f726",
       "version_major": 2,
       "version_minor": 0
      },
      "text/plain": [
       "  0%|          | 0/52 [00:00<?, ?it/s]"
      ]
     },
     "metadata": {},
     "output_type": "display_data"
    },
    {
     "name": "stdout",
     "output_type": "stream",
     "text": [
      "[ Train | 052/060 ] loss = 0.00064, acc = 1.00000\n"
     ]
    },
    {
     "data": {
      "application/vnd.jupyter.widget-view+json": {
       "model_id": "158111f602cc48c1908e2815304474c0",
       "version_major": 2,
       "version_minor": 0
      },
      "text/plain": [
       "  0%|          | 0/6 [00:00<?, ?it/s]"
      ]
     },
     "metadata": {},
     "output_type": "display_data"
    },
    {
     "name": "stdout",
     "output_type": "stream",
     "text": [
      "[ Valid | 052/060 ] loss = 2.71553, acc = 0.60391\n",
      "get_pseudo_labels(...) activate ...\n",
      "pseudo set size : 384\n",
      "unlabeled set size : 6786\n",
      "training set size : 6544\n",
      "start training ...\n"
     ]
    },
    {
     "data": {
      "application/vnd.jupyter.widget-view+json": {
       "model_id": "492513cbb5244b05adf3c8c444d15a71",
       "version_major": 2,
       "version_minor": 0
      },
      "text/plain": [
       "  0%|          | 0/52 [00:00<?, ?it/s]"
      ]
     },
     "metadata": {},
     "output_type": "display_data"
    },
    {
     "name": "stdout",
     "output_type": "stream",
     "text": [
      "[ Train | 053/060 ] loss = 0.00077, acc = 1.00000\n"
     ]
    },
    {
     "data": {
      "application/vnd.jupyter.widget-view+json": {
       "model_id": "7df02a98e39948c5807688f2c8a750c1",
       "version_major": 2,
       "version_minor": 0
      },
      "text/plain": [
       "  0%|          | 0/6 [00:00<?, ?it/s]"
      ]
     },
     "metadata": {},
     "output_type": "display_data"
    },
    {
     "name": "stdout",
     "output_type": "stream",
     "text": [
      "[ Valid | 053/060 ] loss = 2.76824, acc = 0.58646\n",
      "get_pseudo_labels(...) activate ...\n",
      "pseudo set size : 384\n",
      "unlabeled set size : 6786\n",
      "training set size : 6544\n",
      "start training ...\n"
     ]
    },
    {
     "data": {
      "application/vnd.jupyter.widget-view+json": {
       "model_id": "e3f045851c294f64967b66f1a18f36b0",
       "version_major": 2,
       "version_minor": 0
      },
      "text/plain": [
       "  0%|          | 0/52 [00:00<?, ?it/s]"
      ]
     },
     "metadata": {},
     "output_type": "display_data"
    },
    {
     "name": "stdout",
     "output_type": "stream",
     "text": [
      "[ Train | 054/060 ] loss = 0.00153, acc = 0.99985\n"
     ]
    },
    {
     "data": {
      "application/vnd.jupyter.widget-view+json": {
       "model_id": "35d9cd646ccd40b1a71d81857408836c",
       "version_major": 2,
       "version_minor": 0
      },
      "text/plain": [
       "  0%|          | 0/6 [00:00<?, ?it/s]"
      ]
     },
     "metadata": {},
     "output_type": "display_data"
    },
    {
     "name": "stdout",
     "output_type": "stream",
     "text": [
      "[ Valid | 054/060 ] loss = 2.79774, acc = 0.59740\n",
      "get_pseudo_labels(...) activate ...\n",
      "pseudo set size : 384\n",
      "unlabeled set size : 6786\n",
      "training set size : 6544\n",
      "start training ...\n"
     ]
    },
    {
     "data": {
      "application/vnd.jupyter.widget-view+json": {
       "model_id": "fea2c7837367400fbabde2dd0370872d",
       "version_major": 2,
       "version_minor": 0
      },
      "text/plain": [
       "  0%|          | 0/52 [00:00<?, ?it/s]"
      ]
     },
     "metadata": {},
     "output_type": "display_data"
    },
    {
     "name": "stdout",
     "output_type": "stream",
     "text": [
      "[ Train | 055/060 ] loss = 0.00162, acc = 0.99985\n"
     ]
    },
    {
     "data": {
      "application/vnd.jupyter.widget-view+json": {
       "model_id": "c14eea1e7dbe4de6b71bc71c054cc013",
       "version_major": 2,
       "version_minor": 0
      },
      "text/plain": [
       "  0%|          | 0/6 [00:00<?, ?it/s]"
      ]
     },
     "metadata": {},
     "output_type": "display_data"
    },
    {
     "name": "stdout",
     "output_type": "stream",
     "text": [
      "[ Valid | 055/060 ] loss = 2.75914, acc = 0.59870\n",
      "get_pseudo_labels(...) activate ...\n",
      "pseudo set size : 383\n",
      "unlabeled set size : 6786\n",
      "training set size : 6543\n",
      "start training ...\n"
     ]
    },
    {
     "data": {
      "application/vnd.jupyter.widget-view+json": {
       "model_id": "c338991b867346acb923df89350e12f0",
       "version_major": 2,
       "version_minor": 0
      },
      "text/plain": [
       "  0%|          | 0/52 [00:00<?, ?it/s]"
      ]
     },
     "metadata": {},
     "output_type": "display_data"
    },
    {
     "name": "stdout",
     "output_type": "stream",
     "text": [
      "[ Train | 056/060 ] loss = 0.00073, acc = 1.00000\n"
     ]
    },
    {
     "data": {
      "application/vnd.jupyter.widget-view+json": {
       "model_id": "2d4d2f75abb346e89a298a0a801e41fd",
       "version_major": 2,
       "version_minor": 0
      },
      "text/plain": [
       "  0%|          | 0/6 [00:00<?, ?it/s]"
      ]
     },
     "metadata": {},
     "output_type": "display_data"
    },
    {
     "name": "stdout",
     "output_type": "stream",
     "text": [
      "[ Valid | 056/060 ] loss = 2.77451, acc = 0.60260\n",
      "get_pseudo_labels(...) activate ...\n",
      "pseudo set size : 384\n",
      "unlabeled set size : 6786\n",
      "training set size : 6544\n",
      "start training ...\n"
     ]
    },
    {
     "data": {
      "application/vnd.jupyter.widget-view+json": {
       "model_id": "0c1e5b22a7d64a88a5d60d07639d9651",
       "version_major": 2,
       "version_minor": 0
      },
      "text/plain": [
       "  0%|          | 0/52 [00:00<?, ?it/s]"
      ]
     },
     "metadata": {},
     "output_type": "display_data"
    },
    {
     "name": "stdout",
     "output_type": "stream",
     "text": [
      "[ Train | 057/060 ] loss = 0.00046, acc = 1.00000\n"
     ]
    },
    {
     "data": {
      "application/vnd.jupyter.widget-view+json": {
       "model_id": "9ea02c4a7e914747b98865e84d211865",
       "version_major": 2,
       "version_minor": 0
      },
      "text/plain": [
       "  0%|          | 0/6 [00:00<?, ?it/s]"
      ]
     },
     "metadata": {},
     "output_type": "display_data"
    },
    {
     "name": "stdout",
     "output_type": "stream",
     "text": [
      "[ Valid | 057/060 ] loss = 2.78906, acc = 0.59870\n",
      "get_pseudo_labels(...) activate ...\n",
      "pseudo set size : 384\n",
      "unlabeled set size : 6786\n",
      "training set size : 6544\n",
      "start training ...\n"
     ]
    },
    {
     "data": {
      "application/vnd.jupyter.widget-view+json": {
       "model_id": "738c0adccf494b8fb00fadf514f77186",
       "version_major": 2,
       "version_minor": 0
      },
      "text/plain": [
       "  0%|          | 0/52 [00:00<?, ?it/s]"
      ]
     },
     "metadata": {},
     "output_type": "display_data"
    },
    {
     "name": "stdout",
     "output_type": "stream",
     "text": [
      "[ Train | 058/060 ] loss = 0.00052, acc = 1.00000\n"
     ]
    },
    {
     "data": {
      "application/vnd.jupyter.widget-view+json": {
       "model_id": "05f5c4e7d8de48058c89e7b223163a94",
       "version_major": 2,
       "version_minor": 0
      },
      "text/plain": [
       "  0%|          | 0/6 [00:00<?, ?it/s]"
      ]
     },
     "metadata": {},
     "output_type": "display_data"
    },
    {
     "name": "stdout",
     "output_type": "stream",
     "text": [
      "[ Valid | 058/060 ] loss = 2.80439, acc = 0.60130\n",
      "get_pseudo_labels(...) activate ...\n",
      "pseudo set size : 384\n",
      "unlabeled set size : 6786\n",
      "training set size : 6544\n",
      "start training ...\n"
     ]
    },
    {
     "data": {
      "application/vnd.jupyter.widget-view+json": {
       "model_id": "f4fad8e222284803bd56f64c0c575540",
       "version_major": 2,
       "version_minor": 0
      },
      "text/plain": [
       "  0%|          | 0/52 [00:00<?, ?it/s]"
      ]
     },
     "metadata": {},
     "output_type": "display_data"
    },
    {
     "name": "stdout",
     "output_type": "stream",
     "text": [
      "[ Train | 059/060 ] loss = 0.00049, acc = 1.00000\n"
     ]
    },
    {
     "data": {
      "application/vnd.jupyter.widget-view+json": {
       "model_id": "0769e047b03a4f6dbdd67541a5a7b726",
       "version_major": 2,
       "version_minor": 0
      },
      "text/plain": [
       "  0%|          | 0/6 [00:00<?, ?it/s]"
      ]
     },
     "metadata": {},
     "output_type": "display_data"
    },
    {
     "name": "stdout",
     "output_type": "stream",
     "text": [
      "[ Valid | 059/060 ] loss = 2.81208, acc = 0.60521\n",
      "get_pseudo_labels(...) activate ...\n",
      "pseudo set size : 384\n",
      "unlabeled set size : 6786\n",
      "training set size : 6544\n",
      "start training ...\n"
     ]
    },
    {
     "data": {
      "application/vnd.jupyter.widget-view+json": {
       "model_id": "4dc656d672f44a20b87140d7b1b2c4ce",
       "version_major": 2,
       "version_minor": 0
      },
      "text/plain": [
       "  0%|          | 0/52 [00:00<?, ?it/s]"
      ]
     },
     "metadata": {},
     "output_type": "display_data"
    },
    {
     "name": "stdout",
     "output_type": "stream",
     "text": [
      "[ Train | 060/060 ] loss = 0.00038, acc = 1.00000\n"
     ]
    },
    {
     "data": {
      "application/vnd.jupyter.widget-view+json": {
       "model_id": "4d286a5243944489847b15ade06b10f1",
       "version_major": 2,
       "version_minor": 0
      },
      "text/plain": [
       "  0%|          | 0/6 [00:00<?, ?it/s]"
      ]
     },
     "metadata": {},
     "output_type": "display_data"
    },
    {
     "name": "stdout",
     "output_type": "stream",
     "text": [
      "[ Valid | 060/060 ] loss = 2.81332, acc = 0.59609\n"
     ]
    }
   ],
   "source": [
    "do_semi = True\n",
    "n_epochs = 60 # number of training epochs\n",
    "\n",
    "device = (\n",
    "    \"cuda\"\n",
    "    if torch.cuda.is_available()\n",
    "    else \"mps\"\n",
    "    if torch.backends.mps.is_available()\n",
    "    else \"cpu\"\n",
    ")\n",
    "print(f\"device : {device}\")\n",
    "\n",
    "# initialize a model, and put it on the device specified\n",
    "model = Food11_ImgClassifier().to(device)\n",
    "model.device = device\n",
    "\n",
    "# criterion and optimizer\n",
    "criterion = nn.CrossEntropyLoss()\n",
    "optimizer = torch.optim.Adam(model.parameters(), lr=3e-4, weight_decay=1e-5) # fine-tune some hyperparameters for better performance\n",
    "\n",
    "# plotting\n",
    "epoch_loss = {\"train\" : [], \"valid\" : []}\n",
    "epoch_accu = {\"train\" : [], \"valid\" : []}\n",
    "\n",
    "# model check point\n",
    "model_ckpt_path = \"./model.ckpt\"\n",
    "best_accu = 0.0\n",
    "\n",
    "# start training\n",
    "for epoch in range(n_epochs):\n",
    "\n",
    "    # In each epoch, relabel the unlabeled dataset for semi-supervised learning.\n",
    "    # Then you can combine the labeled dataset and pseudo-labeled dataset for the training.\n",
    "    if do_semi:\n",
    "        # obtain pseudo-labels for unlabeled data using trained model\n",
    "        pseudo_lb_dataset = get_pseudo_labels(train_unlb_dataset, model, batch_size, device)\n",
    "        concat_dataset = ConcatDataset([train_lb_dataset, pseudo_lb_dataset])\n",
    "        train_loader = DataLoader(concat_dataset, batch_size=batch_size, shuffle=True, num_workers=0, pin_memory=True)\n",
    "        print(f\"pseudo set size : {len(pseudo_lb_dataset)}\")\n",
    "        print(f\"unlabeled set size : {len(train_unlb_dataset)}\")\n",
    "        print(f\"training set size : {len(concat_dataset)}\")\n",
    "\n",
    "    # ----------Training----------\n",
    "    model.train()\n",
    "\n",
    "    train_loss = []\n",
    "    train_accs = []\n",
    "\n",
    "    print(\"start training ...\")\n",
    "\n",
    "    for batch in tqdm(train_loader):\n",
    "        \n",
    "        imgs, labels = batch\n",
    "\n",
    "        # forward the data\n",
    "        logits = model(imgs.to(device))\n",
    "\n",
    "        # no need to apply softmax before computing cross-entropy as it is done automatically\n",
    "        loss = criterion(logits, labels.to(device))\n",
    "\n",
    "        # gradients stored in the parameters in the previous step should be cleared\n",
    "        optimizer.zero_grad()\n",
    "\n",
    "        # compute the gradients for parameters\n",
    "        loss.backward()\n",
    "\n",
    "        # clip the gradient norms for stable training\n",
    "        grad_norm = nn.utils.clip_grad_norm_(model.parameters(), max_norm=10)\n",
    "\n",
    "        # update the parameters with computed gradients\n",
    "        optimizer.step()\n",
    "\n",
    "        acc = (logits.argmax(dim=-1) == labels.to(device)).cpu().float().mean()\n",
    "        train_loss.append(loss.cpu().item())\n",
    "        train_accs.append(acc)\n",
    "    \n",
    "    train_loss = sum(train_loss) / len(train_loss)\n",
    "    train_accu = sum(train_accs) / len(train_accs)\n",
    "\n",
    "    print(f\"[ Train | {epoch + 1:03d}/{n_epochs:03d} ] loss = {train_loss:.5f}, acc = {train_accu:.5f}\")\n",
    "\n",
    "    # ----------Validation----------\n",
    "    model.eval()\n",
    "\n",
    "    valid_loss = []\n",
    "    valid_accs = []\n",
    "\n",
    "    for batch in tqdm(valid_loader):\n",
    "        imgs, labels = batch\n",
    "\n",
    "        with torch.no_grad():\n",
    "            logits = model(imgs.to(device))\n",
    "\n",
    "        loss = criterion(logits, labels.to(device))\n",
    "        acc = (logits.argmax(dim=-1) == labels.to(device)).cpu().float().mean()\n",
    "\n",
    "        valid_loss.append(loss.cpu().item())\n",
    "        valid_accs.append(acc)\n",
    "\n",
    "    valid_loss = sum(valid_loss) / len(valid_loss)\n",
    "    valid_accu = sum(valid_accs) / len(valid_accs)\n",
    "\n",
    "    print(f\"[ Valid | {epoch + 1:03d}/{n_epochs:03d} ] loss = {valid_loss:.5f}, acc = {valid_accu:.5f}\")\n",
    "\n",
    "    # check point\n",
    "    if valid_accu > best_accu:\n",
    "        best_accu = valid_accu\n",
    "        torch.save(model.state_dict(), model_ckpt_path)\n",
    "        print(f\"Saving model ... | Valid Accu : {valid_accu:.5f}\")\n",
    "        \n",
    "    # record loss and accuracy in each epoch\n",
    "    epoch_loss[\"train\"].append(train_loss)\n",
    "    epoch_accu[\"train\"].append(train_accu)\n",
    "    \n",
    "    epoch_loss[\"valid\"].append(valid_loss)\n",
    "    epoch_accu[\"valid\"].append(valid_accu)\n",
    "\n"
   ]
  },
  {
   "cell_type": "markdown",
   "metadata": {},
   "source": [
    "## **Plotting**"
   ]
  },
  {
   "cell_type": "code",
   "execution_count": 6,
   "metadata": {},
   "outputs": [
    {
     "data": {
      "image/png": "[encoded data removed]",
      "text/plain": [
       "<Figure size 600x1200 with 2 Axes>"
      ]
     },
     "metadata": {},
     "output_type": "display_data"
    }
   ],
   "source": [
    "'''\n",
    "# testing\n",
    "import matplotlib.pyplot as plt\n",
    "\n",
    "n_epochs = 4\n",
    "epoch_loss = {\"train\" : [], \"valid\" : []}\n",
    "epoch_accu = {\"train\" : [], \"valid\" : []}\n",
    "epoch_loss[\"train\"] = [.1, .2, .3, .4]\n",
    "epoch_accu[\"train\"] = [.2, .4, .5, .7]\n",
    "epoch_loss[\"valid\"] = [.15, .25, .35, .45]\n",
    "epoch_accu[\"valid\"] = [.25, .45, .55, .75]\n",
    "'''\n",
    "\n",
    "# Plot two figures (epoch loss and epoch accuracy) in one figure\n",
    "rows, cols = 2, 1\n",
    "\n",
    "# Base figure\n",
    "figure = plt.figure(figsize=(6, 12))\n",
    "\n",
    "'''# copy data back to cpu\n",
    "for i in range(n_epochs):\n",
    "    epoch_loss[\"train\"][i] = epoch_loss[\"train\"][i].cpu()\n",
    "    epoch_accu[\"train\"][i] = epoch_accu[\"train\"][i].cpu()\n",
    "    epoch_loss[\"valid\"][i] = epoch_loss[\"valid\"][i].cpu()\n",
    "    epoch_accu[\"valid\"][i] = epoch_accu[\"valid\"][i].cpu()\n",
    "'''\n",
    "\n",
    "epoch_plt = [epoch_loss, epoch_accu]\n",
    "y_limit = [5.0, 1.0]\n",
    "y_label = [\"loss\", \"accuracy\"]\n",
    "    \n",
    "for i in range(2):\n",
    "    x_1 = x_2 = range(n_epochs)\n",
    "    figure.add_subplot(rows, cols, i + 1)\n",
    "    plt.plot(x_1, epoch_plt[i][\"train\"], c=\"tab:red\", label=\"train\")\n",
    "    plt.plot(x_2, epoch_plt[i][\"valid\"], c=\"tab:cyan\", label=\"valid\")\n",
    "    plt.ylim(0.0, y_limit[i])\n",
    "    plt.xlabel(\"epoch\")\n",
    "    plt.ylabel(y_label[i])\n",
    "    plt.title(\"Training vs Validation\")\n",
    "\n",
    "plt.show()\n",
    "\n",
    "    \n",
    "\n"
   ]
  },
  {
   "cell_type": "markdown",
   "metadata": {},
   "source": [
    "## **Reference**\n",
    "**This is a modification code from ML2021 HW2-1**\n",
    "* Source: https://speech.ee.ntu.edu.tw/~hylee/ml/2021-spring.php"
   ]
  }
 ],
 "metadata": {
  "kernelspec": {
   "display_name": "complexa_ML21_3a",
   "language": "python",
   "name": "python3"
  },
  "language_info": {
   "codemirror_mode": {
    "name": "ipython",
    "version": 3
   },
   "file_extension": ".py",
   "mimetype": "text/x-python",
   "name": "python",
   "nbconvert_exporter": "python",
   "pygments_lexer": "ipython3",
   "version": "3.10.13"
  }
 },
 "nbformat": 4,
 "nbformat_minor": 2
}
