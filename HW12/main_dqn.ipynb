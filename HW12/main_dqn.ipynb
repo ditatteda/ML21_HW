{
  "cells": [
    {
      "cell_type": "markdown",
      "metadata": {
        "id": "wP07a4oyyrm_"
      },
      "source": [
        "# HW12 Reinforcement Learning - DQN\n",
        "\n",
        "There are two parts of training:\n",
        "- Policy Gradient (in the Pre-Training cell)\n",
        "- DQN\n",
        "\n",
        "Note that, it can skip Policy Gradient part.\n",
        "\n",
        "resource:\n",
        "- https://pytorch.org/tutorials/intermediate/reinforcement_q_learning.html\n",
        "- https://speech.ee.ntu.edu.tw/~hylee/ml/2023-spring.php\n",
        "- https://speech.ee.ntu.edu.tw/~hylee/ml/2021-spring.php"
      ]
    },
    {
      "cell_type": "markdown",
      "metadata": {
        "id": "SyAPyOzRy2RN"
      },
      "source": [
        "# Preliminary work"
      ]
    },
    {
      "cell_type": "markdown",
      "metadata": {},
      "source": [
        "## Colab Mount Drive"
      ]
    },
    {
      "cell_type": "code",
      "execution_count": null,
      "metadata": {},
      "outputs": [],
      "source": [
        "from google.colab import drive\n",
        "drive.mount('/content/drive')"
      ]
    },
    {
      "cell_type": "markdown",
      "metadata": {
        "id": "SjTz289u04Mp"
      },
      "source": [
        "## Install Packages"
      ]
    },
    {
      "cell_type": "code",
      "execution_count": null,
      "metadata": {
        "colab": {
          "base_uri": "https://localhost:8080/"
        },
        "id": "B5Yd0Tkvyk0o",
        "outputId": "f13af8ca-22e5-4e2c-a347-cb23bdc5b221"
      },
      "outputs": [
        {
          "name": "stdout",
          "output_type": "stream",
          "text": [
            "\u001b[33m\r0% [Working]\u001b[0m\r            \rHit:1 http://archive.ubuntu.com/ubuntu jammy InRelease\n",
            "\u001b[33m\r0% [Waiting for headers] [Connecting to security.ubuntu.com (185.125.190.36)] [Connected to cloud.r-\u001b[0m\r                                                                                                    \rGet:2 http://archive.ubuntu.com/ubuntu jammy-updates InRelease [119 kB]\n",
            "\u001b[33m\r0% [2 InRelease 5,484 B/119 kB 5%] [Waiting for headers] [Waiting for headers] [Connecting to ppa.la\u001b[0m\r                                                                                                    \rGet:3 https://cloud.r-project.org/bin/linux/ubuntu jammy-cran40/ InRelease [3,626 B]\n",
            "\u001b[33m\r0% [2 InRelease 27.2 kB/119 kB 23%] [Waiting for headers] [Connected to ppa.launchpadcontent.net (18\u001b[0m\r                                                                                                    \rHit:4 https://developer.download.nvidia.com/compute/cuda/repos/ubuntu2204/x86_64  InRelease\n",
            "\u001b[33m\r0% [2 InRelease 38.8 kB/119 kB 33%] [Waiting for headers] [Connected to ppa.launchpadcontent.net (18\u001b[0m\u001b[33m\r                                                                                                    \r0% [Waiting for headers] [Connected to ppa.launchpadcontent.net (185.125.190.80)]\u001b[0m\r                                                                                 \rGet:5 http://security.ubuntu.com/ubuntu jammy-security InRelease [110 kB]\n",
            "Hit:6 http://archive.ubuntu.com/ubuntu jammy-backports InRelease\n",
            "Hit:7 https://ppa.launchpadcontent.net/c2d4u.team/c2d4u4.0+/ubuntu jammy InRelease\n",
            "Get:8 https://ppa.launchpadcontent.net/deadsnakes/ppa/ubuntu jammy InRelease [18.1 kB]\n",
            "Hit:9 https://ppa.launchpadcontent.net/graphics-drivers/ppa/ubuntu jammy InRelease\n",
            "Hit:10 https://ppa.launchpadcontent.net/ubuntugis/ppa/ubuntu jammy InRelease\n",
            "Get:11 http://archive.ubuntu.com/ubuntu jammy-updates/restricted amd64 Packages [2,161 kB]\n",
            "Get:12 http://archive.ubuntu.com/ubuntu jammy-updates/main amd64 Packages [1,966 kB]\n",
            "Get:13 http://archive.ubuntu.com/ubuntu jammy-updates/multiverse amd64 Packages [61.2 kB]\n",
            "Get:14 http://archive.ubuntu.com/ubuntu jammy-updates/universe amd64 Packages [1,357 kB]\n",
            "Get:15 http://security.ubuntu.com/ubuntu jammy-security/main amd64 Packages [1,641 kB]\n",
            "Get:16 https://ppa.launchpadcontent.net/deadsnakes/ppa/ubuntu jammy/main amd64 Packages [27.7 kB]\n",
            "Get:17 http://security.ubuntu.com/ubuntu jammy-security/universe amd64 Packages [1,081 kB]\n",
            "Fetched 8,547 kB in 3s (2,992 kB/s)\n",
            "Reading package lists... Done\n",
            "Building dependency tree... Done\n",
            "Reading state information... Done\n",
            "46 packages can be upgraded. Run 'apt list --upgradable' to see them.\n",
            "Reading package lists... Done\n",
            "Building dependency tree... Done\n",
            "Reading state information... Done\n",
            "The following additional packages will be installed:\n",
            "  freeglut3 libfontenc1 libglu1-mesa libxfont2 libxkbfile1 x11-xkb-utils xfonts-base\n",
            "  xfonts-encodings xfonts-utils xserver-common\n",
            "Suggested packages:\n",
            "  libgle3 python3-numpy\n",
            "The following NEW packages will be installed:\n",
            "  freeglut3 libfontenc1 libglu1-mesa libxfont2 libxkbfile1 python3-opengl x11-xkb-utils xfonts-base\n",
            "  xfonts-encodings xfonts-utils xserver-common xvfb\n",
            "0 upgraded, 12 newly installed, 0 to remove and 46 not upgraded.\n",
            "Need to get 8,640 kB of archives.\n",
            "After this operation, 20.0 MB of additional disk space will be used.\n",
            "Get:1 http://archive.ubuntu.com/ubuntu jammy/universe amd64 freeglut3 amd64 2.8.1-6 [74.0 kB]\n",
            "Get:2 http://archive.ubuntu.com/ubuntu jammy/main amd64 libfontenc1 amd64 1:1.1.4-1build3 [14.7 kB]\n",
            "Get:3 http://archive.ubuntu.com/ubuntu jammy/main amd64 libxfont2 amd64 1:2.0.5-1build1 [94.5 kB]\n",
            "Get:4 http://archive.ubuntu.com/ubuntu jammy/main amd64 libxkbfile1 amd64 1:1.1.0-1build3 [71.8 kB]\n",
            "Get:5 http://archive.ubuntu.com/ubuntu jammy/main amd64 libglu1-mesa amd64 9.0.2-1 [145 kB]\n",
            "Get:6 http://archive.ubuntu.com/ubuntu jammy/universe amd64 python3-opengl all 3.1.5+dfsg-1 [605 kB]\n",
            "Get:7 http://archive.ubuntu.com/ubuntu jammy/main amd64 x11-xkb-utils amd64 7.7+5build4 [172 kB]\n",
            "Get:8 http://archive.ubuntu.com/ubuntu jammy/main amd64 xfonts-encodings all 1:1.0.5-0ubuntu2 [578 kB]\n",
            "Get:9 http://archive.ubuntu.com/ubuntu jammy/main amd64 xfonts-utils amd64 1:7.7+6build2 [94.6 kB]\n",
            "Get:10 http://archive.ubuntu.com/ubuntu jammy/main amd64 xfonts-base all 1:1.0.5 [5,896 kB]\n",
            "Get:11 http://archive.ubuntu.com/ubuntu jammy-updates/main amd64 xserver-common all 2:21.1.4-2ubuntu1.7~22.04.9 [28.5 kB]\n",
            "Get:12 http://archive.ubuntu.com/ubuntu jammy-updates/universe amd64 xvfb amd64 2:21.1.4-2ubuntu1.7~22.04.9 [865 kB]\n",
            "Fetched 8,640 kB in 0s (25.3 MB/s)\n",
            "Selecting previously unselected package freeglut3:amd64.\n",
            "(Reading database ... 121753 files and directories currently installed.)\n",
            "Preparing to unpack .../00-freeglut3_2.8.1-6_amd64.deb ...\n",
            "Unpacking freeglut3:amd64 (2.8.1-6) ...\n",
            "Selecting previously unselected package libfontenc1:amd64.\n",
            "Preparing to unpack .../01-libfontenc1_1%3a1.1.4-1build3_amd64.deb ...\n",
            "Unpacking libfontenc1:amd64 (1:1.1.4-1build3) ...\n",
            "Selecting previously unselected package libxfont2:amd64.\n",
            "Preparing to unpack .../02-libxfont2_1%3a2.0.5-1build1_amd64.deb ...\n",
            "Unpacking libxfont2:amd64 (1:2.0.5-1build1) ...\n",
            "Selecting previously unselected package libxkbfile1:amd64.\n",
            "Preparing to unpack .../03-libxkbfile1_1%3a1.1.0-1build3_amd64.deb ...\n",
            "Unpacking libxkbfile1:amd64 (1:1.1.0-1build3) ...\n",
            "Selecting previously unselected package libglu1-mesa:amd64.\n",
            "Preparing to unpack .../04-libglu1-mesa_9.0.2-1_amd64.deb ...\n",
            "Unpacking libglu1-mesa:amd64 (9.0.2-1) ...\n",
            "Selecting previously unselected package python3-opengl.\n",
            "Preparing to unpack .../05-python3-opengl_3.1.5+dfsg-1_all.deb ...\n",
            "Unpacking python3-opengl (3.1.5+dfsg-1) ...\n",
            "Selecting previously unselected package x11-xkb-utils.\n",
            "Preparing to unpack .../06-x11-xkb-utils_7.7+5build4_amd64.deb ...\n",
            "Unpacking x11-xkb-utils (7.7+5build4) ...\n",
            "Selecting previously unselected package xfonts-encodings.\n",
            "Preparing to unpack .../07-xfonts-encodings_1%3a1.0.5-0ubuntu2_all.deb ...\n",
            "Unpacking xfonts-encodings (1:1.0.5-0ubuntu2) ...\n",
            "Selecting previously unselected package xfonts-utils.\n",
            "Preparing to unpack .../08-xfonts-utils_1%3a7.7+6build2_amd64.deb ...\n",
            "Unpacking xfonts-utils (1:7.7+6build2) ...\n",
            "Selecting previously unselected package xfonts-base.\n",
            "Preparing to unpack .../09-xfonts-base_1%3a1.0.5_all.deb ...\n",
            "Unpacking xfonts-base (1:1.0.5) ...\n",
            "Selecting previously unselected package xserver-common.\n",
            "Preparing to unpack .../10-xserver-common_2%3a21.1.4-2ubuntu1.7~22.04.9_all.deb ...\n",
            "Unpacking xserver-common (2:21.1.4-2ubuntu1.7~22.04.9) ...\n",
            "Selecting previously unselected package xvfb.\n",
            "Preparing to unpack .../11-xvfb_2%3a21.1.4-2ubuntu1.7~22.04.9_amd64.deb ...\n",
            "Unpacking xvfb (2:21.1.4-2ubuntu1.7~22.04.9) ...\n",
            "Setting up freeglut3:amd64 (2.8.1-6) ...\n",
            "Setting up libfontenc1:amd64 (1:1.1.4-1build3) ...\n",
            "Setting up xfonts-encodings (1:1.0.5-0ubuntu2) ...\n",
            "Setting up libglu1-mesa:amd64 (9.0.2-1) ...\n",
            "Setting up libxkbfile1:amd64 (1:1.1.0-1build3) ...\n",
            "Setting up libxfont2:amd64 (1:2.0.5-1build1) ...\n",
            "Setting up x11-xkb-utils (7.7+5build4) ...\n",
            "Setting up python3-opengl (3.1.5+dfsg-1) ...\n",
            "Setting up xfonts-utils (1:7.7+6build2) ...\n",
            "Setting up xfonts-base (1:1.0.5) ...\n",
            "Setting up xserver-common (2:21.1.4-2ubuntu1.7~22.04.9) ...\n",
            "Setting up xvfb (2:21.1.4-2ubuntu1.7~22.04.9) ...\n",
            "Processing triggers for man-db (2.10.2-1) ...\n",
            "Processing triggers for fontconfig (2.13.1-4.2ubuntu5) ...\n",
            "Processing triggers for libc-bin (2.35-0ubuntu3.4) ...\n",
            "/sbin/ldconfig.real: /usr/local/lib/libtbbmalloc.so.2 is not a symbolic link\n",
            "\n",
            "/sbin/ldconfig.real: /usr/local/lib/libtbbmalloc_proxy.so.2 is not a symbolic link\n",
            "\n",
            "/sbin/ldconfig.real: /usr/local/lib/libtbbbind_2_0.so.3 is not a symbolic link\n",
            "\n",
            "/sbin/ldconfig.real: /usr/local/lib/libtbbbind_2_5.so.3 is not a symbolic link\n",
            "\n",
            "/sbin/ldconfig.real: /usr/local/lib/libtbb.so.12 is not a symbolic link\n",
            "\n",
            "/sbin/ldconfig.real: /usr/local/lib/libtbbbind.so.3 is not a symbolic link\n",
            "\n",
            "Reading package lists...\n",
            "Building dependency tree...\n",
            "Reading state information...\n",
            "The following additional packages will be installed:\n",
            "  swig4.0\n",
            "Suggested packages:\n",
            "  swig-doc swig-examples swig4.0-examples swig4.0-doc\n",
            "The following NEW packages will be installed:\n",
            "  swig swig4.0\n",
            "0 upgraded, 2 newly installed, 0 to remove and 46 not upgraded.\n",
            "Need to get 1,116 kB of archives.\n",
            "After this operation, 5,542 kB of additional disk space will be used.\n",
            "Get:1 http://archive.ubuntu.com/ubuntu jammy/universe amd64 swig4.0 amd64 4.0.2-1ubuntu1 [1,110 kB]\n",
            "Get:2 http://archive.ubuntu.com/ubuntu jammy/universe amd64 swig all 4.0.2-1ubuntu1 [5,632 B]\n",
            "Fetched 1,116 kB in 0s (4,533 kB/s)\n",
            "Selecting previously unselected package swig4.0.\n",
            "(Reading database ... 125400 files and directories currently installed.)\n",
            "Preparing to unpack .../swig4.0_4.0.2-1ubuntu1_amd64.deb ...\n",
            "Unpacking swig4.0 (4.0.2-1ubuntu1) ...\n",
            "Selecting previously unselected package swig.\n",
            "Preparing to unpack .../swig_4.0.2-1ubuntu1_all.deb ...\n",
            "Unpacking swig (4.0.2-1ubuntu1) ...\n",
            "Setting up swig4.0 (4.0.2-1ubuntu1) ...\n",
            "Setting up swig (4.0.2-1ubuntu1) ...\n",
            "Processing triggers for man-db (2.10.2-1) ...\n",
            "Requirement already satisfied: gym[box2d] in /usr/local/lib/python3.10/dist-packages (0.25.2)\n",
            "Collecting pyvirtualdisplay\n",
            "  Downloading PyVirtualDisplay-3.0-py3-none-any.whl (15 kB)\n",
            "Requirement already satisfied: numpy>=1.18.0 in /usr/local/lib/python3.10/dist-packages (from gym[box2d]) (1.25.2)\n",
            "Requirement already satisfied: cloudpickle>=1.2.0 in /usr/local/lib/python3.10/dist-packages (from gym[box2d]) (2.2.1)\n",
            "Requirement already satisfied: gym-notices>=0.0.4 in /usr/local/lib/python3.10/dist-packages (from gym[box2d]) (0.0.8)\n",
            "Collecting box2d-py==2.3.5 (from gym[box2d])\n",
            "  Downloading box2d-py-2.3.5.tar.gz (374 kB)\n",
            "\u001b[2K     \u001b[90m━━━━━━━━━━━━━━━━━━━━━━━━━━━━━━━━━━━━━━━━\u001b[0m \u001b[32m374.4/374.4 kB\u001b[0m \u001b[31m6.8 MB/s\u001b[0m eta \u001b[36m0:00:00\u001b[0m\n",
            "\u001b[?25h  Preparing metadata (setup.py) ... \u001b[?25l\u001b[?25hdone\n",
            "Collecting pygame==2.1.0 (from gym[box2d])\n",
            "  Downloading pygame-2.1.0-cp310-cp310-manylinux_2_17_x86_64.manylinux2014_x86_64.whl (18.3 MB)\n",
            "\u001b[2K     \u001b[90m━━━━━━━━━━━━━━━━━━━━━━━━━━━━━━━━━━━━━━━━\u001b[0m \u001b[32m18.3/18.3 MB\u001b[0m \u001b[31m24.6 MB/s\u001b[0m eta \u001b[36m0:00:00\u001b[0m\n",
            "\u001b[?25hCollecting swig==4.* (from gym[box2d])\n",
            "  Downloading swig-4.2.1-py2.py3-none-manylinux_2_5_x86_64.manylinux1_x86_64.whl (1.9 MB)\n",
            "\u001b[2K     \u001b[90m━━━━━━━━━━━━━━━━━━━━━━━━━━━━━━━━━━━━━━━━\u001b[0m \u001b[32m1.9/1.9 MB\u001b[0m \u001b[31m50.0 MB/s\u001b[0m eta \u001b[36m0:00:00\u001b[0m\n",
            "\u001b[?25hBuilding wheels for collected packages: box2d-py\n",
            "  Building wheel for box2d-py (setup.py) ... \u001b[?25l\u001b[?25hdone\n",
            "  Created wheel for box2d-py: filename=box2d_py-2.3.5-cp310-cp310-linux_x86_64.whl size=2349115 sha256=511e92b0041b7fccc77210fa07661a857ceed6464b719b1cc633dd7fa0395b56\n",
            "  Stored in directory: /root/.cache/pip/wheels/db/8f/6a/eaaadf056fba10a98d986f6dce954e6201ba3126926fc5ad9e\n",
            "Successfully built box2d-py\n",
            "Installing collected packages: swig, pyvirtualdisplay, box2d-py, pygame\n",
            "  Attempting uninstall: pygame\n",
            "    Found existing installation: pygame 2.5.2\n",
            "    Uninstalling pygame-2.5.2:\n",
            "      Successfully uninstalled pygame-2.5.2\n",
            "Successfully installed box2d-py-2.3.5 pygame-2.1.0 pyvirtualdisplay-3.0 swig-4.2.1\n"
          ]
        }
      ],
      "source": [
        "!apt update\n",
        "!apt install python3-opengl xvfb -y\n",
        "!apt install -q swig\n",
        "!pip install gym[box2d] pyvirtualdisplay"
      ]
    },
    {
      "cell_type": "markdown",
      "metadata": {
        "id": "Y_l26g5Q07Mp"
      },
      "source": [
        "## Set up Virtual displayer"
      ]
    },
    {
      "cell_type": "code",
      "execution_count": null,
      "metadata": {
        "id": "0AaCck4a1DKf"
      },
      "outputs": [],
      "source": [
        "# Store the output of this cell into variable 'captured_output' instead of\n",
        "#   printing out.\n",
        "%%capture captured_output\n",
        "from pyvirtualdisplay import Display\n",
        "virtual_display = Display(visible=False, size=(1400, 900))\n",
        "virtual_display.start()\n"
      ]
    },
    {
      "cell_type": "markdown",
      "metadata": {
        "id": "gFXa1rkMDMtb"
      },
      "source": [
        "# Environment and Seed"
      ]
    },
    {
      "cell_type": "code",
      "execution_count": null,
      "metadata": {
        "id": "Xv1OOuP2DPgF"
      },
      "outputs": [],
      "source": [
        "import gym\n",
        "import random\n",
        "import torch\n",
        "import numpy as np\n",
        "\n",
        "\n",
        "def create_env(env_name):\n",
        "    return gym.make(env_name)\n",
        "\n",
        "def fix_seed(env, seed):\n",
        "    env.seed(seed)\n",
        "    env.action_space.seed(seed)\n",
        "    torch.backends.cudnn.deterministic = True\n",
        "    torch.backends.cudnn.benchmark = False\n",
        "    np.random.seed(seed)\n",
        "    torch.manual_seed(seed)\n",
        "    if torch.cuda.is_available():\n",
        "        torch.cuda.manual_seed_all(seed)"
      ]
    },
    {
      "cell_type": "markdown",
      "metadata": {
        "id": "fFzj2z-IBudv"
      },
      "source": [
        "# Random Agent Test\n",
        "\n",
        "Action | sign of Reward\n",
        "- not doing any thing [0] | +\n",
        "- main engine fire below [2] | -\n",
        "- main engine fire right [1] | -\n",
        "- main engine fire left [3] | +"
      ]
    },
    {
      "cell_type": "code",
      "execution_count": null,
      "metadata": {
        "colab": {
          "base_uri": "https://localhost:8080/",
          "height": 1000
        },
        "id": "_A9oY_Ki2y7o",
        "outputId": "701ba66d-1651-46b2-8c53-6945f6cdad02"
      },
      "outputs": [
        {
          "name": "stdout",
          "output_type": "stream",
          "text": [
            "[-0.00630007  1.4119111  -0.6381384   0.04402771  0.00730693  0.14454782\n",
            "  0.          0.        ]\n",
            "0 | 0.939275204070185\n",
            "[-0.00630007  1.4119111  -0.6381384   0.04402771  0.00730693  0.14454782\n",
            "  0.          0.        ]\n",
            "1 | -0.029604881405133482\n",
            "[-0.00630007  1.4119111  -0.6381384   0.04402771  0.00730693  0.14454782\n",
            "  0.          0.        ]\n",
            "2 | -1.7330621916752762\n",
            "[-0.00630007  1.4119111  -0.6381384   0.04402771  0.00730693  0.14454782\n",
            "  0.          0.        ]\n",
            "3 | 1.803151203822183\n"
          ]
        },
        {
          "name": "stderr",
          "output_type": "stream",
          "text": [
            "/usr/local/lib/python3.10/dist-packages/gym/core.py:317: DeprecationWarning: \u001b[33mWARN: Initializing wrapper in old step API which returns one bool instead of two. It is recommended to set `new_step_api=True` to use new step API. This will be the default behaviour in future.\u001b[0m\n",
            "  deprecation(\n",
            "/usr/local/lib/python3.10/dist-packages/gym/wrappers/step_api_compatibility.py:39: DeprecationWarning: \u001b[33mWARN: Initializing environment in old step API which returns one bool instead of two. It is recommended to set `new_step_api=True` to use new step API. This will be the default behaviour in future.\u001b[0m\n",
            "  deprecation(\n",
            "/usr/local/lib/python3.10/dist-packages/gym/core.py:256: DeprecationWarning: \u001b[33mWARN: Function `env.seed(seed)` is marked as deprecated and will be removed in the future. Please use `env.reset(seed=seed)` instead.\u001b[0m\n",
            "  deprecation(\n",
            "/usr/local/lib/python3.10/dist-packages/gym/utils/passive_env_checker.py:241: DeprecationWarning: `np.bool8` is a deprecated alias for `np.bool_`.  (Deprecated NumPy 1.24)\n",
            "  if not isinstance(terminated, (bool, np.bool8)):\n"
          ]
        },
        {
          "data": {
            "application/vnd.google.colaboratory.intrinsic+json": {
              "type": "string"
            },
            "text/plain": [
              "'\\n# Uncomment this part to see demo.\\n\\n# Initial environment\\ninitial_state = env.reset()\\n\\n# Create an figure\\nimg = plt.imshow(env.render(mode=\\'rgb_array\\'))\\n\\n# Start to play\\ndone = False\\nwhile not done:\\n    action = env.action_space.sample()\\n    state, reward, done, _ = env.step(action)\\n    # Update figure\\n    img.set_data(env.render(mode=\\'rgb_array\\'))\\n    # Get the figure to display, that is, img.\\n    display.display(plt.gcf())\\n    # Clear output when new figure arrived.\\n    display.clear_output(wait=True)\\n\\nprint(f\"state : {state}, {type(state)}\")\\nprint(f\"reward : {reward}\")\\nprint(f\"done : {done}\")\\nprint(f\"else info :\\n{_}\")\\n# Release resources\\ndel env, img\\n'"
            ]
          },
          "execution_count": 16,
          "metadata": {},
          "output_type": "execute_result"
        }
      ],
      "source": [
        "%matplotlib inline\n",
        "import matplotlib.pyplot as plt\n",
        "\n",
        "from IPython import display\n",
        "\n",
        "\n",
        "# Create environment\n",
        "env = create_env('LunarLander-v2')\n",
        "fix_seed(env, 2024)\n",
        "\n",
        "# Initial environment\n",
        "initial_state = env.reset()\n",
        "\n",
        "# print rewards base on different actions\n",
        "for i in range(4):\n",
        "    env.reset(seed=1)\n",
        "    print(initial_state)\n",
        "    state, reward, done, _ = env.step(i)\n",
        "    print(f'{i} | {reward}')\n",
        "\n",
        "\"\"\"\n",
        "# Uncomment this part to see demo.\n",
        "\n",
        "# Initial environment\n",
        "initial_state = env.reset()\n",
        "\n",
        "# Create an figure\n",
        "img = plt.imshow(env.render(mode='rgb_array'))\n",
        "\n",
        "# Start to play\n",
        "done = False\n",
        "while not done:\n",
        "    action = env.action_space.sample()\n",
        "    state, reward, done, _ = env.step(action)\n",
        "    # Update figure\n",
        "    img.set_data(env.render(mode='rgb_array'))\n",
        "    # Get the figure to display, that is, img.\n",
        "    display.display(plt.gcf())\n",
        "    # Clear output when new figure arrived.\n",
        "    display.clear_output(wait=True)\n",
        "\n",
        "print(f\"state : {state}, {type(state)}\")\n",
        "print(f\"reward : {reward}\")\n",
        "print(f\"done : {done}\")\n",
        "print(f\"else info :\\n{_}\")\n",
        "# Release resources\n",
        "del env, img\n",
        "\"\"\""
      ]
    },
    {
      "cell_type": "markdown",
      "metadata": {
        "id": "l0vmzPrcUD2B"
      },
      "source": [
        "# DQN"
      ]
    },
    {
      "cell_type": "markdown",
      "metadata": {
        "id": "nW77QYopXnPl"
      },
      "source": [
        "## Transition"
      ]
    },
    {
      "cell_type": "code",
      "execution_count": null,
      "metadata": {
        "id": "LfUnL4NwXpQG"
      },
      "outputs": [],
      "source": [
        "from collections import namedtuple\n",
        "\n",
        "\n",
        "Transition = namedtuple('Transition',\n",
        " ['state', 'action', 'next_state', 'reward'])"
      ]
    },
    {
      "cell_type": "markdown",
      "metadata": {
        "id": "TyS5PLQqN7kX"
      },
      "source": [
        "## ReplayMemory"
      ]
    },
    {
      "cell_type": "code",
      "execution_count": null,
      "metadata": {
        "id": "sDuW744zOGD6"
      },
      "outputs": [],
      "source": [
        "import random\n",
        "from collections import deque\n",
        "\n",
        "\n",
        "class ReplayMemory(object):\n",
        "    def __init__(self, capacity):\n",
        "        self.memory = deque([], maxlen=capacity)\n",
        "\n",
        "    def __len__(self):\n",
        "        return len(self.memory)\n",
        "\n",
        "    def push(self, *args):\n",
        "        self.memory.append(Transition(*args))\n",
        "\n",
        "    def sample(self, batch_size):\n",
        "        return random.sample(self.memory, batch_size)\n"
      ]
    },
    {
      "cell_type": "markdown",
      "metadata": {
        "id": "vdIJ_f7eUJqp"
      },
      "source": [
        "## Epsilon Greedy"
      ]
    },
    {
      "cell_type": "code",
      "execution_count": null,
      "metadata": {
        "colab": {
          "base_uri": "https://localhost:8080/"
        },
        "id": "TIVJMGFVUN0z",
        "outputId": "38d104a2-b656-420e-dfa6-181241afcfa2"
      },
      "outputs": [
        {
          "name": "stderr",
          "output_type": "stream",
          "text": [
            "/usr/local/lib/python3.10/dist-packages/ipykernel/ipkernel.py:283: DeprecationWarning: `should_run_async` will not call `transform_cell` automatically in the future. Please pass the result to `transformed_cell` argument and any exception that happen during thetransform in `preprocessing_exc_tuple` in IPython 7.17 and above.\n",
            "  and should_run_async(code)\n"
          ]
        }
      ],
      "source": [
        "import math\n",
        "\n",
        "\n",
        "class EpsilonGreedy(object):\n",
        "    def __init__(self, eps=0.05, eps_decay=1000, steps_done=0):\n",
        "        self.eps = eps\n",
        "        self.eps_decay = eps_decay\n",
        "        self.steps_done = steps_done\n",
        "\n",
        "    def get_steps(self):\n",
        "        return self.steps_done\n",
        "\n",
        "    def val(self, fine_tune=False):\n",
        "        \"\"\"\n",
        "        Args:\n",
        "        - fine_tune:\n",
        "            `True` if model has already been pre-trained. Then epsilon threshold\n",
        "            should be low in order to stable further training.\n",
        "        \"\"\"\n",
        "        if fine_tune:\n",
        "            eps = self.eps * math.exp(-1 * self.steps_done / self.eps_decay)\n",
        "        else:\n",
        "            eps = self.eps + (1.0 - self.eps) * math.exp(-1 * self.steps_done / self.eps_decay)\n",
        "        self.steps_done += 1\n",
        "        return eps"
      ]
    },
    {
      "cell_type": "markdown",
      "metadata": {
        "id": "5NI3bTBzG44u"
      },
      "source": [
        "## Model\n",
        "\n",
        "Viewing the output of model as `Q(s, a)`, where `a` is the action, and `s` is the given state."
      ]
    },
    {
      "cell_type": "code",
      "execution_count": null,
      "metadata": {
        "id": "Eo7zOLYOG-Mx"
      },
      "outputs": [],
      "source": [
        "import torch.nn as nn\n",
        "import torch.nn.functional as F\n",
        "\n",
        "\n",
        "class DQN(nn.Module):\n",
        "    \"\"\"\n",
        "    Input : Observation/state, a numpy array with length 8.\n",
        "    Output : Expected reward of actions.\n",
        "    \"\"\"\n",
        "    def __init__(self, n_observations, n_actions, ff_dim=128):\n",
        "        super().__init__()\n",
        "        self.n_actions = n_actions\n",
        "        self.fc1 = nn.Linear(n_observations, ff_dim)\n",
        "        self.fc2 = nn.Linear(ff_dim, ff_dim)\n",
        "        self.fc3 = nn.Linear(ff_dim, n_actions)\n",
        "\n",
        "    def forward(self, x):\n",
        "        x = F.tanh(self.fc1(x))\n",
        "        x = F.tanh(self.fc2(x))\n",
        "        return self.fc3(x)\n",
        "    \n",
        "    def act(self, state):\n",
        "        \"\"\"\n",
        "        Sample an action based on maximum expected reward,\n",
        "        which is used for testing.\n",
        "        \"\"\"\n",
        "        return self.forward(state).max(-1).indices.item()\n",
        "\n"
      ]
    },
    {
      "cell_type": "markdown",
      "metadata": {
        "id": "UTicON2Dr6Og"
      },
      "source": [
        "# Train"
      ]
    },
    {
      "cell_type": "markdown",
      "metadata": {},
      "source": [
        "## Tools"
      ]
    },
    {
      "cell_type": "markdown",
      "metadata": {},
      "source": [
        "### Model Save/Load"
      ]
    },
    {
      "cell_type": "code",
      "execution_count": null,
      "metadata": {},
      "outputs": [],
      "source": [
        "import torch\n",
        "\n",
        "class ModelSaveLoad:\n",
        "    def __init__(self, path):\n",
        "        self.path = path\n",
        "\n",
        "    def save(self, policy_net_state_dict, steps_done, path=None):\n",
        "        if path is not None:\n",
        "            s_path = path\n",
        "        else:\n",
        "            s_path = self.path\n",
        "\n",
        "        torch.save({\n",
        "            \"policy_net_state_dict\" : policy_net_state_dict,\n",
        "            \"steps_done\" : steps_done\n",
        "        }, s_path)\n",
        "\n",
        "    def load(self, path=None):\n",
        "        \"\"\"Return checkpoint.\"\"\"\n",
        "        if path is not None:\n",
        "            l_path = path\n",
        "        else:\n",
        "            l_path = self.path\n",
        "        return torch.load(l_path)"
      ]
    },
    {
      "cell_type": "markdown",
      "metadata": {
        "id": "dOL0KphShRKR"
      },
      "source": [
        "### Plotting\n",
        "\n",
        "We plot rewards during training."
      ]
    },
    {
      "cell_type": "code",
      "execution_count": null,
      "metadata": {
        "id": "5rq4lzIshcDL"
      },
      "outputs": [],
      "source": [
        "import matplotlib\n",
        "import matplotlib.pyplot as plt\n",
        "\n",
        "# set up matplotlib\n",
        "is_ipython = 'inline' in matplotlib.get_backend()\n",
        "if is_ipython:\n",
        "    from IPython import display\n",
        "\n",
        "\n",
        "def plot_rewards(total_rewards, final_rewards, title, show_result=False, maximum=200):\n",
        "    plt.figure(1)\n",
        "\n",
        "    if not show_result:\n",
        "        plt.clf()\n",
        "\n",
        "    plt.title(title)\n",
        "\n",
        "    recorded_len = len(final_rewards)\n",
        "    if recorded_len >= maximum:\n",
        "        x = list(range(recorded_len - maximum, recorded_len))\n",
        "    else:\n",
        "        x = list(range(recorded_len))\n",
        "\n",
        "    plt.plot(x, total_rewards[-len(x):], c='tab:cyan', label='total rewards')\n",
        "    plt.plot(x, final_rewards[-len(x):], c='tab:red', label='final rewards')\n",
        "    plt.xlabel('Episode')\n",
        "    plt.ylabel('Reward')\n",
        "    plt.legend()\n",
        "\n",
        "    if is_ipython:\n",
        "        if not show_result:\n",
        "            display.display(plt.gcf())\n",
        "            display.clear_output(wait=True)\n",
        "        else:\n",
        "            display.display(plt.gcf())"
      ]
    },
    {
      "cell_type": "markdown",
      "metadata": {},
      "source": [
        "### Device"
      ]
    },
    {
      "cell_type": "code",
      "execution_count": null,
      "metadata": {},
      "outputs": [],
      "source": [
        "import torch\n",
        "\n",
        "\n",
        "def get_device():\n",
        "    return \"cuda\" if torch.cuda.is_available() \\\n",
        "      else \"cpu\""
      ]
    },
    {
      "cell_type": "markdown",
      "metadata": {
        "id": "fGMB_QBZsWxU"
      },
      "source": [
        "## Pre-Training(Policy Gradient)\n",
        "\n",
        "We pre-train `policy_net` by using Policy-Gradient method with accumulative-decaying-reward."
      ]
    },
    {
      "cell_type": "code",
      "execution_count": null,
      "metadata": {
        "id": "iTVcNOk5se7Y"
      },
      "outputs": [],
      "source": [
        "import numpy as np\n",
        "import torch\n",
        "import torch.nn.functional as F\n",
        "from torch.distributions import Categorical\n",
        "\n",
        "\n",
        "def select_action_by_probability(state, policy_net):\n",
        "    \"\"\"Sample an action base on the relative probability.\"\"\"\n",
        "    # Input state shape: (1, state length)\n",
        "    action_prob = F.softmax(policy_net(state), dim=-1)\n",
        "    action_dict = Categorical(action_prob)\n",
        "    action = action_dict.sample()\n",
        "    log_prob = action_dict.log_prob(action)\n",
        "    # Return tensor dimension:\n",
        "    # - action: (1,1)\n",
        "    # - log_prob: (1,)\n",
        "    return action.view(1,1), log_prob\n",
        "\n",
        "def cal_adr(seq_rewards, decay_rate=0.99):\n",
        "    \"\"\"Calculate accumulative-decaying-reward.\"\"\"\n",
        "    adr = []\n",
        "    n = len(seq_rewards)\n",
        "    for i in range(n):\n",
        "        reward = 0.0\n",
        "        p_rate = 1.0\n",
        "        for j in range(n-i):\n",
        "            reward += seq_rewards[i+j] * (p_rate)\n",
        "            p_rate *= decay_rate\n",
        "        adr.append(reward)\n",
        "    return adr\n",
        "\n",
        "def optimize_model_pretrain(log_prob, reward, optimizer):\n",
        "    loss = (-log_prob * reward).sum()\n",
        "\n",
        "    optimizer.zero_grad()\n",
        "    loss.backward()\n",
        "    optimizer.step()\n",
        "\n",
        "def pretrain_model(env, policy_net, optimizer, memory,\n",
        "                num_updates=400, num_episodes_in_batch=5, device='cpu'):\n",
        "    \"\"\"\n",
        "    Pretrain model and collect memories for further DQN-training.\n",
        "\n",
        "    Return: pretrain_total_rewards, pretrain_final_rewards\n",
        "    \"\"\"\n",
        "\n",
        "    pretrain_total_rewards = []\n",
        "    pretrain_final_rewards = []\n",
        "\n",
        "    for i in range(num_updates):\n",
        "\n",
        "        log_prob_batch = []\n",
        "        reward_batch = []\n",
        "\n",
        "        # collect rewards for plotting\n",
        "        total_reward_batch = []\n",
        "        final_reward_batch = []\n",
        "\n",
        "        # collect num_episodes_in_batch for optimization\n",
        "        for i_episode in range(num_episodes_in_batch):\n",
        "\n",
        "            initial_state = env.reset()\n",
        "            seq_rewards, seq_trans = [], []\n",
        "            total_reward = 0.0\n",
        "\n",
        "            state = torch.tensor(initial_state, dtype=torch.float32, device=device).unsqueeze(0)\n",
        "\n",
        "            while True:\n",
        "                action, log_prob = select_action_by_probability(state, policy_net)\n",
        "                next_state, reward, done, _ = env.step(action.item())\n",
        "\n",
        "                # logging\n",
        "                log_prob_batch.append(log_prob)\n",
        "                seq_rewards.append(reward)\n",
        "                total_reward += reward\n",
        "\n",
        "                # make transition\n",
        "                next_state = torch.tensor(next_state, dtype=torch.float32, device=device).unsqueeze(0)\n",
        "                seq_trans.append(Transition(state,\n",
        "                                            action,\n",
        "                                            next_state,\n",
        "                                            torch.tensor([reward], device=device)))\n",
        "\n",
        "                # move to next state\n",
        "                state = next_state\n",
        "\n",
        "                if done:\n",
        "                    reward_batch += cal_adr(seq_rewards)\n",
        "                    total_reward_batch.append(total_reward)\n",
        "                    final_reward = reward\n",
        "                    final_reward_batch.append(final_reward)\n",
        "\n",
        "                    # If is a success landing, add transitions to memory.\n",
        "                    # Note, we dropped last transition for simplicity.\n",
        "                    if final_reward >= 100:\n",
        "                        seq_trans.pop()\n",
        "                        for trans in seq_trans:\n",
        "                            memory.push(*trans)\n",
        "                    break\n",
        "\n",
        "        # update model\n",
        "        # normalization\n",
        "        nm_reward_batch =\\\n",
        "            (reward_batch - np.mean(reward_batch)) / (np.std(reward_batch) + 1e-9)\n",
        "\n",
        "        log_prob_batch = torch.cat(log_prob_batch)\n",
        "        nm_reward_batch = torch.from_numpy(nm_reward_batch).to(device)\n",
        "\n",
        "        optimize_model_pretrain(log_prob_batch, nm_reward_batch, optimizer)\n",
        "\n",
        "        # plotting\n",
        "        pretrain_total_rewards += total_reward_batch\n",
        "        pretrain_final_rewards += final_reward_batch\n",
        "        if i % 10 == 0:\n",
        "            plot_rewards(pretrain_total_rewards, pretrain_final_rewards, 'Pre-Training...')\n",
        "\n",
        "    return pretrain_total_rewards, pretrain_final_rewards\n"
      ]
    },
    {
      "cell_type": "markdown",
      "metadata": {
        "id": "R3DRwp2UDFwA"
      },
      "source": [
        "## DQN-Training"
      ]
    },
    {
      "cell_type": "markdown",
      "metadata": {
        "id": "miOSKArHjQf2"
      },
      "source": [
        "### Select Action"
      ]
    },
    {
      "cell_type": "code",
      "execution_count": null,
      "metadata": {
        "id": "KbkVN7cNjSv0"
      },
      "outputs": [],
      "source": [
        "import random\n",
        "import torch\n",
        "\n",
        "\n",
        "def select_action_by_eps_greed(state, policy_net, eps_greedy, device='cpu'):\n",
        "    \"\"\"Sample an action base on epsilon greedy treaty.\"\"\"\n",
        "    greed_of_net = random.random()\n",
        "    greed_threshold = eps_greedy.val()\n",
        "    if greed_of_net > greed_threshold:\n",
        "        # do greedy action\n",
        "        with torch.no_grad():\n",
        "            return policy_net(state).max(1).indices.view(1,1)\n",
        "    else:\n",
        "        # do exploration\n",
        "        n_actions = policy_net.n_actions\n",
        "        return torch.randint(n_actions, (1,), device=device).view(1,1)"
      ]
    },
    {
      "cell_type": "markdown",
      "metadata": {
        "id": "52ULmAezV7BJ"
      },
      "source": [
        "### Optimize Model\n",
        "\n",
        "- optimize_model"
      ]
    },
    {
      "cell_type": "code",
      "execution_count": null,
      "metadata": {
        "id": "hwjmgjg9WAZK"
      },
      "outputs": [],
      "source": [
        "import torch\n",
        "import torch.nn as nn\n",
        "\n",
        "\n",
        "def optimize_model(memory, batch_size,\n",
        "                   policy_net, target_net,\n",
        "                   optimizer,\n",
        "                   reward_decay_rate=0.99 ,device='cpu'):\n",
        "    \"\"\"\n",
        "    Randomly select batch of transitions from memory,\n",
        "    then update parameters of model.\n",
        "    \"\"\"\n",
        "    if len(memory) < batch_size:\n",
        "        return\n",
        "\n",
        "    transitions = memory.sample(batch_size)\n",
        "    batch = Transition(*zip(*transitions))\n",
        "\n",
        "    # Create a mask of non-final states(if a state is final,\n",
        "    # then its next state would be None).\n",
        "    non_final_mask = torch.tensor(\n",
        "        tuple(map(lambda s: s is not None, batch.next_state)),\n",
        "        device=device, dtype=torch.bool)\n",
        "\n",
        "    next_state_batch = torch.cat([s for s in batch.next_state\n",
        "                                  if s is not None])\n",
        "    state_batch = torch.cat(batch.state)    # (batch_size, n_observations)\n",
        "    action_batch = torch.cat(batch.action)  # (batch_size, n_actions)\n",
        "    reward_batch = torch.cat(batch.reward)  # (batch_size, )\n",
        "\n",
        "    # Compute Q(s_t, a).\n",
        "    state_action_values = policy_net(state_batch).gather(1, action_batch)\n",
        "\n",
        "    # Compute V(s_{t+1}) = max_{a} Q(s_{t+1}, a)\n",
        "    next_state_values = torch.zeros(batch_size, device=device)\n",
        "    with torch.no_grad():\n",
        "        next_state_values[non_final_mask] =\\\n",
        "            target_net(next_state_batch).max(1).values\n",
        "\n",
        "    # Compute expected Q values\n",
        "    expected_state_action_values =\\\n",
        "        reward_batch + reward_decay_rate * next_state_values\n",
        "\n",
        "    # Compute loss(Huber loss).\n",
        "    criterion = nn.SmoothL1Loss()\n",
        "    loss = criterion(state_action_values,\n",
        "                     expected_state_action_values.unsqueeze(1))\n",
        "\n",
        "    # Optimize the model\n",
        "    optimizer.zero_grad()\n",
        "    loss.backward()\n",
        "    #torch.nn.utils.clip_grad_value_(policy_net.parameters(), 100)\n",
        "    optimizer.step()\n"
      ]
    },
    {
      "cell_type": "markdown",
      "metadata": {
        "id": "_itsEYkM5j8A"
      },
      "source": [
        "### Soft Update"
      ]
    },
    {
      "cell_type": "code",
      "execution_count": null,
      "metadata": {
        "id": "flUl4rVD5nlr"
      },
      "outputs": [],
      "source": [
        "def soft_update_target_net(policy_net_state_dict,\n",
        "                           target_net_state_dict,\n",
        "                           target_net, update_rate):\n",
        "    for key in policy_net_state_dict:\n",
        "        target_net_state_dict[key] =\\\n",
        "            policy_net_state_dict[key] * update_rate +\\\n",
        "            target_net_state_dict[key] * (1 - update_rate)\n",
        "    target_net.load_state_dict(target_net_state_dict)"
      ]
    },
    {
      "cell_type": "markdown",
      "metadata": {
        "id": "ixr_RwCsMq8F"
      },
      "source": [
        "## Main"
      ]
    },
    {
      "cell_type": "code",
      "execution_count": null,
      "metadata": {
        "colab": {
          "base_uri": "https://localhost:8080/",
          "height": 818
        },
        "id": "wHMa7NHfr7rm",
        "outputId": "fdf51f47-d3da-4bb3-acd4-d70ad56f41ce"
      },
      "outputs": [
        {
          "ename": "KeyboardInterrupt",
          "evalue": "",
          "output_type": "error",
          "traceback": [
            "\u001b[0;31m---------------------------------------------------------------------------\u001b[0m",
            "\u001b[0;31mKeyboardInterrupt\u001b[0m                         Traceback (most recent call last)",
            "\u001b[0;32m<ipython-input-32-736179a94754>\u001b[0m in \u001b[0;36m<cell line: 134>\u001b[0;34m()\u001b[0m\n\u001b[1;32m    133\u001b[0m \u001b[0;34m\u001b[0m\u001b[0m\n\u001b[1;32m    134\u001b[0m \u001b[0;32mif\u001b[0m \u001b[0m__name__\u001b[0m \u001b[0;34m==\u001b[0m \u001b[0;34m'__main__'\u001b[0m\u001b[0;34m:\u001b[0m\u001b[0;34m\u001b[0m\u001b[0;34m\u001b[0m\u001b[0m\n\u001b[0;32m--> 135\u001b[0;31m     \u001b[0mmain\u001b[0m\u001b[0;34m(\u001b[0m\u001b[0;34m**\u001b[0m\u001b[0mparse_args\u001b[0m\u001b[0;34m(\u001b[0m\u001b[0;34m)\u001b[0m\u001b[0;34m)\u001b[0m\u001b[0;34m\u001b[0m\u001b[0;34m\u001b[0m\u001b[0m\n\u001b[0m",
            "\u001b[0;32m<ipython-input-32-736179a94754>\u001b[0m in \u001b[0;36mmain\u001b[0;34m(feedforward_dim, seed, lr, memory_capacity, batch_size, target_net_update_rate, do_pretrain)\u001b[0m\n\u001b[1;32m    107\u001b[0m \u001b[0;34m\u001b[0m\u001b[0m\n\u001b[1;32m    108\u001b[0m             \u001b[0;31m# update policy_net by collected memory\u001b[0m\u001b[0;34m\u001b[0m\u001b[0;34m\u001b[0m\u001b[0m\n\u001b[0;32m--> 109\u001b[0;31m             optimize_model(memory,\n\u001b[0m\u001b[1;32m    110\u001b[0m                            \u001b[0mbatch_size\u001b[0m\u001b[0;34m,\u001b[0m\u001b[0;34m\u001b[0m\u001b[0;34m\u001b[0m\u001b[0m\n\u001b[1;32m    111\u001b[0m                            \u001b[0mpolicy_net\u001b[0m\u001b[0;34m,\u001b[0m\u001b[0;34m\u001b[0m\u001b[0;34m\u001b[0m\u001b[0m\n",
            "\u001b[0;32m<ipython-input-31-ec6d03eaefb6>\u001b[0m in \u001b[0;36moptimize_model\u001b[0;34m(memory, batch_size, policy_net, target_net, optimizer, reward_decay_rate, device)\u001b[0m\n\u001b[1;32m     26\u001b[0m                                   if s is not None])\n\u001b[1;32m     27\u001b[0m     \u001b[0mstate_batch\u001b[0m \u001b[0;34m=\u001b[0m \u001b[0mtorch\u001b[0m\u001b[0;34m.\u001b[0m\u001b[0mcat\u001b[0m\u001b[0;34m(\u001b[0m\u001b[0mbatch\u001b[0m\u001b[0;34m.\u001b[0m\u001b[0mstate\u001b[0m\u001b[0;34m)\u001b[0m    \u001b[0;31m# (batch_size, n_observations)\u001b[0m\u001b[0;34m\u001b[0m\u001b[0;34m\u001b[0m\u001b[0m\n\u001b[0;32m---> 28\u001b[0;31m     \u001b[0maction_batch\u001b[0m \u001b[0;34m=\u001b[0m \u001b[0mtorch\u001b[0m\u001b[0;34m.\u001b[0m\u001b[0mcat\u001b[0m\u001b[0;34m(\u001b[0m\u001b[0mbatch\u001b[0m\u001b[0;34m.\u001b[0m\u001b[0maction\u001b[0m\u001b[0;34m)\u001b[0m  \u001b[0;31m# (batch_size, n_actions)\u001b[0m\u001b[0;34m\u001b[0m\u001b[0;34m\u001b[0m\u001b[0m\n\u001b[0m\u001b[1;32m     29\u001b[0m     \u001b[0mreward_batch\u001b[0m \u001b[0;34m=\u001b[0m \u001b[0mtorch\u001b[0m\u001b[0;34m.\u001b[0m\u001b[0mcat\u001b[0m\u001b[0;34m(\u001b[0m\u001b[0mbatch\u001b[0m\u001b[0;34m.\u001b[0m\u001b[0mreward\u001b[0m\u001b[0;34m)\u001b[0m  \u001b[0;31m# (batch_size, )\u001b[0m\u001b[0;34m\u001b[0m\u001b[0;34m\u001b[0m\u001b[0m\n\u001b[1;32m     30\u001b[0m \u001b[0;34m\u001b[0m\u001b[0m\n",
            "\u001b[0;31mKeyboardInterrupt\u001b[0m: "
          ]
        },
        {
          "data": {
            "image/png": "[encoded data removed]",
            "text/plain": [
              "<Figure size 640x480 with 1 Axes>"
            ]
          },
          "metadata": {},
          "output_type": "display_data"
        }
      ],
      "source": [
        "import os\n",
        "import torch\n",
        "import matplotlib.pyplot as plt\n",
        "\n",
        "\n",
        "def parse_args():\n",
        "    config = {\n",
        "        'feedforward_dim' : 64,\n",
        "        'seed' : 543,\n",
        "        'lr' : 1e-3,\n",
        "        'memory_capacity' : 10000,\n",
        "        'batch_size' : 128,\n",
        "        'target_net_update_rate' : 0.005,\n",
        "        'do_pretrain' : False,\n",
        "        'onColab' : True,\n",
        "        'ckpt_dir_config' : {\n",
        "            'local' : './checkpoints/',\n",
        "            'drive' : '/content/drive/MyDrive/ML2021/hw12/checkpoints/'\n",
        "        },\n",
        "        'load_ckpt' : False,\n",
        "    }\n",
        "    return config\n",
        "\n",
        "def main(\n",
        "    feedforward_dim,\n",
        "    seed,\n",
        "    lr,\n",
        "    memory_capacity,\n",
        "    batch_size,\n",
        "    target_net_update_rate,\n",
        "    do_pretrain,\n",
        "    onColab,\n",
        "    ckpt_dir_config,\n",
        "    load_ckpt,\n",
        "):\n",
        "    device = get_device()\n",
        "\n",
        "    if device == 'cuda':\n",
        "        num_episodes = 6000\n",
        "    elif device == 'cpu':\n",
        "        num_episodes = 1000\n",
        "    else:\n",
        "        raise Exception(f\"{device} is not support. Only 'cuda' or 'cpu'.\")\n",
        "\n",
        "    # environment\n",
        "    env = create_env('LunarLander-v2')\n",
        "    fix_seed(env, seed)\n",
        "    n_observations = 8\n",
        "    n_actions = 4\n",
        "\n",
        "    if onColab:\n",
        "        ckpt_dir = ckpt_dir_config['drive']\n",
        "    else:\n",
        "        ckpt_dir = ckpt_dir_config['local']\n",
        "    os.makedirs(ckpt_dir, exist_ok=True)\n",
        "\n",
        "    # model\n",
        "    SL_handler = ModelSaveLoad(os.path.join(ckpt_dir, f'DQN{feedforward_dim}.ckpt'))\n",
        "    policy_net = DQN(n_observations, n_actions, feedforward_dim)\n",
        "    target_net = DQN(n_observations, n_actions, feedforward_dim)\n",
        "    if load_ckpt:\n",
        "        checkpoint = SL_handler.load()\n",
        "        policy_net.load_state_dict(checkpoint['policy_net_state_dict'])\n",
        "    policy_net.to(device)\n",
        "    target_net.to(device)\n",
        "\n",
        "    # optimizer for DQN\n",
        "    optimizer_dqn = torch.optim.AdamW(policy_net.parameters(), lr=lr, amsgrad=True)\n",
        "\n",
        "    # memory for replay\n",
        "    memory = ReplayMemory(memory_capacity)\n",
        "\n",
        "    # pre-train model\n",
        "    if do_pretrain:\n",
        "        # optimizer for pre-train\n",
        "        optimizer_pre = torch.optim.SGD(policy_net.parameters(), lr=lr)\n",
        "\n",
        "        pretrain_total_rewards, pretrain_final_rewards =\\\n",
        "            pretrain_model(env, policy_net, optimizer_pre, memory)\n",
        "\n",
        "        # --TODO--\n",
        "        # Save pre-trained result if needed.\n",
        "\n",
        "    # set target_net\n",
        "    target_net.load_state_dict(policy_net.state_dict())\n",
        "\n",
        "    # epsilon greedy strategy for DQN training\n",
        "    if load_ckpt:\n",
        "        eps_greedy = EpsilonGreedy(steps_done=checkpoint['steps_done'])\n",
        "\n",
        "    else:\n",
        "        eps_greedy = EpsilonGreedy()\n",
        "\n",
        "    # logging\n",
        "    episode_total_rewards = []\n",
        "    episode_final_rewards = []\n",
        "\n",
        "    # DQN training\n",
        "    policy_net.train()\n",
        "    target_net.eval()\n",
        "    for i_episode in range(num_episodes):\n",
        "        episode_rewards = []\n",
        "\n",
        "        # initialize environment\n",
        "        state = env.reset()\n",
        "\n",
        "        # In order to collect state into batch for optimization process,\n",
        "        # we extend its dimension. Example: [[0.1, 0.2, ..., 0.8]]\n",
        "        state = torch.tensor(state, dtype=torch.float32, device=device).unsqueeze(0)\n",
        "\n",
        "        while True:\n",
        "            # Action has same dimesion as state. Example: [[3]]\n",
        "            action = select_action_by_eps_greed(state, policy_net, eps_greedy, device)\n",
        "\n",
        "            # Update environment.\n",
        "            next_state, reward, done, _ = env.step(action.item())\n",
        "\n",
        "            episode_rewards.append(reward)\n",
        "            reward = torch.tensor([reward], device=device)  # Reward has only 1 dimension. Example: [105]\n",
        "\n",
        "            # Check if the state is a final state.\n",
        "            if done:\n",
        "                next_state = None\n",
        "            else:\n",
        "                next_state = torch.tensor(next_state, dtype=torch.float32, device=device).unsqueeze(0)\n",
        "\n",
        "            # collect transition memory\n",
        "            memory.push(state, action, next_state, reward)\n",
        "\n",
        "            # move to next state\n",
        "            state = next_state\n",
        "\n",
        "            # update policy_net by collected memory\n",
        "            optimize_model(memory,\n",
        "                           batch_size,\n",
        "                           policy_net,\n",
        "                           target_net,\n",
        "                           optimizer_dqn,\n",
        "                           device=device)\n",
        "\n",
        "            # Soft update target_net.\n",
        "            soft_update_target_net(policy_net.state_dict(),\n",
        "                                   target_net.state_dict(),\n",
        "                                   target_net,\n",
        "                                   target_net_update_rate)\n",
        "\n",
        "            if done:\n",
        "                final_reward = episode_rewards[-1]\n",
        "                episode_final_rewards.append(final_reward)\n",
        "                episode_total_rewards.append(sum(episode_rewards))\n",
        "                break\n",
        "\n",
        "        if i_episode % 10 == 0:\n",
        "            plot_rewards(episode_total_rewards, episode_final_rewards, 'DQN-Traing...')\n",
        "            SL_handler.save(policy_net.state_dict(), eps_greedy.get_steps())\n",
        "\n",
        "    plot_rewards(episode_total_rewards.copy(), episode_final_rewards.copy(), 'DQN-Result', True)\n",
        "\n",
        "\n",
        "if __name__ == '__main__':\n",
        "    main(**parse_args())"
      ]
    },
    {
      "cell_type": "markdown",
      "metadata": {},
      "source": [
        "# Testing"
      ]
    },
    {
      "cell_type": "code",
      "execution_count": null,
      "metadata": {},
      "outputs": [],
      "source": [
        "import os\n",
        "import numpy as np\n",
        "import torch\n",
        "import matplotlib.pyplot as plt\n",
        "\n",
        "%matplotlib inline\n",
        "from IPython import display\n",
        "\n",
        "\n",
        "def parse_args():\n",
        "    config = {\n",
        "        'feedforward_dim' : 64,\n",
        "        'seed' : 543,\n",
        "        'onColab' : True,\n",
        "        'ckpt_dir_config' : {\n",
        "            'local' : './checkpoints/',\n",
        "            'drive' : '/content/drive/MyDrive/ML2021/hw12/checkpoints/'\n",
        "        },\n",
        "    }\n",
        "    return config\n",
        "\n",
        "def main(\n",
        "        feedforward_dim,\n",
        "        seed,\n",
        "        onColab,\n",
        "        ckpt_dir_config,\n",
        "):\n",
        "    device = get_device()\n",
        "\n",
        "    if onColab:\n",
        "        ckpt_dir = ckpt_dir_config['drive']\n",
        "    else:\n",
        "        ckpt_dir = ckpt_dir_config['local']\n",
        "    checkpoint = torch.load(os.path.join(ckpt_dir, f'DQN{feedforward_dim}.ckpt'))\n",
        "\n",
        "    env = create_env('LunarLander-v2')\n",
        "    fix_seed(env, seed)\n",
        "    n_observations = 8\n",
        "    n_actions = 4\n",
        "\n",
        "    agent = DQN(n_observations, n_actions, feedforward_dim)\n",
        "    agent.load_state_dict(checkpoint[f'policy_net_state_dict'])\n",
        "    agent.to(device)\n",
        "    agent.eval()\n",
        "\n",
        "    NUM_OF_TEST = 5\n",
        "    test_total_reward = []\n",
        "    action_list = []\n",
        "\n",
        "    # testing\n",
        "    for i in range(NUM_OF_TEST):\n",
        "\n",
        "        done = False\n",
        "        actions = []\n",
        "        total_reward = 0\n",
        "\n",
        "        img = plt.imshow(env.render(mode='rgb_array'))\n",
        "\n",
        "        initial_state = env.reset()\n",
        "        state = torch.tensor(initial_state, dtype=torch.float32, device=device)\n",
        "\n",
        "        while not done:\n",
        "            action = agent.act(state)\n",
        "            next_state, reward, done, _ = env.step(action)\n",
        "            \n",
        "            actions.append(action)\n",
        "            total_reward += reward\n",
        "\n",
        "            state = torch.tensor(next_state, dtype=torch.float32, device=device)\n",
        "\n",
        "            img.set_data(env.render(mode='rgb_array'))\n",
        "            display.display(plt.gcf())\n",
        "            display.clear_output(wait=True)\n",
        "        \n",
        "        print(total_reward)\n",
        "        test_total_reward.append(total_reward)\n",
        "        action_list.append(actions)\n",
        "\n",
        "    distribution = {}\n",
        "    for actions in action_list:\n",
        "        for action in actions:\n",
        "            if action not in distribution.keys():\n",
        "                distribution[action] = 1\n",
        "            else:\n",
        "                distribution[action] += 1\n",
        "    print(f'Action distribution: {distribution}')\n",
        "    print(f'Reward: {np.mean(test_total_reward)}')\n",
        "\n",
        "\n",
        "\n",
        "if __name__ == '__main__':\n",
        "    main(**parse_args())"
      ]
    }
  ],
  "metadata": {
    "accelerator": "GPU",
    "colab": {
      "collapsed_sections": [
        "SyAPyOzRy2RN",
        "SjTz289u04Mp",
        "Y_l26g5Q07Mp",
        "gFXa1rkMDMtb",
        "fFzj2z-IBudv",
        "nW77QYopXnPl",
        "TyS5PLQqN7kX",
        "vdIJ_f7eUJqp",
        "dOL0KphShRKR",
        "fGMB_QBZsWxU"
      ],
      "gpuType": "T4",
      "provenance": []
    },
    "kernelspec": {
      "display_name": "Python 3",
      "name": "python3"
    },
    "language_info": {
      "name": "python",
      "version": "3.10.13"
    }
  },
  "nbformat": 4,
  "nbformat_minor": 0
}
