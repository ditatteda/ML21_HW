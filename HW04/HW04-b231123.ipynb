{
  "cells": [
    {
      "cell_type": "markdown",
      "metadata": {
        "id": "zC5KwRyl6Flp"
      },
      "source": [
        "# Task description\n",
        "- Classify the speakers of given features.\n",
        "- Main goal: Learn how to use transformer.\n",
        "- Baselines:\n",
        "  - Easy: Run sample code and know how to use transformer.\n",
        "  - Medium: Know how to adjust parameters of transformer.\n",
        "  - Hard: Construct [conformer](https://arxiv.org/abs/2005.08100) which is a variety of transformer.\n",
        "\n",
        "- Other links\n",
        "  - Kaggle: [link](https://www.kaggle.com/t/859c9ca9ede14fdea841be627c412322)\n",
        "  - Slide: [link](https://speech.ee.ntu.edu.tw/~hylee/ml/ml2021-course-data/hw/HW04/HW04.pdf)\n",
        "  - Data: [link](https://drive.google.com/file/d/1T0RPnu-Sg5eIPwQPfYysipfcz81MnsYe/view?usp=sharing)\n",
        "  - Video (Chinese): [link](https://www.youtube.com/watch?v=EPerg2UnGaI)\n",
        "  - Video (English): [link](https://www.youtube.com/watch?v=Gpz6AUvCak0)\n",
        "  - Solution for downloading dataset fail.: [link](https://drive.google.com/drive/folders/13T0Pa_WGgQxNkqZk781qhc5T9-zfh19e?usp=sharing)"
      ]
    },
    {
      "cell_type": "code",
      "execution_count": 1,
      "metadata": {
        "colab": {
          "base_uri": "https://localhost:8080/"
        },
        "id": "YV7LBTjr02EO",
        "outputId": "ac90a0c6-423b-462e-a0ca-9eba3165fdcf"
      },
      "outputs": [
        {
          "name": "stdout",
          "output_type": "stream",
          "text": [
            "Mounted at /content/drive\n"
          ]
        }
      ],
      "source": [
        "from google.colab import drive\n",
        "drive.mount('/content/drive')\n",
        "\n",
        "import shutil\n",
        "shutil.copyfile('/content/drive/MyDrive/Colab Notebooks/self_attention/Dataset.zip','/content/Dataset.zip')\n",
        "\n",
        "import zipfile\n",
        "with zipfile.ZipFile('/content/Dataset.zip','r') as zip_ref:\n",
        "  zip_ref.extractall('/content/')"
      ]
    },
    {
      "cell_type": "markdown",
      "metadata": {
        "id": "TPDoreyypeJE"
      },
      "source": [
        "# Download dataset\n",
        "- Please follow [here](https://drive.google.com/drive/folders/13T0Pa_WGgQxNkqZk781qhc5T9-zfh19e?usp=sharing) to download data\n",
        "- Data is [here](https://drive.google.com/file/d/1gaFy8RaQVUEXo2n0peCBR5gYKCB-mNHc/view?usp=sharing)"
      ]
    },
    {
      "cell_type": "code",
      "execution_count": null,
      "metadata": {
        "colab": {
          "base_uri": "https://localhost:8080/"
        },
        "id": "QvpaILXnJIcw",
        "outputId": "b926731f-128f-4567-ba32-6e7a355263f3"
      },
      "outputs": [
        {
          "name": "stdout",
          "output_type": "stream",
          "text": [
            "/usr/local/lib/python3.10/dist-packages/gdown/cli.py:121: FutureWarning: Option `--id` was deprecated in version 4.3.1 and will be removed in 5.0. You don't need to pass it anymore to use a file ID.\n",
            "  warnings.warn(\n",
            "Access denied with the following error:\n",
            "\n",
            " \tCannot retrieve the public link of the file. You may need to change\n",
            "\tthe permission to 'Anyone with the link', or have had many accesses. \n",
            "\n",
            "You may still be able to access the file from the browser:\n",
            "\n",
            "\t https://drive.google.com/uc?id=https://drive.google.com/file/d/1gaFy8RaQVUEXo2n0peCBR5gYKCB-mNHc/view \n",
            "\n",
            "unzip:  cannot find or open Dataset.zip, Dataset.zip.zip or Dataset.zip.ZIP.\n"
          ]
        }
      ],
      "source": [
        "!gdown --id 'https://drive.google.com/file/d/1gaFy8RaQVUEXo2n0peCBR5gYKCB-mNHc/view' --output Dataset.zip\n",
        "!unzip Dataset.zip"
      ]
    },
    {
      "cell_type": "markdown",
      "metadata": {
        "id": "v1gYr_aoNDue"
      },
      "source": [
        "# Data"
      ]
    },
    {
      "cell_type": "markdown",
      "metadata": {
        "id": "Mz_NpuAipk3h"
      },
      "source": [
        "## Dataset\n",
        "- Original dataset is [Voxceleb1](https://www.robots.ox.ac.uk/~vgg/data/voxceleb/).\n",
        "- The [license](https://creativecommons.org/licenses/by/4.0/) and [complete version](https://www.robots.ox.ac.uk/~vgg/data/voxceleb/files/license.txt) of Voxceleb1.\n",
        "- We randomly select 600 speakers from Voxceleb1.\n",
        "- Then preprocess the raw waveforms into mel-spectrograms.\n",
        "\n",
        "- Args:\n",
        "  - data_dir: The path to the data directory.\n",
        "  - metadata_path: The path to the metadata.\n",
        "  - segment_len: The length of audio segment for training.\n",
        "- The architecture of data directory \\\\\n",
        "  - data directory \\\\\n",
        "  |---- metadata.json \\\\\n",
        "  |---- testdata.json \\\\\n",
        "  |---- mapping.json \\\\\n",
        "  |---- uttr-{random string}.pt \\\\\n",
        "\n",
        "- The information in metadata\n",
        "  - \"n_mels\": The dimention of mel-spectrogram.\n",
        "  - \"speakers\": A dictionary.\n",
        "    - Key: speaker ids.\n",
        "    - value: \"feature_path\" and \"mel_len\"\n",
        "\n",
        "\n",
        "For efficiency, we segment the mel-spectrograms into segments in the traing step."
      ]
    },
    {
      "cell_type": "code",
      "execution_count": 2,
      "metadata": {
        "id": "cd7hoGhYtbXQ"
      },
      "outputs": [],
      "source": [
        "import os\n",
        "import json\n",
        "import torch\n",
        "import random\n",
        "from pathlib import Path\n",
        "from torch.utils.data import Dataset\n",
        "from torch.nn.utils.rnn import pad_sequence\n",
        "\n",
        "\n",
        "class myDataset(Dataset):\n",
        "  def __init__(self, data_dir, segment_len=128):\n",
        "    self.data_dir = data_dir\n",
        "    self.segment_len = segment_len\n",
        "\n",
        "    # Load the mapping from speaker neme to their corresponding id.\n",
        "    mapping_path = Path(data_dir) / \"mapping.json\"\n",
        "    mapping = json.load(mapping_path.open())\n",
        "    self.speaker2id = mapping[\"speaker2id\"]\n",
        "\n",
        "    # Load metadata of training data.\n",
        "    metadata_path = Path(data_dir) / \"metadata.json\"\n",
        "    metadata = json.load(open(metadata_path))[\"speakers\"]\n",
        "\n",
        "    # Get the total number of speaker.\n",
        "    self.speaker_num = len(metadata.keys())\n",
        "    self.data = []\n",
        "    for speaker in metadata.keys():\n",
        "      for utterances in metadata[speaker]:\n",
        "        self.data.append([utterances[\"feature_path\"], self.speaker2id[speaker]])\n",
        "\n",
        "  def __len__(self):\n",
        "    return len(self.data)\n",
        "\n",
        "  def __getitem__(self, index):\n",
        "    feat_path, speaker = self.data[index]\n",
        "    # Load preprocessed mel-spectrogram.\n",
        "    mel = torch.load(os.path.join(self.data_dir, feat_path))\n",
        "\n",
        "    # Segmemt mel-spectrogram into \"segment_len\" frames.\n",
        "    if len(mel) > self.segment_len:\n",
        "      # Randomly get the starting point of the segment.\n",
        "      start = random.randint(0, len(mel) - self.segment_len)\n",
        "      # Get a segment with \"segment_len\" frames.\n",
        "      mel = torch.FloatTensor(mel[start:start+self.segment_len])\n",
        "    else:\n",
        "      mel = torch.FloatTensor(mel)\n",
        "    # Turn the speaker id into long for computing loss later.\n",
        "    speaker = torch.FloatTensor([speaker]).long()\n",
        "    return mel, speaker\n",
        "\n",
        "  def get_speaker_number(self):\n",
        "    return self.speaker_num"
      ]
    },
    {
      "cell_type": "markdown",
      "metadata": {
        "id": "mqJxjoi_NGnB"
      },
      "source": [
        "## Dataloader\n",
        "- Split dataset into training dataset(90%) and validation dataset(10%).\n",
        "- Create dataloader to iterate the data.\n"
      ]
    },
    {
      "cell_type": "code",
      "execution_count": 3,
      "metadata": {
        "id": "zuT1AuFENI8t"
      },
      "outputs": [],
      "source": [
        "import torch\n",
        "from torch.utils.data import DataLoader, random_split\n",
        "from torch.nn.utils.rnn import pad_sequence\n",
        "\n",
        "\n",
        "def collate_batch(batch):\n",
        "  # Process features within a batch.\n",
        "  \"\"\"Collate a batch of data.\"\"\"\n",
        "  mel, speaker = zip(*batch)\n",
        "  # Because we train the model batch by batch, we need to pad the features in the same batch to make their lengths the same.\n",
        "  mel = pad_sequence(mel, batch_first=True, padding_value=-20)    # pad log 10^(-20) which is very small value.\n",
        "  # mel: (batch size, length, 40)\n",
        "  return mel, torch.FloatTensor(speaker).long()\n",
        "\n",
        "\n",
        "def get_dataloader(data_dir, batch_size, n_workers):\n",
        "  \"\"\"Generate dataloader\"\"\"\n",
        "  dataset = myDataset(data_dir)\n",
        "  speaker_num = dataset.get_speaker_number()\n",
        "  # Split dataset into training dataset and validation dataset\n",
        "  trainlen = int(0.9 * len(dataset))\n",
        "  lengths = [trainlen, len(dataset) - trainlen]\n",
        "  trainset, validset = random_split(dataset, lengths)\n",
        "\n",
        "  train_loader = DataLoader(\n",
        "    trainset,\n",
        "    batch_size=batch_size,\n",
        "    shuffle=True,\n",
        "    drop_last=True,\n",
        "    num_workers=n_workers,\n",
        "    pin_memory=True,\n",
        "    collate_fn=collate_batch,\n",
        "  )\n",
        "  valid_loader = DataLoader(\n",
        "    validset,\n",
        "    batch_size=batch_size,\n",
        "    num_workers=n_workers,\n",
        "    drop_last=True,\n",
        "    pin_memory=True,\n",
        "    collate_fn=collate_batch,\n",
        "  )\n",
        "\n",
        "  return train_loader, valid_loader, speaker_num\n"
      ]
    },
    {
      "cell_type": "markdown",
      "metadata": {
        "id": "X0x6eXiHpr4R"
      },
      "source": [
        "# Model\n",
        "- TransformerEncoderLayer:\n",
        "  - Base transformer encoder layer in [Attention Is All You Need](https://arxiv.org/abs/1706.03762)\n",
        "  - Parameters:\n",
        "    - d_model: the number of expected features of the input (required).\n",
        "\n",
        "    - nhead: the number of heads of the multiheadattention models (required).\n",
        "\n",
        "    - dim_feedforward: the dimension of the feedforward network model (default=2048).\n",
        "\n",
        "    - dropout: the dropout value (default=0.1).\n",
        "\n",
        "    - activation: the activation function of intermediate layer, relu or gelu (default=relu).\n",
        "\n",
        "- TransformerEncoder:\n",
        "  - TransformerEncoder is a stack of N transformer encoder layers\n",
        "  - Parameters:\n",
        "    - encoder_layer: an instance of the TransformerEncoderLayer() class (required).\n",
        "\n",
        "    - num_layers: the number of sub-encoder-layers in the encoder (required).\n",
        "\n",
        "    - norm: the layer normalization component (optional).\n",
        "\n",
        "- Self-Attention-Pooling: (Code Ref: Shopping)\n",
        "  - [Self-Attentive Speaker Embeddings](https://www.danielpovey.com/files/2018_interspeech_xvector_attention.pdf)\n",
        "  - Instead of using mean pooling, we use self-attentive pooling.\n",
        "\n",
        "- To view model in details: may use `torchinfo.summary`"
      ]
    },
    {
      "cell_type": "code",
      "execution_count": 7,
      "metadata": {
        "colab": {
          "base_uri": "https://localhost:8080/"
        },
        "id": "UXr8DpzT-DC_",
        "outputId": "5124448b-c403-4aa9-ab4d-a0acbc3e54da"
      },
      "outputs": [
        {
          "name": "stdout",
          "output_type": "stream",
          "text": [
            "Requirement already satisfied: torchinfo in /usr/local/lib/python3.10/dist-packages (1.8.0)\n"
          ]
        }
      ],
      "source": [
        "!pip install torchinfo"
      ]
    },
    {
      "cell_type": "markdown",
      "metadata": {},
      "source": [
        "## Model Test I\n",
        "\n",
        "This model use `torch.nn.MultiheadAttention` plus `convolution` to form conformer."
      ]
    },
    {
      "cell_type": "code",
      "execution_count": 1,
      "metadata": {},
      "outputs": [
        {
          "data": {
            "text/plain": [
              "==========================================================================================\n",
              "Layer (type:depth-idx)                   Output Shape              Param #\n",
              "==========================================================================================\n",
              "Classifier                               [32, 600]                 41,456\n",
              "├─Linear: 1-1                            [32, 128, 80]             3,280\n",
              "├─ModuleList: 1-2                        --                        --\n",
              "│    └─ConformerEncoderLayer: 2-1        [32, 128, 80]             --\n",
              "│    │    └─Sequential: 3-1              [32, 128, 80]             41,296\n",
              "│    │    └─LayerNorm: 3-2               [32, 128, 80]             160\n",
              "│    │    └─MultiheadAttention: 3-3      [128, 32, 80]             25,920\n",
              "│    │    └─LayerNorm: 3-4               [128, 32, 80]             (recursive)\n",
              "│    │    └─Sequential: 3-5              [32, 80, 128]             19,920\n",
              "│    │    └─Sequential: 3-6              [32, 128, 80]             (recursive)\n",
              "│    │    └─LayerNorm: 3-7               [32, 128, 80]             (recursive)\n",
              "├─Sequential: 1-3                        [32, 128, 1]              --\n",
              "│    └─Linear: 2-2                       [32, 128, 80]             6,480\n",
              "│    └─ReLU: 2-3                         [32, 128, 80]             --\n",
              "│    └─Linear: 2-4                       [32, 128, 1]              81\n",
              "│    └─Softmax: 2-5                      [32, 128, 1]              --\n",
              "├─Sequential: 1-4                        [32, 600]                 --\n",
              "│    └─Linear: 2-6                       [32, 600]                 48,600\n",
              "==========================================================================================\n",
              "Total params: 187,193\n",
              "Trainable params: 187,193\n",
              "Non-trainable params: 0\n",
              "Total mult-adds (M): 85.49\n",
              "==========================================================================================\n",
              "Input size (MB): 0.66\n",
              "Forward/backward pass size (MB): 48.42\n",
              "Params size (MB): 0.48\n",
              "Estimated Total Size (MB): 49.56\n",
              "=========================================================================================="
            ]
          },
          "execution_count": 1,
          "metadata": {},
          "output_type": "execute_result"
        }
      ],
      "source": [
        "import torch\n",
        "import torch.nn as nn\n",
        "import torch.nn.functional as F\n",
        "from torchinfo import summary\n",
        "\n",
        "\n",
        "\n",
        "class ConformerEncoderLayer(nn.Module):\n",
        "    \"\"\"\n",
        "    Conformer Encoder ~ Shopping\n",
        "    https://arxiv.org/abs/2005.08100\n",
        "\n",
        "    =====================================\n",
        "    - feed forward module\n",
        "    - multi heads self attention module\n",
        "    - convolution module\n",
        "    - feed forward module (may use the same module in 1)\n",
        "    - layer norm\n",
        "\n",
        "    =====================================\n",
        "\n",
        "    - feed forward module:\n",
        "      1-1 fully connected linear layer\n",
        "\n",
        "    - self attention module\n",
        "      2-1 layer norm\n",
        "      2-2 multi heads self attention\n",
        "      2-3 dropout\n",
        "\n",
        "    - convolution module\n",
        "      3-1 layer norm\n",
        "      3-2 pointwise conv\n",
        "      3-3 glu activation\n",
        "      3-4 1D depthwise conv\n",
        "      3-5 batch norm\n",
        "      3-6 swish activation\n",
        "      3-7 pointwise\n",
        "      3-8 dropout\n",
        "\n",
        "      ===================================\n",
        "\n",
        "      Instead of doing layer normalization in each module,\n",
        "      we do it outside the modules manually.\n",
        "\n",
        "      ===================================\n",
        "\n",
        "      Args:\n",
        "        d_model (:obj:`int`):\n",
        "          Dimension of the input features.\n",
        "        feedforward_dim (:obj:`int`):\n",
        "          Number of neurons in feed forward module.\n",
        "        num_heads (:obj:`int`):\n",
        "          number of heads in self attention module.\n",
        "        dropout_attn (:obj:`float`):\n",
        "          dropout in self attention module.\n",
        "        dropout_conv (:obj:`float`):\n",
        "          dropout in convolution module.      \n",
        "    \"\"\"\n",
        "    def __init__(self, d_model, feedforward_dim=256, num_heads=2, dropout_attn=0.1, dropout_conv=0.5):\n",
        "      super().__init__()\n",
        "\n",
        "      # layer norm\n",
        "      self.layer_norm = nn.LayerNorm(d_model)\n",
        "      \n",
        "      # feed forward module\n",
        "      self.fforward = nn.Sequential(\n",
        "        nn.Linear(d_model, feedforward_dim),\n",
        "        nn.ReLU(),\n",
        "        nn.Linear(feedforward_dim, d_model)\n",
        "      )\n",
        "      \n",
        "      # self attention module\n",
        "      self.attn = nn.MultiheadAttention(embed_dim=d_model, num_heads=num_heads, dropout=dropout_attn)\n",
        "\n",
        "      # convolution module\n",
        "      self.conv = nn.Sequential(\n",
        "        # pointwise convolution\n",
        "        nn.Conv1d(in_channels=d_model, out_channels=2*d_model, kernel_size=1, stride=1),\n",
        "        nn.GLU(dim=1),\n",
        "        # depthwise convolution\n",
        "        nn.Conv1d(in_channels=d_model, out_channels=d_model, kernel_size=3, stride=1, groups=d_model, padding=1),\n",
        "        nn.BatchNorm1d(d_model),\n",
        "        nn.SiLU(),\n",
        "        # pointwise convolution\n",
        "        nn.Conv1d(in_channels=d_model, out_channels=d_model, kernel_size=1, stride=1),\n",
        "        nn.Dropout1d(p=dropout_conv),\n",
        "      )\n",
        "\n",
        "    def forward(self, x):\n",
        "        # x: (batch, length, dim)\n",
        "        x = x + 0.5 * self.fforward(x)\n",
        "        x = self.layer_norm(x)\n",
        "        # (length, batch, dim)\n",
        "        x = x.transpose(0, 1)\n",
        "        x = x + self.attn(x, x, x)[0]\n",
        "        x = self.layer_norm(x)\n",
        "        # (batch, dim, length) where dim is viewed as channels in convolution\n",
        "        x = x.permute(1, 2, 0)\n",
        "        x = x + self.conv(x)\n",
        "        # (batch, length, dim)\n",
        "        x = x.transpose(1, 2)\n",
        "        x = x + 0.5 * self.fforward(x)\n",
        "        x = self.layer_norm(x)\n",
        "        return x\n",
        "\n",
        "\n",
        "class Classifier(nn.Module):\n",
        "  def __init__(self, d_model=80, n_spks=600, dropout_attn=0.1, dropout_conv=0.5, conformer_layers = 1, dr=1, conformer_speedup=1):\n",
        "    super().__init__()\n",
        "\n",
        "    self.conformer_speedup = conformer_speedup\n",
        "    self.conformerEncoder = nn.ModuleList([\n",
        "       ConformerEncoderLayer(d_model=d_model, dropout_attn=dropout_attn, dropout_conv=dropout_conv) for i in range(conformer_layers)\n",
        "       ])\n",
        "\n",
        "    # Project the dimension of features from that of input into d_model.\n",
        "    self.prenet = nn.Linear(40, d_model)\n",
        "\n",
        "    # layer norm\n",
        "    self.layer_norm = nn.LayerNorm(d_model)\n",
        "      \n",
        "    # feed forward module\n",
        "    self.fforward = nn.Sequential(\n",
        "      nn.Linear(d_model, 256),\n",
        "      nn.ReLU(),\n",
        "      nn.Linear(256, d_model)\n",
        "    )    \n",
        "\n",
        "    # self-attentive pooling\n",
        "    self.self_attn_pool = nn.Sequential(\n",
        "        nn.Linear(d_model, d_model),\n",
        "        nn.ReLU(),\n",
        "        nn.Linear(d_model, dr),\n",
        "        nn.Softmax(dim=1)\n",
        "    )\n",
        "\n",
        "    # Project the the dimension of features from d_model into speaker nums.\n",
        "    self.pred_layer = nn.Sequential(\n",
        "      #nn.Linear(d_model, d_model),\n",
        "      #nn.ReLU(),\n",
        "      nn.Linear(d_model, n_spks),\n",
        "    )\n",
        "\n",
        "  def conformer(self, x):\n",
        "    for conf in self.conformerEncoder:\n",
        "      x = conf(x)\n",
        "    return x\n",
        "      \n",
        "  def forward(self, mels):\n",
        "    \"\"\"\n",
        "    args:\n",
        "      mels: (batch size, length, 40)\n",
        "    return:\n",
        "      out: (batch size, n_spks)\n",
        "    \"\"\"\n",
        "    # out: (batch size, length, d_model)\n",
        "    out = self.prenet(mels)\n",
        "\n",
        "    #------Conformer Encoder Part---------------\n",
        "    # out: (batch size, length, d_model)\n",
        "    for i in range(self.conformer_speedup):\n",
        "      out = self.conformer(out)\n",
        "    #-------------------------------------------\n",
        "\n",
        "    #------Self Attention Pooling Part------------------\n",
        "    # annotation matrix (batch size, length, dr)\n",
        "    annoMat = self.self_attn_pool(out)\n",
        "    # stats: (batch size, dr, d_model)\n",
        "    stats = torch.bmm(annoMat.transpose(1, 2), out)\n",
        "    # stats: (batch size, d_model)\n",
        "    stats = torch.squeeze(stats, dim=1)\n",
        "    #---------------------------------------------------\n",
        "\n",
        "    # out: (batch, n_spks)\n",
        "    out = self.pred_layer(stats)\n",
        "    return out\n",
        "\n",
        "modelref = Classifier()\n",
        "summary(modelref, (32, 128, 40))"
      ]
    },
    {
      "cell_type": "markdown",
      "metadata": {
        "id": "-__DolPGpvDZ"
      },
      "source": [
        "# Learning rate schedule\n",
        "- For transformer architecture, the design of learning rate schedule is different from that of CNN.\n",
        "- Previous works show that the warmup of learning rate is useful for training models with transformer architectures.\n",
        "- The warmup schedule\n",
        "  - Set learning rate to 0 in the beginning.\n",
        "  - The learning rate increases linearly from 0 to initial learning rate during warmup period."
      ]
    },
    {
      "cell_type": "code",
      "execution_count": 11,
      "metadata": {
        "id": "K-0816BntqT9"
      },
      "outputs": [],
      "source": [
        "import math\n",
        "\n",
        "import torch\n",
        "from torch.optim import Optimizer\n",
        "from torch.optim.lr_scheduler import LambdaLR\n",
        "\n",
        "\n",
        "def get_cosine_schedule_with_warmup(\n",
        "  optimizer: Optimizer,\n",
        "  num_warmup_steps: int,\n",
        "  num_training_steps: int,\n",
        "  num_cycles: float = 0.5,\n",
        "  last_epoch: int = -1,\n",
        "):\n",
        "  \"\"\"\n",
        "  Create a schedule with a learning rate that decreases following the values of the cosine function between the\n",
        "  initial lr set in the optimizer to 0, after a warmup period during which it increases linearly between 0 and the\n",
        "  initial lr set in the optimizer.\n",
        "\n",
        "  Args:\n",
        "    optimizer (:class:`~torch.optim.Optimizer`):\n",
        "      The optimizer for which to schedule the learning rate.\n",
        "    num_warmup_steps (:obj:`int`):\n",
        "      The number of steps for the warmup phase.\n",
        "    num_training_steps (:obj:`int`):\n",
        "      The total number of training steps.\n",
        "    num_cycles (:obj:`float`, `optional`, defaults to 0.5):\n",
        "      The number of waves in the cosine schedule (the defaults is to just decrease from the max value to 0\n",
        "      following a half-cosine).\n",
        "    last_epoch (:obj:`int`, `optional`, defaults to -1):\n",
        "      The index of the last epoch when resuming training.\n",
        "\n",
        "  Return:\n",
        "    :obj:`torch.optim.lr_scheduler.LambdaLR` with the appropriate schedule.\n",
        "  \"\"\"\n",
        "\n",
        "  def lr_lambda(current_step):\n",
        "    # Warmup\n",
        "    if current_step < num_warmup_steps:\n",
        "      return float(current_step) / float(max(1, num_warmup_steps))\n",
        "    # decadence\n",
        "    progress = float(current_step - num_warmup_steps) / float(\n",
        "      max(1, num_training_steps - num_warmup_steps)\n",
        "    )\n",
        "    return max(\n",
        "      0.0, 0.5 * (1.0 + math.cos(math.pi * float(num_cycles) * 2.0 * progress))\n",
        "    )\n",
        "\n",
        "  return LambdaLR(optimizer, lr_lambda, last_epoch)\n"
      ]
    },
    {
      "cell_type": "markdown",
      "metadata": {
        "id": "IP03FFo9K8DS"
      },
      "source": [
        "# Model Function\n",
        "- Model forward function."
      ]
    },
    {
      "cell_type": "code",
      "execution_count": 12,
      "metadata": {
        "id": "fohaLEFJK9-t"
      },
      "outputs": [],
      "source": [
        "import torch\n",
        "\n",
        "\n",
        "def model_fn(batch, model, criterion, device):\n",
        "  \"\"\"Forward a batch through the model.\"\"\"\n",
        "\n",
        "  mels, labels = batch\n",
        "  mels = mels.to(device)\n",
        "  labels = labels.to(device)\n",
        "\n",
        "  outs = model(mels)\n",
        "\n",
        "  loss = criterion(outs, labels)\n",
        "\n",
        "  # Get the speaker id with highest probability.\n",
        "  preds = outs.argmax(1)\n",
        "  # Compute accuracy.\n",
        "  accuracy = torch.mean((preds == labels).float())\n",
        "\n",
        "  return loss, accuracy\n"
      ]
    },
    {
      "cell_type": "markdown",
      "metadata": {
        "id": "F7cg-YrzLQcf"
      },
      "source": [
        "# Validate\n",
        "- Calculate accuracy of the validation set."
      ]
    },
    {
      "cell_type": "code",
      "execution_count": 13,
      "metadata": {
        "id": "mD-_p6nWLO2L"
      },
      "outputs": [],
      "source": [
        "from tqdm import tqdm\n",
        "import torch\n",
        "\n",
        "\n",
        "def valid(dataloader, model, criterion, device):\n",
        "  \"\"\"Validate on validation set.\"\"\"\n",
        "\n",
        "  model.eval()\n",
        "  running_loss = 0.0\n",
        "  running_accuracy = 0.0\n",
        "  pbar = tqdm(total=len(dataloader.dataset), ncols=0, desc=\"Valid\", unit=\" uttr\")\n",
        "\n",
        "  for i, batch in enumerate(dataloader):\n",
        "    with torch.no_grad():\n",
        "      loss, accuracy = model_fn(batch, model, criterion, device)\n",
        "      running_loss += loss.item()\n",
        "      running_accuracy += accuracy.item()\n",
        "\n",
        "    pbar.update(dataloader.batch_size)\n",
        "    pbar.set_postfix(\n",
        "      loss=f\"{running_loss / (i+1):.2f}\",\n",
        "      accuracy=f\"{running_accuracy / (i+1):.2f}\",\n",
        "    )\n",
        "\n",
        "  pbar.close()\n",
        "  model.train()\n",
        "\n",
        "  return running_loss / len(dataloader), running_accuracy / len(dataloader)\n"
      ]
    },
    {
      "cell_type": "markdown",
      "metadata": {
        "id": "noHXyal5p1W5"
      },
      "source": [
        "# Main function"
      ]
    },
    {
      "cell_type": "markdown",
      "metadata": {
        "id": "1ZtLMxxYp-rv"
      },
      "source": [
        "## Accuracies Records\n",
        "Store the records of accuracy of training and validating, which are used in plotting."
      ]
    },
    {
      "cell_type": "code",
      "execution_count": 14,
      "metadata": {
        "id": "G0A1PAWsqHl4"
      },
      "outputs": [],
      "source": [
        "import numpy as np\n",
        "\n",
        "class Records:\n",
        "  def __init__(self):\n",
        "    self.train_accus = []\n",
        "    self.train_losses = []\n",
        "    self.valid_accus = []\n",
        "    self.valid_losses = []\n",
        "\n",
        "  def record_train(self, loss, accu):\n",
        "    self.train_accus.append(accu)\n",
        "    self.train_losses.append(loss)\n",
        "\n",
        "  def record_valid(self, loss, accu):\n",
        "    self.valid_accus.append(accu)\n",
        "    self.valid_losses.append(loss)\n",
        "\n",
        "  def get_mean_train_records(self, length=1000):\n",
        "    \"\"\"\n",
        "    Args:\n",
        "      length (:obj:`int`):\n",
        "        length of records to mean\n",
        "    Return:\n",
        "      mean loss, mean accuracy\n",
        "    \"\"\"\n",
        "    train_accus = np.array(self.train_accus)\n",
        "    train_losses = np.array(self.train_losses)\n",
        "    if len(train_accus) > length:\n",
        "      return train_losses[-length : -1].mean(), train_accus[-length : -1].mean()\n",
        "    else:\n",
        "      return train_losses[:-1].mean(), train_accus[:-1].mean()\n",
        "\n",
        "  def get_best_accu(self):\n",
        "    \"\"\"Get the best accuracies of training and validating stored.\"\"\"\n",
        "    return max(self.train_accus), max(self.valid_accus)\n",
        "\n",
        "  def get_records_for_plot(self):\n",
        "    \"\"\"\n",
        "    Get records for plotting.\n",
        "\n",
        "    Return:\n",
        "      gap between consecutive records, records of train (:obj:`dict`), records of validation (:obj:`dict`)\n",
        "    \"\"\"\n",
        "    train_accus = np.array(self.train_accus)\n",
        "    train_losses = np.array(self.train_losses)\n",
        "    valid_accus = np.array(self.valid_accus)\n",
        "    valid_losses = np.array(self.valid_losses)\n",
        "    # The length of training-accuracies (or losses) to mean so that the output lengths of train-\n",
        "    #   and valid-accuracies (or losses) be the same.\n",
        "    gap = (train_accus.size // valid_accus.size) + 1\n",
        "\n",
        "    out_train = {\"accuracy\": [], \"loss\": []}\n",
        "    out_valid = {\"accuracy\": valid_accus.tolist(), \"loss\": valid_losses.tolist()}\n",
        "\n",
        "    for i in range(valid_accus.size - 1):\n",
        "      out_train[\"accuracy\"].append(train_accus[i * gap : (i + 1) * gap].mean())\n",
        "      out_train[\"loss\"].append(train_losses[i * gap : (i + 1) * gap].mean())\n",
        "    out_train[\"accuracy\"].append(train_accus[(valid_accus.size - 1) * gap :].mean())\n",
        "    out_train[\"loss\"].append(train_losses[(valid_losses.size - 1) * gap :].mean())\n",
        "\n",
        "    return gap, out_train, out_valid\n",
        "\n",
        "# instanization\n",
        "records = Records()"
      ]
    },
    {
      "cell_type": "markdown",
      "metadata": {
        "id": "pPGNJ04CqD8-"
      },
      "source": [
        "## Main"
      ]
    },
    {
      "cell_type": "code",
      "execution_count": 15,
      "metadata": {
        "colab": {
          "base_uri": "https://localhost:8080/"
        },
        "id": "chRQE7oYtw62",
        "outputId": "2bfa2e43-fd45-40cf-c86a-76d912ad57c5"
      },
      "outputs": [
        {
          "name": "stdout",
          "output_type": "stream",
          "text": [
            "[Info]: Use cuda now!\n"
          ]
        },
        {
          "name": "stderr",
          "output_type": "stream",
          "text": [
            "/usr/local/lib/python3.10/dist-packages/torch/utils/data/dataloader.py:557: UserWarning: This DataLoader will create 8 worker processes in total. Our suggested max number of worker in current system is 2, which is smaller than what this DataLoader is going to create. Please be aware that excessive worker creation might get DataLoader running slow or even freeze, lower the worker number to avoid potential slowness/freeze if necessary.\n",
            "  warnings.warn(_create_warning_msg(\n"
          ]
        },
        {
          "name": "stdout",
          "output_type": "stream",
          "text": [
            "[Info]: Finish loading data!\n",
            "[Info]: Finish creating model!\n"
          ]
        },
        {
          "name": "stderr",
          "output_type": "stream",
          "text": [
            "Train:  98% 1952/2000 [02:21<00:02, 16.59 step/s, accuracy=0.22, loss=3.89, step=1952]/usr/local/lib/python3.10/dist-packages/torch/utils/data/dataloader.py:557: UserWarning: This DataLoader will create 8 worker processes in total. Our suggested max number of worker in current system is 2, which is smaller than what this DataLoader is going to create. Please be aware that excessive worker creation might get DataLoader running slow or even freeze, lower the worker number to avoid potential slowness/freeze if necessary.\n",
            "  warnings.warn(_create_warning_msg(\n",
            "Train: 100% 2000/2000 [02:24<00:00, 13.86 step/s, accuracy=0.09, loss=4.16, step=2000]\n",
            "Valid: 100% 6944/6944 [00:15<00:00, 454.60 uttr/s, accuracy=0.19, loss=4.01]\n",
            "Train: 100% 2000/2000 [02:01<00:00, 16.52 step/s, accuracy=0.31, loss=3.13, step=4000]\n",
            "Valid: 100% 6944/6944 [00:14<00:00, 490.77 uttr/s, accuracy=0.31, loss=3.21]\n",
            "Train: 100% 2000/2000 [01:59<00:00, 16.70 step/s, accuracy=0.38, loss=2.65, step=6000]\n",
            "Valid: 100% 6944/6944 [00:14<00:00, 475.03 uttr/s, accuracy=0.40, loss=2.75]\n",
            "Train: 100% 2000/2000 [02:00<00:00, 16.60 step/s, accuracy=0.31, loss=2.76, step=8000]\n",
            "Valid: 100% 6944/6944 [00:14<00:00, 470.57 uttr/s, accuracy=0.45, loss=2.50]\n",
            "Train: 100% 2000/2000 [02:01<00:00, 16.47 step/s, accuracy=0.56, loss=1.92, step=1e+4]\n",
            "Valid: 100% 6944/6944 [00:14<00:00, 471.63 uttr/s, accuracy=0.49, loss=2.26]\n",
            "Train:   0% 5/2000 [00:00<01:23, 23.77 step/s, accuracy=0.38, loss=2.39, step=1e+4]"
          ]
        },
        {
          "name": "stdout",
          "output_type": "stream",
          "text": [
            "Step 10000, best model saved. (accuracy=0.4886)\n"
          ]
        },
        {
          "name": "stderr",
          "output_type": "stream",
          "text": [
            "Train: 100% 2000/2000 [01:59<00:00, 16.69 step/s, accuracy=0.75, loss=1.17, step=12000]\n",
            "Valid: 100% 6944/6944 [00:14<00:00, 473.15 uttr/s, accuracy=0.55, loss=1.95]\n",
            "Train: 100% 2000/2000 [02:01<00:00, 16.43 step/s, accuracy=0.66, loss=1.50, step=14000]\n",
            "Valid: 100% 6944/6944 [00:15<00:00, 456.99 uttr/s, accuracy=0.59, loss=1.80]\n",
            "Train: 100% 2000/2000 [02:01<00:00, 16.42 step/s, accuracy=0.53, loss=1.78, step=16000]\n",
            "Valid: 100% 6944/6944 [00:15<00:00, 451.90 uttr/s, accuracy=0.61, loss=1.70]\n",
            "Train: 100% 2000/2000 [02:03<00:00, 16.19 step/s, accuracy=0.62, loss=1.46, step=18000]\n",
            "Valid: 100% 6944/6944 [00:15<00:00, 440.75 uttr/s, accuracy=0.63, loss=1.60]\n",
            "Train: 100% 2000/2000 [02:01<00:00, 16.52 step/s, accuracy=0.78, loss=1.03, step=2e+4]\n",
            "Valid: 100% 6944/6944 [00:15<00:00, 459.13 uttr/s, accuracy=0.65, loss=1.50]\n",
            "Train:   0% 5/2000 [00:00<01:29, 22.31 step/s, accuracy=0.69, loss=0.92, step=2e+4]"
          ]
        },
        {
          "name": "stdout",
          "output_type": "stream",
          "text": [
            "Step 20000, best model saved. (accuracy=0.6501)\n"
          ]
        },
        {
          "name": "stderr",
          "output_type": "stream",
          "text": [
            "Train: 100% 2000/2000 [02:02<00:00, 16.27 step/s, accuracy=0.62, loss=1.45, step=22000]\n",
            "Valid: 100% 6944/6944 [00:15<00:00, 455.43 uttr/s, accuracy=0.67, loss=1.43]\n",
            "Train: 100% 2000/2000 [02:00<00:00, 16.63 step/s, accuracy=0.72, loss=1.18, step=24000]\n",
            "Valid: 100% 6944/6944 [00:15<00:00, 443.64 uttr/s, accuracy=0.68, loss=1.36]\n",
            "Train: 100% 2000/2000 [01:58<00:00, 16.93 step/s, accuracy=0.84, loss=1.10, step=26000]\n",
            "Valid: 100% 6944/6944 [00:15<00:00, 453.82 uttr/s, accuracy=0.70, loss=1.28]\n",
            "Train: 100% 2000/2000 [01:58<00:00, 16.93 step/s, accuracy=0.62, loss=1.16, step=28000]\n",
            "Valid: 100% 6944/6944 [00:15<00:00, 457.63 uttr/s, accuracy=0.70, loss=1.26]\n",
            "Train: 100% 2000/2000 [02:01<00:00, 16.44 step/s, accuracy=0.84, loss=0.53, step=3e+4]\n",
            "Valid: 100% 6944/6944 [00:16<00:00, 431.84 uttr/s, accuracy=0.71, loss=1.21]\n",
            "Train:   0% 4/2000 [00:00<02:04, 16.04 step/s, accuracy=0.69, loss=1.06, step=3e+4]"
          ]
        },
        {
          "name": "stdout",
          "output_type": "stream",
          "text": [
            "Step 30000, best model saved. (accuracy=0.7126)\n"
          ]
        },
        {
          "name": "stderr",
          "output_type": "stream",
          "text": [
            "Train: 100% 2000/2000 [02:02<00:00, 16.34 step/s, accuracy=0.72, loss=0.97, step=32000]\n",
            "Valid: 100% 6944/6944 [00:15<00:00, 445.01 uttr/s, accuracy=0.71, loss=1.19]\n",
            "Train: 100% 2000/2000 [02:00<00:00, 16.66 step/s, accuracy=0.72, loss=1.05, step=34000]\n",
            "Valid: 100% 6944/6944 [00:15<00:00, 435.75 uttr/s, accuracy=0.73, loss=1.17]\n",
            "Train: 100% 2000/2000 [02:00<00:00, 16.60 step/s, accuracy=0.94, loss=0.47, step=36000]\n",
            "Valid: 100% 6944/6944 [00:16<00:00, 433.79 uttr/s, accuracy=0.75, loss=1.09]\n",
            "Train: 100% 2000/2000 [01:59<00:00, 16.78 step/s, accuracy=0.78, loss=0.81, step=38000]\n",
            "Valid: 100% 6944/6944 [00:15<00:00, 434.55 uttr/s, accuracy=0.75, loss=1.05]\n",
            "Train: 100% 2000/2000 [02:03<00:00, 16.22 step/s, accuracy=0.69, loss=0.94, step=4e+4]\n",
            "Valid: 100% 6944/6944 [00:15<00:00, 436.19 uttr/s, accuracy=0.75, loss=1.05]\n",
            "Train:   0% 6/2000 [00:00<01:21, 24.34 step/s, accuracy=0.88, loss=0.59, step=4e+4]"
          ]
        },
        {
          "name": "stdout",
          "output_type": "stream",
          "text": [
            "Step 40000, best model saved. (accuracy=0.7499)\n"
          ]
        },
        {
          "name": "stderr",
          "output_type": "stream",
          "text": [
            "Train: 100% 2000/2000 [01:58<00:00, 16.84 step/s, accuracy=0.84, loss=0.67, step=42000]\n",
            "Valid: 100% 6944/6944 [00:16<00:00, 420.07 uttr/s, accuracy=0.77, loss=0.97]\n",
            "Train: 100% 2000/2000 [01:59<00:00, 16.77 step/s, accuracy=0.88, loss=0.44, step=44000]\n",
            "Valid: 100% 6944/6944 [00:16<00:00, 419.43 uttr/s, accuracy=0.77, loss=0.96]\n",
            "Train: 100% 2000/2000 [02:01<00:00, 16.48 step/s, accuracy=0.88, loss=0.65, step=46000]\n",
            "Valid: 100% 6944/6944 [00:16<00:00, 415.64 uttr/s, accuracy=0.77, loss=0.95]\n",
            "Train: 100% 2000/2000 [01:57<00:00, 16.95 step/s, accuracy=0.81, loss=0.69, step=48000]\n",
            "Valid: 100% 6944/6944 [00:16<00:00, 422.98 uttr/s, accuracy=0.77, loss=0.94]\n",
            "Train: 100% 2000/2000 [01:58<00:00, 16.88 step/s, accuracy=0.84, loss=0.61, step=5e+4]\n",
            "Valid: 100% 6944/6944 [00:16<00:00, 426.29 uttr/s, accuracy=0.79, loss=0.89]\n",
            "Train:   0% 4/2000 [00:00<01:31, 21.85 step/s, accuracy=0.81, loss=0.82, step=5e+4]"
          ]
        },
        {
          "name": "stdout",
          "output_type": "stream",
          "text": [
            "Step 50000, best model saved. (accuracy=0.7860)\n"
          ]
        },
        {
          "name": "stderr",
          "output_type": "stream",
          "text": [
            "Train: 100% 2000/2000 [01:59<00:00, 16.70 step/s, accuracy=0.84, loss=0.76, step=52000]\n",
            "Valid: 100% 6944/6944 [00:16<00:00, 425.83 uttr/s, accuracy=0.79, loss=0.88]\n",
            "Train: 100% 2000/2000 [02:01<00:00, 16.40 step/s, accuracy=0.91, loss=0.61, step=54000]\n",
            "Valid: 100% 6944/6944 [00:15<00:00, 444.12 uttr/s, accuracy=0.80, loss=0.86]\n",
            "Train: 100% 2000/2000 [02:00<00:00, 16.65 step/s, accuracy=0.84, loss=0.51, step=56000]\n",
            "Valid: 100% 6944/6944 [00:15<00:00, 435.21 uttr/s, accuracy=0.79, loss=0.85]\n",
            "Train: 100% 2000/2000 [02:01<00:00, 16.49 step/s, accuracy=0.84, loss=0.72, step=58000]\n",
            "Valid: 100% 6944/6944 [00:16<00:00, 425.41 uttr/s, accuracy=0.81, loss=0.82]\n",
            "Train: 100% 2000/2000 [02:01<00:00, 16.52 step/s, accuracy=0.94, loss=0.54, step=6e+4]\n",
            "Valid: 100% 6944/6944 [00:16<00:00, 416.83 uttr/s, accuracy=0.80, loss=0.84]\n",
            "Train:   0% 3/2000 [00:00<02:15, 14.69 step/s, accuracy=0.75, loss=1.02, step=6e+4]"
          ]
        },
        {
          "name": "stdout",
          "output_type": "stream",
          "text": [
            "Step 60000, best model saved. (accuracy=0.8062)\n"
          ]
        },
        {
          "name": "stderr",
          "output_type": "stream",
          "text": [
            "Train: 100% 2000/2000 [02:07<00:00, 15.67 step/s, accuracy=0.94, loss=0.34, step=62000]\n",
            "Valid: 100% 6944/6944 [00:15<00:00, 441.95 uttr/s, accuracy=0.81, loss=0.82]\n",
            "Train: 100% 2000/2000 [02:04<00:00, 16.00 step/s, accuracy=0.91, loss=0.41, step=64000]\n",
            "Valid: 100% 6944/6944 [00:16<00:00, 415.61 uttr/s, accuracy=0.81, loss=0.83]\n",
            "Train: 100% 2000/2000 [02:01<00:00, 16.42 step/s, accuracy=0.94, loss=0.47, step=66000]\n",
            "Valid: 100% 6944/6944 [00:15<00:00, 436.02 uttr/s, accuracy=0.81, loss=0.82]\n",
            "Train: 100% 2000/2000 [02:00<00:00, 16.56 step/s, accuracy=0.91, loss=0.45, step=68000]\n",
            "Valid: 100% 6944/6944 [00:15<00:00, 455.80 uttr/s, accuracy=0.81, loss=0.81]\n",
            "Train: 100% 2000/2000 [02:02<00:00, 16.28 step/s, accuracy=0.88, loss=0.50, step=7e+4]\n",
            "Valid: 100% 6944/6944 [00:15<00:00, 458.53 uttr/s, accuracy=0.81, loss=0.80]\n",
            "Train:   0% 0/2000 [00:00<?, ? step/s]\n"
          ]
        },
        {
          "name": "stdout",
          "output_type": "stream",
          "text": [
            "Step 70000, best model saved. (accuracy=0.8118)\n"
          ]
        }
      ],
      "source": [
        "from tqdm import tqdm\n",
        "\n",
        "import torch\n",
        "import torch.nn as nn\n",
        "from torch.optim import AdamW\n",
        "from torch.utils.data import DataLoader, random_split\n",
        "\n",
        "\n",
        "def parse_args():\n",
        "  \"\"\"arguments\"\"\"\n",
        "  config = {\n",
        "    \"data_dir\": \"./Dataset\",\n",
        "    \"save_path\": \"./model.ckpt\",\n",
        "    \"model_path\": \"./model.ckpt\",\n",
        "    \"batch_size\": 32,\n",
        "    \"n_workers\": 8,\n",
        "    \"valid_steps\": 2000,\n",
        "    \"warmup_steps\": 1000,\n",
        "    \"save_steps\": 10000,\n",
        "    \"total_steps\": 70000,\n",
        "    \"load_model\": False,\n",
        "  }\n",
        "  return config\n",
        "\n",
        "\n",
        "\n",
        "def main(\n",
        "  data_dir,\n",
        "  save_path,\n",
        "  model_path,\n",
        "  batch_size,\n",
        "  n_workers,\n",
        "  valid_steps,\n",
        "  warmup_steps,\n",
        "  total_steps,\n",
        "  save_steps,\n",
        "  load_model,\n",
        "):\n",
        "  \"\"\"Main function.\"\"\"\n",
        "  device = torch.device(\"cuda\" if torch.cuda.is_available() else \"cpu\")\n",
        "  print(f\"[Info]: Use {device} now!\")\n",
        "\n",
        "  train_loader, valid_loader, speaker_num = get_dataloader(data_dir, batch_size, n_workers)\n",
        "  train_iterator = iter(train_loader)\n",
        "  print(f\"[Info]: Finish loading data!\",flush = True)\n",
        "\n",
        "  # load/create model\n",
        "  if load_model:\n",
        "    model.load_state_dict(torch.load(model_path))\n",
        "  else:\n",
        "    model = Classifier(d_model=128, conformer_layers=2, conformer_speedup=4, n_spks=speaker_num).to(device)\n",
        "\n",
        "  criterion = nn.CrossEntropyLoss()\n",
        "  optimizer = AdamW(model.parameters(), lr=1e-3)\n",
        "  scheduler = get_cosine_schedule_with_warmup(optimizer, warmup_steps, total_steps)\n",
        "  print(f\"[Info]: Finish creating model!\",flush = True)\n",
        "\n",
        "  best_accuracy = -1.0\n",
        "  best_state_dict = None\n",
        "\n",
        "  pbar = tqdm(total=valid_steps, ncols=0, desc=\"Train\", unit=\" step\")\n",
        "\n",
        "  for step in range(total_steps):\n",
        "    # Get data\n",
        "    try:\n",
        "      batch = next(train_iterator)\n",
        "    except StopIteration:\n",
        "      train_iterator = iter(train_loader)\n",
        "      batch = next(train_iterator)\n",
        "\n",
        "    loss, accuracy = model_fn(batch, model, criterion, device)\n",
        "    records.record_train(loss.item(), accuracy.item())\n",
        "\n",
        "    # Updata model\n",
        "    loss.backward()\n",
        "    optimizer.step()\n",
        "    scheduler.step()\n",
        "    optimizer.zero_grad()\n",
        "\n",
        "    # Log\n",
        "    mean_train_loss, mean_train_accu = records.get_mean_train_records(500)\n",
        "    pbar.update()\n",
        "    pbar.set_postfix(\n",
        "      loss=f\"{mean_train_loss:.2f}\",\n",
        "      accuracy=f\"{mean_train_accu:.2f}\",\n",
        "      step=step + 1,\n",
        "    )\n",
        "\n",
        "    # Do validation\n",
        "    if (step + 1) % valid_steps == 0:\n",
        "      pbar.close()\n",
        "\n",
        "      valid_loss, valid_accuracy = valid(valid_loader, model, criterion, device)\n",
        "      records.record_valid(valid_loss, valid_accuracy)\n",
        "\n",
        "      # keep the best model\n",
        "      if valid_accuracy > best_accuracy:\n",
        "        best_accuracy = valid_accuracy\n",
        "        best_state_dict = model.state_dict()\n",
        "\n",
        "      pbar = tqdm(total=valid_steps, ncols=0, desc=\"Train\", unit=\" step\")\n",
        "\n",
        "    # Save the best model so far.\n",
        "    if (step + 1) % save_steps == 0 and best_state_dict is not None:\n",
        "      torch.save(best_state_dict, save_path)\n",
        "      pbar.write(f\"Step {step + 1}, best model saved. (accuracy={best_accuracy:.4f})\")\n",
        "\n",
        "  pbar.close()\n",
        "\n",
        "\n",
        "if __name__ == \"__main__\":\n",
        "  main(**parse_args())\n"
      ]
    },
    {
      "cell_type": "markdown",
      "metadata": {
        "id": "LujR3Hv1VGBC"
      },
      "source": [
        "## Plotting"
      ]
    },
    {
      "cell_type": "code",
      "execution_count": 16,
      "metadata": {
        "colab": {
          "base_uri": "https://localhost:8080/",
          "height": 410
        },
        "id": "t-EwK8igVNCy",
        "outputId": "11d89823-861d-4e18-f81a-8b76166c99e8"
      },
      "outputs": [
        {
          "name": "stdout",
          "output_type": "stream",
          "text": [
            "0.8629832146490336 0.810339861751152\n"
          ]
        },
        {
          "data": {
            "image/png": "[encoded data removed]",
            "text/plain": [
              "<Figure size 600x400 with 1 Axes>"
            ]
          },
          "metadata": {},
          "output_type": "display_data"
        }
      ],
      "source": [
        "import matplotlib.pyplot as plt\n",
        "from matplotlib.pyplot import figure\n",
        "\n",
        "\n",
        "gap, records_train, records_valid = records.get_records_for_plot()\n",
        "print(f\"training accuracy: {records_train[\"accuracy\"][-1]} | valid accuracy: {records_valid[\"accuracy\"][-1]}\")\n",
        "print(f\"training loss: {records_train[\"loss\"][-1]} | valid loss: {records_valid[\"loss\"][-1]}\")\n",
        "\n",
        "# Base figure\n",
        "figure = plt.figure(figsize=(6, 12))\n",
        "x = [gap * (i+1) for i in range(len(records_valid[\"accuracy\"]))]\n",
        "\n",
        "# accuracy\n",
        "figure.add_subplot(2, 1, 1)\n",
        "plt.plot(x, records_train[\"accuracy\"], c=\"tab:red\", label=\"train\")\n",
        "plt.plot(x, records_valid[\"accuracy\"], c=\"tab:cyan\", label=\"valid\")\n",
        "plt.ylim(0.0, 1.0)\n",
        "plt.xlabel(\"steps\")\n",
        "plt.ylabel(\"accuracy\")\n",
        "plt.legend()\n",
        "\n",
        "# loss\n",
        "figure.add_subplot(2, 1, 2)\n",
        "plt.plot(x, records_train[\"loss\"], c=\"tab:red\", label=\"train\")\n",
        "plt.plot(x, records_valid[\"loss\"], c=\"tab:cyan\", label=\"valid\")\n",
        "plt.ylim(0.0, 5.0)\n",
        "plt.xlabel(\"steps\")\n",
        "plt.ylabel(\"loss\")\n",
        "plt.legend()\n",
        "\n",
        "plt.show()"
      ]
    },
    {
      "cell_type": "markdown",
      "metadata": {
        "id": "0R2rx3AyHpQ-"
      },
      "source": [
        "# Inference"
      ]
    },
    {
      "cell_type": "markdown",
      "metadata": {
        "id": "pSuI3WY9Fz78"
      },
      "source": [
        "## Dataset of inference"
      ]
    },
    {
      "cell_type": "code",
      "execution_count": null,
      "metadata": {
        "id": "4evns0055Dsx"
      },
      "outputs": [],
      "source": [
        "import os\n",
        "import json\n",
        "import torch\n",
        "from pathlib import Path\n",
        "from torch.utils.data import Dataset\n",
        "\n",
        "\n",
        "class InferenceDataset(Dataset):\n",
        "  def __init__(self, data_dir):\n",
        "    testdata_path = Path(data_dir) / \"testdata.json\"\n",
        "    metadata = json.load(testdata_path.open())\n",
        "    self.data_dir = data_dir\n",
        "    self.data = metadata[\"utterances\"]\n",
        "\n",
        "  def __len__(self):\n",
        "    return len(self.data)\n",
        "\n",
        "  def __getitem__(self, index):\n",
        "    utterance = self.data[index]\n",
        "    feat_path = utterance[\"feature_path\"]\n",
        "    mel = torch.load(os.path.join(self.data_dir, feat_path))\n",
        "\n",
        "    return feat_path, mel\n",
        "\n",
        "\n",
        "def inference_collate_batch(batch):\n",
        "  \"\"\"Collate a batch of data.\"\"\"\n",
        "  feat_paths, mels = zip(*batch)\n",
        "\n",
        "  return feat_paths, torch.stack(mels)\n"
      ]
    },
    {
      "cell_type": "markdown",
      "metadata": {
        "id": "oAinHBG1GIWv"
      },
      "source": [
        "## Main funcrion of Inference"
      ]
    },
    {
      "cell_type": "code",
      "execution_count": null,
      "metadata": {
        "id": "yQaTt7VDHoRI"
      },
      "outputs": [],
      "source": [
        "import json\n",
        "import csv\n",
        "from pathlib import Path\n",
        "from tqdm.notebook import tqdm\n",
        "\n",
        "import torch\n",
        "from torch.utils.data import DataLoader\n",
        "\n",
        "def parse_args():\n",
        "  \"\"\"arguments\"\"\"\n",
        "  config = {\n",
        "    \"data_dir\": \"./Dataset\",\n",
        "    \"model_path\": \"./model.ckpt\",\n",
        "    \"output_path\": \"./output.csv\",\n",
        "  }\n",
        "\n",
        "  return config\n",
        "\n",
        "\n",
        "def main(\n",
        "  data_dir,\n",
        "  model_path,\n",
        "  output_path,\n",
        "):\n",
        "  \"\"\"Main function.\"\"\"\n",
        "  device = torch.device(\"cuda\" if torch.cuda.is_available() else \"cpu\")\n",
        "  print(f\"[Info]: Use {device} now!\")\n",
        "\n",
        "  mapping_path = Path(data_dir) / \"mapping.json\"\n",
        "  mapping = json.load(mapping_path.open())\n",
        "\n",
        "  dataset = InferenceDataset(data_dir)\n",
        "  dataloader = DataLoader(\n",
        "    dataset,\n",
        "    batch_size=1,\n",
        "    shuffle=False,\n",
        "    drop_last=False,\n",
        "    num_workers=8,\n",
        "    collate_fn=inference_collate_batch,\n",
        "  )\n",
        "  print(f\"[Info]: Finish loading data!\",flush = True)\n",
        "\n",
        "  speaker_num = len(mapping[\"id2speaker\"])\n",
        "  model = Classifier(n_spks=speaker_num).to(device)\n",
        "  model.load_state_dict(torch.load(model_path))\n",
        "  model.eval()\n",
        "  print(f\"[Info]: Finish creating model!\",flush = True)\n",
        "\n",
        "  results = [[\"Id\", \"Category\"]]\n",
        "  for feat_paths, mels in tqdm(dataloader):\n",
        "    with torch.no_grad():\n",
        "      mels = mels.to(device)\n",
        "      outs = model(mels)\n",
        "      preds = outs.argmax(1).cpu().numpy()\n",
        "      for feat_path, pred in zip(feat_paths, preds):\n",
        "        results.append([feat_path, mapping[\"id2speaker\"][str(pred)]])\n",
        "\n",
        "  with open(output_path, 'w', newline='') as csvfile:\n",
        "    writer = csv.writer(csvfile)\n",
        "    writer.writerows(results)\n",
        "\n",
        "\n",
        "if __name__ == \"__main__\":\n",
        "  main(**parse_args())\n"
      ]
    }
  ],
  "metadata": {
    "accelerator": "GPU",
    "colab": {
      "gpuType": "T4",
      "name": "HW04.ipynb",
      "provenance": []
    },
    "kernelspec": {
      "display_name": "Python 3",
      "name": "python3"
    },
    "language_info": {
      "codemirror_mode": {
        "name": "ipython",
        "version": 3
      },
      "file_extension": ".py",
      "mimetype": "text/x-python",
      "name": "python",
      "nbconvert_exporter": "python",
      "pygments_lexer": "ipython3",
      "version": "3.10.13"
    }
  },
  "nbformat": 4,
  "nbformat_minor": 0
}
