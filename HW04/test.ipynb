{
 "cells": [
  {
   "cell_type": "code",
   "execution_count": 2,
   "metadata": {},
   "outputs": [
    {
     "name": "stdout",
     "output_type": "stream",
     "text": [
      "{'__name__': '__main__', '__doc__': 'Automatically created module for IPython interactive environment', '__package__': None, '__loader__': None, '__spec__': None, '__builtin__': <module 'builtins' (built-in)>, '__builtins__': <module 'builtins' (built-in)>, '_ih': ['', 'import torch\\nfrom torch.utils.data import Dataset\\n\\n\\nglobals()\\n\\nclass A(Dataset):\\n    def __init__(self):\\n        super().__init__()\\n\\n        self.data = 1\\n\\n    def __getitem__(self, index):\\n        return super().__getitem__(index)\\n    \\n    def __len__(self):\\n        return 0\\n    \\ndef get_label(dataset):\\n    print(dataset)\\n    dataset.data = 999\\n\\na = A()\\n\\nget_label(a)\\n\\nprint(a, a.data)', 'import torch\\nfrom torch.utils.data import Dataset\\n\\n\\nprint(globals())\\n\\nclass A(Dataset):\\n    def __init__(self):\\n        super().__init__()\\n\\n        self.data = 1\\n\\n    def __getitem__(self, index):\\n        return super().__getitem__(index)\\n    \\n    def __len__(self):\\n        return 0\\n    \\ndef get_label(dataset):\\n    print(dataset)\\n    dataset.data = 999\\n\\na = A()\\n\\nget_label(a)\\n\\nprint(a, a.data)'], '_oh': {}, '_dh': [PosixPath('/Users/complexa/ML2021/ML21_HW/HW04'), PosixPath('/Users/complexa/ML2021/ML21_HW/HW04')], 'In': ['', 'import torch\\nfrom torch.utils.data import Dataset\\n\\n\\nglobals()\\n\\nclass A(Dataset):\\n    def __init__(self):\\n        super().__init__()\\n\\n        self.data = 1\\n\\n    def __getitem__(self, index):\\n        return super().__getitem__(index)\\n    \\n    def __len__(self):\\n        return 0\\n    \\ndef get_label(dataset):\\n    print(dataset)\\n    dataset.data = 999\\n\\na = A()\\n\\nget_label(a)\\n\\nprint(a, a.data)', 'import torch\\nfrom torch.utils.data import Dataset\\n\\n\\nprint(globals())\\n\\nclass A(Dataset):\\n    def __init__(self):\\n        super().__init__()\\n\\n        self.data = 1\\n\\n    def __getitem__(self, index):\\n        return super().__getitem__(index)\\n    \\n    def __len__(self):\\n        return 0\\n    \\ndef get_label(dataset):\\n    print(dataset)\\n    dataset.data = 999\\n\\na = A()\\n\\nget_label(a)\\n\\nprint(a, a.data)'], 'Out': {}, 'get_ipython': <bound method InteractiveShell.get_ipython of <ipykernel.zmqshell.ZMQInteractiveShell object at 0x10810a9e0>>, 'exit': <IPython.core.autocall.ZMQExitAutocall object at 0x10810b730>, 'quit': <IPython.core.autocall.ZMQExitAutocall object at 0x10810b730>, 'open': <function open at 0x106b4cc10>, '_': '', '__': '', '___': '', '__vsc_ipynb_file__': '/Users/complexa/ML2021/ML21_HW/HW04/test.ipynb', '_i': 'import torch\\nfrom torch.utils.data import Dataset\\n\\n\\nglobals()\\n\\nclass A(Dataset):\\n    def __init__(self):\\n        super().__init__()\\n\\n        self.data = 1\\n\\n    def __getitem__(self, index):\\n        return super().__getitem__(index)\\n    \\n    def __len__(self):\\n        return 0\\n    \\ndef get_label(dataset):\\n    print(dataset)\\n    dataset.data = 999\\n\\na = A()\\n\\nget_label(a)\\n\\nprint(a, a.data)', '_ii': '', '_iii': '', '_i1': 'import torch\\nfrom torch.utils.data import Dataset\\n\\n\\nglobals()\\n\\nclass A(Dataset):\\n    def __init__(self):\\n        super().__init__()\\n\\n        self.data = 1\\n\\n    def __getitem__(self, index):\\n        return super().__getitem__(index)\\n    \\n    def __len__(self):\\n        return 0\\n    \\ndef get_label(dataset):\\n    print(dataset)\\n    dataset.data = 999\\n\\na = A()\\n\\nget_label(a)\\n\\nprint(a, a.data)', 'torch': <module 'torch' from '/Users/complexa/anaconda3/envs/complexa_ML21_3a/lib/python3.10/site-packages/torch/__init__.py'>, 'Dataset': <class 'torch.utils.data.dataset.Dataset'>, 'A': <class '__main__.A'>, 'get_label': <function get_label at 0x108653880>, 'a': <__main__.A object at 0x10866e9e0>, '_i2': 'import torch\\nfrom torch.utils.data import Dataset\\n\\n\\nprint(globals())\\n\\nclass A(Dataset):\\n    def __init__(self):\\n        super().__init__()\\n\\n        self.data = 1\\n\\n    def __getitem__(self, index):\\n        return super().__getitem__(index)\\n    \\n    def __len__(self):\\n        return 0\\n    \\ndef get_label(dataset):\\n    print(dataset)\\n    dataset.data = 999\\n\\na = A()\\n\\nget_label(a)\\n\\nprint(a, a.data)'}\n",
      "<__main__.A object at 0x1085537f0>\n",
      "<__main__.A object at 0x1085537f0> 999\n"
     ]
    }
   ],
   "source": [
    "import torch\n",
    "from torch.utils.data import Dataset\n",
    "\n",
    "\n",
    "print(globals())\n",
    "\n",
    "class A(Dataset):\n",
    "    def __init__(self):\n",
    "        super().__init__()\n",
    "\n",
    "        self.data = 1\n",
    "\n",
    "    def __getitem__(self, index):\n",
    "        return super().__getitem__(index)\n",
    "    \n",
    "    def __len__(self):\n",
    "        return 0\n",
    "    \n",
    "def get_label(dataset):\n",
    "    print(dataset)\n",
    "    dataset.data = 999\n",
    "\n",
    "a = A()\n",
    "\n",
    "get_label(a)\n",
    "\n",
    "print(a, a.data)"
   ]
  },
  {
   "cell_type": "code",
   "execution_count": 12,
   "metadata": {},
   "outputs": [
    {
     "name": "stdout",
     "output_type": "stream",
     "text": [
      "<class 'pathlib.PosixPath'>\n"
     ]
    }
   ],
   "source": [
    "from pathlib import Path\n",
    "import json\n",
    "\n",
    "\n",
    "a = Path(\"./Dataset\") / \"metadata.json\""
   ]
  },
  {
   "cell_type": "code",
   "execution_count": 40,
   "metadata": {},
   "outputs": [
    {
     "name": "stdout",
     "output_type": "stream",
     "text": [
      "[([[1, 2, 3], [4, 5, 6]], 0), ([[2, 3, 4], [5, 6, 7]], 1), ([[9, 9, 9], [0, 0, 0]], 2)] \n",
      "\n",
      "([[1, 2, 3], [4, 5, 6]], [[2, 3, 4], [5, 6, 7]], [[9, 9, 9], [0, 0, 0]]) (0, 1, 2)\n",
      "<class 'tuple'>\n",
      "<class 'zip'>\n",
      "([[1, 2, 3], [4, 5, 6]], [[2, 3, 4], [5, 6, 7]], [[9, 9, 9], [0, 0, 0]]) (0, 1, 2) \n",
      "\n",
      "[(1,), (2,)]\n"
     ]
    }
   ],
   "source": [
    "sample1 = ([[1,2,3],[4,5,6]], 0)\n",
    "sample2 = ([[2,3,4],[5,6,7]], 1)\n",
    "sample3 = ([[9,9,9],[0,0,0]], 2)\n",
    "\n",
    "samples = [sample1, sample2, sample3]\n",
    "print(samples, \"\\n\")\n",
    "\n",
    "# break the list structure\n",
    "f, l = zip(*samples)\n",
    "print(f, l)\n",
    "print(type(f))\n",
    "\n",
    "# zip object is returned\n",
    "zipped = zip(sample1, sample2, sample3)\n",
    "print(type(zipped))\n",
    "j, k = list(zipped)\n",
    "print(j, k, \"\\n\")\n",
    "\n",
    "# automatically zip [1,2] and [] together!\n",
    "q = list(zip([1,2]))\n",
    "print(q)"
   ]
  },
  {
   "cell_type": "code",
   "execution_count": 70,
   "metadata": {},
   "outputs": [
    {
     "name": "stdout",
     "output_type": "stream",
     "text": [
      "torch.Size([3, 2, 4]) \n",
      " tensor([[[0.5887, 0.1941, 0.0943, 0.0441],\n",
      "         [0.6562, 0.9275, 0.0228, 0.9611]],\n",
      "\n",
      "        [[0.4304, 0.4051, 0.1363, 0.6854],\n",
      "         [0.3851, 0.9096, 0.8259, 0.0922]],\n",
      "\n",
      "        [[0.2056, 0.3901, 0.5803, 0.8920],\n",
      "         [0.0194, 0.0200, 0.2423, 0.6044]]]) \n",
      "\n",
      "torch.Size([2, 3, 4]) \n",
      " tensor([[[0.5887, 0.1941, 0.0943, 0.0441],\n",
      "         [0.4304, 0.4051, 0.1363, 0.6854],\n",
      "         [0.2056, 0.3901, 0.5803, 0.8920]],\n",
      "\n",
      "        [[0.6562, 0.9275, 0.0228, 0.9611],\n",
      "         [0.3851, 0.9096, 0.8259, 0.0922],\n",
      "         [0.0194, 0.0200, 0.2423, 0.6044]]]) \n",
      "\n",
      "torch.Size([3, 2, 4]) \n",
      " tensor([[[0.5887, 0.1941, 0.0943, 0.0441],\n",
      "         [0.6562, 0.9275, 0.0228, 0.9611]],\n",
      "\n",
      "        [[0.4304, 0.4051, 0.1363, 0.6854],\n",
      "         [0.3851, 0.9096, 0.8259, 0.0922]],\n",
      "\n",
      "        [[0.2056, 0.3901, 0.5803, 0.8920],\n",
      "         [0.0194, 0.0200, 0.2423, 0.6044]]]) \n",
      "\n",
      "tensor([[0.2303, 0.6419],\n",
      "        [0.4143, 0.5532],\n",
      "        [0.5170, 0.2215]])\n"
     ]
    },
    {
     "data": {
      "text/plain": [
       "'\\nencoder = nn.TransformerEncoderLayer(d_model=4, nhead=1, batch_first=True)\\nd = encoder(a)\\nprint(d.shape, \"\\n\", d, \"\\n\")\\n'"
      ]
     },
     "execution_count": 70,
     "metadata": {},
     "output_type": "execute_result"
    }
   ],
   "source": [
    "import torch\n",
    "import torch.nn as nn\n",
    "\n",
    "# a = torch.randint(0, 10, (3, 2, 4))\n",
    "a = torch.rand(3, 2, 4)\n",
    "print(a.shape, \"\\n\", a, \"\\n\")\n",
    "\n",
    "b = a.permute(1, 0, 2)\n",
    "print(b.shape, \"\\n\", b, \"\\n\")\n",
    "\n",
    "c = b.transpose(0, 1)\n",
    "print(c.shape, \"\\n\", c, \"\\n\")\n",
    "\n",
    "d = c.mean(dim=-1)\n",
    "print(d)\n",
    "\n",
    "'''\n",
    "encoder = nn.TransformerEncoderLayer(d_model=4, nhead=1, batch_first=True)\n",
    "d = encoder(a)\n",
    "print(d.shape, \"\\n\", d, \"\\n\")\n",
    "'''\n",
    "\n"
   ]
  },
  {
   "cell_type": "markdown",
   "metadata": {},
   "source": [
    "## Type Specific Function?"
   ]
  },
  {
   "cell_type": "code",
   "execution_count": 2,
   "metadata": {},
   "outputs": [
    {
     "data": {
      "text/plain": [
       "4.3"
      ]
     },
     "execution_count": 2,
     "metadata": {},
     "output_type": "execute_result"
    }
   ],
   "source": [
    "def type_specific_fn(x : int, y : int, tf: bool=True):\n",
    "    if tf:\n",
    "        return x+y\n",
    "    else:\n",
    "        return x*y\n",
    "    \n",
    "type_specific_fn(3.3, 1, 1)"
   ]
  }
 ],
 "metadata": {
  "kernelspec": {
   "display_name": "complexa_ML21_3a",
   "language": "python",
   "name": "python3"
  },
  "language_info": {
   "codemirror_mode": {
    "name": "ipython",
    "version": 3
   },
   "file_extension": ".py",
   "mimetype": "text/x-python",
   "name": "python",
   "nbconvert_exporter": "python",
   "pygments_lexer": "ipython3",
   "version": "3.10.13"
  }
 },
 "nbformat": 4,
 "nbformat_minor": 2
}
