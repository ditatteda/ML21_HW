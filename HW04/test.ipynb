{
 "cells": [
  {
   "cell_type": "code",
   "execution_count": 2,
   "metadata": {},
   "outputs": [
    {
     "name": "stdout",
     "output_type": "stream",
     "text": [
      "{'__name__': '__main__', '__doc__': 'Automatically created module for IPython interactive environment', '__package__': None, '__loader__': None, '__spec__': None, '__builtin__': <module 'builtins' (built-in)>, '__builtins__': <module 'builtins' (built-in)>, '_ih': ['', 'import torch\\nfrom torch.utils.data import Dataset\\n\\n\\nglobals()\\n\\nclass A(Dataset):\\n    def __init__(self):\\n        super().__init__()\\n\\n        self.data = 1\\n\\n    def __getitem__(self, index):\\n        return super().__getitem__(index)\\n    \\n    def __len__(self):\\n        return 0\\n    \\ndef get_label(dataset):\\n    print(dataset)\\n    dataset.data = 999\\n\\na = A()\\n\\nget_label(a)\\n\\nprint(a, a.data)', 'import torch\\nfrom torch.utils.data import Dataset\\n\\n\\nprint(globals())\\n\\nclass A(Dataset):\\n    def __init__(self):\\n        super().__init__()\\n\\n        self.data = 1\\n\\n    def __getitem__(self, index):\\n        return super().__getitem__(index)\\n    \\n    def __len__(self):\\n        return 0\\n    \\ndef get_label(dataset):\\n    print(dataset)\\n    dataset.data = 999\\n\\na = A()\\n\\nget_label(a)\\n\\nprint(a, a.data)'], '_oh': {}, '_dh': [PosixPath('/Users/complexa/ML2021/ML21_HW/HW04'), PosixPath('/Users/complexa/ML2021/ML21_HW/HW04')], 'In': ['', 'import torch\\nfrom torch.utils.data import Dataset\\n\\n\\nglobals()\\n\\nclass A(Dataset):\\n    def __init__(self):\\n        super().__init__()\\n\\n        self.data = 1\\n\\n    def __getitem__(self, index):\\n        return super().__getitem__(index)\\n    \\n    def __len__(self):\\n        return 0\\n    \\ndef get_label(dataset):\\n    print(dataset)\\n    dataset.data = 999\\n\\na = A()\\n\\nget_label(a)\\n\\nprint(a, a.data)', 'import torch\\nfrom torch.utils.data import Dataset\\n\\n\\nprint(globals())\\n\\nclass A(Dataset):\\n    def __init__(self):\\n        super().__init__()\\n\\n        self.data = 1\\n\\n    def __getitem__(self, index):\\n        return super().__getitem__(index)\\n    \\n    def __len__(self):\\n        return 0\\n    \\ndef get_label(dataset):\\n    print(dataset)\\n    dataset.data = 999\\n\\na = A()\\n\\nget_label(a)\\n\\nprint(a, a.data)'], 'Out': {}, 'get_ipython': <bound method InteractiveShell.get_ipython of <ipykernel.zmqshell.ZMQInteractiveShell object at 0x10810a9e0>>, 'exit': <IPython.core.autocall.ZMQExitAutocall object at 0x10810b730>, 'quit': <IPython.core.autocall.ZMQExitAutocall object at 0x10810b730>, 'open': <function open at 0x106b4cc10>, '_': '', '__': '', '___': '', '__vsc_ipynb_file__': '/Users/complexa/ML2021/ML21_HW/HW04/test.ipynb', '_i': 'import torch\\nfrom torch.utils.data import Dataset\\n\\n\\nglobals()\\n\\nclass A(Dataset):\\n    def __init__(self):\\n        super().__init__()\\n\\n        self.data = 1\\n\\n    def __getitem__(self, index):\\n        return super().__getitem__(index)\\n    \\n    def __len__(self):\\n        return 0\\n    \\ndef get_label(dataset):\\n    print(dataset)\\n    dataset.data = 999\\n\\na = A()\\n\\nget_label(a)\\n\\nprint(a, a.data)', '_ii': '', '_iii': '', '_i1': 'import torch\\nfrom torch.utils.data import Dataset\\n\\n\\nglobals()\\n\\nclass A(Dataset):\\n    def __init__(self):\\n        super().__init__()\\n\\n        self.data = 1\\n\\n    def __getitem__(self, index):\\n        return super().__getitem__(index)\\n    \\n    def __len__(self):\\n        return 0\\n    \\ndef get_label(dataset):\\n    print(dataset)\\n    dataset.data = 999\\n\\na = A()\\n\\nget_label(a)\\n\\nprint(a, a.data)', 'torch': <module 'torch' from '/Users/complexa/anaconda3/envs/complexa_ML21_3a/lib/python3.10/site-packages/torch/__init__.py'>, 'Dataset': <class 'torch.utils.data.dataset.Dataset'>, 'A': <class '__main__.A'>, 'get_label': <function get_label at 0x108653880>, 'a': <__main__.A object at 0x10866e9e0>, '_i2': 'import torch\\nfrom torch.utils.data import Dataset\\n\\n\\nprint(globals())\\n\\nclass A(Dataset):\\n    def __init__(self):\\n        super().__init__()\\n\\n        self.data = 1\\n\\n    def __getitem__(self, index):\\n        return super().__getitem__(index)\\n    \\n    def __len__(self):\\n        return 0\\n    \\ndef get_label(dataset):\\n    print(dataset)\\n    dataset.data = 999\\n\\na = A()\\n\\nget_label(a)\\n\\nprint(a, a.data)'}\n",
      "<__main__.A object at 0x1085537f0>\n",
      "<__main__.A object at 0x1085537f0> 999\n"
     ]
    }
   ],
   "source": [
    "import torch\n",
    "from torch.utils.data import Dataset\n",
    "\n",
    "\n",
    "print(globals())\n",
    "\n",
    "class A(Dataset):\n",
    "    def __init__(self):\n",
    "        super().__init__()\n",
    "\n",
    "        self.data = 1\n",
    "\n",
    "    def __getitem__(self, index):\n",
    "        return super().__getitem__(index)\n",
    "    \n",
    "    def __len__(self):\n",
    "        return 0\n",
    "    \n",
    "def get_label(dataset):\n",
    "    print(dataset)\n",
    "    dataset.data = 999\n",
    "\n",
    "a = A()\n",
    "\n",
    "get_label(a)\n",
    "\n",
    "print(a, a.data)"
   ]
  },
  {
   "cell_type": "code",
   "execution_count": 12,
   "metadata": {},
   "outputs": [
    {
     "name": "stdout",
     "output_type": "stream",
     "text": [
      "<class 'pathlib.PosixPath'>\n"
     ]
    }
   ],
   "source": [
    "from pathlib import Path\n",
    "import json\n",
    "\n",
    "\n",
    "a = Path(\"./Dataset\") / \"metadata.json\""
   ]
  },
  {
   "cell_type": "code",
   "execution_count": 40,
   "metadata": {},
   "outputs": [
    {
     "name": "stdout",
     "output_type": "stream",
     "text": [
      "[([[1, 2, 3], [4, 5, 6]], 0), ([[2, 3, 4], [5, 6, 7]], 1), ([[9, 9, 9], [0, 0, 0]], 2)] \n",
      "\n",
      "([[1, 2, 3], [4, 5, 6]], [[2, 3, 4], [5, 6, 7]], [[9, 9, 9], [0, 0, 0]]) (0, 1, 2)\n",
      "<class 'tuple'>\n",
      "<class 'zip'>\n",
      "([[1, 2, 3], [4, 5, 6]], [[2, 3, 4], [5, 6, 7]], [[9, 9, 9], [0, 0, 0]]) (0, 1, 2) \n",
      "\n",
      "[(1,), (2,)]\n"
     ]
    }
   ],
   "source": [
    "sample1 = ([[1,2,3],[4,5,6]], 0)\n",
    "sample2 = ([[2,3,4],[5,6,7]], 1)\n",
    "sample3 = ([[9,9,9],[0,0,0]], 2)\n",
    "\n",
    "samples = [sample1, sample2, sample3]\n",
    "print(samples, \"\\n\")\n",
    "\n",
    "# break the list structure\n",
    "f, l = zip(*samples)\n",
    "print(f, l)\n",
    "print(type(f))\n",
    "\n",
    "# zip object is returned\n",
    "zipped = zip(sample1, sample2, sample3)\n",
    "print(type(zipped))\n",
    "j, k = list(zipped)\n",
    "print(j, k, \"\\n\")\n",
    "\n",
    "# automatically zip [1,2] and [] together!\n",
    "q = list(zip([1,2]))\n",
    "print(q)"
   ]
  },
  {
   "cell_type": "code",
   "execution_count": 70,
   "metadata": {},
   "outputs": [
    {
     "name": "stdout",
     "output_type": "stream",
     "text": [
      "torch.Size([3, 2, 4]) \n",
      " tensor([[[0.5887, 0.1941, 0.0943, 0.0441],\n",
      "         [0.6562, 0.9275, 0.0228, 0.9611]],\n",
      "\n",
      "        [[0.4304, 0.4051, 0.1363, 0.6854],\n",
      "         [0.3851, 0.9096, 0.8259, 0.0922]],\n",
      "\n",
      "        [[0.2056, 0.3901, 0.5803, 0.8920],\n",
      "         [0.0194, 0.0200, 0.2423, 0.6044]]]) \n",
      "\n",
      "torch.Size([2, 3, 4]) \n",
      " tensor([[[0.5887, 0.1941, 0.0943, 0.0441],\n",
      "         [0.4304, 0.4051, 0.1363, 0.6854],\n",
      "         [0.2056, 0.3901, 0.5803, 0.8920]],\n",
      "\n",
      "        [[0.6562, 0.9275, 0.0228, 0.9611],\n",
      "         [0.3851, 0.9096, 0.8259, 0.0922],\n",
      "         [0.0194, 0.0200, 0.2423, 0.6044]]]) \n",
      "\n",
      "torch.Size([3, 2, 4]) \n",
      " tensor([[[0.5887, 0.1941, 0.0943, 0.0441],\n",
      "         [0.6562, 0.9275, 0.0228, 0.9611]],\n",
      "\n",
      "        [[0.4304, 0.4051, 0.1363, 0.6854],\n",
      "         [0.3851, 0.9096, 0.8259, 0.0922]],\n",
      "\n",
      "        [[0.2056, 0.3901, 0.5803, 0.8920],\n",
      "         [0.0194, 0.0200, 0.2423, 0.6044]]]) \n",
      "\n",
      "tensor([[0.2303, 0.6419],\n",
      "        [0.4143, 0.5532],\n",
      "        [0.5170, 0.2215]])\n"
     ]
    },
    {
     "data": {
      "text/plain": [
       "'\\nencoder = nn.TransformerEncoderLayer(d_model=4, nhead=1, batch_first=True)\\nd = encoder(a)\\nprint(d.shape, \"\\n\", d, \"\\n\")\\n'"
      ]
     },
     "execution_count": 70,
     "metadata": {},
     "output_type": "execute_result"
    }
   ],
   "source": [
    "import torch\n",
    "import torch.nn as nn\n",
    "\n",
    "# a = torch.randint(0, 10, (3, 2, 4))\n",
    "a = torch.rand(3, 2, 4)\n",
    "print(a.shape, \"\\n\", a, \"\\n\")\n",
    "\n",
    "b = a.permute(1, 0, 2)\n",
    "print(b.shape, \"\\n\", b, \"\\n\")\n",
    "\n",
    "c = b.transpose(0, 1)\n",
    "print(c.shape, \"\\n\", c, \"\\n\")\n",
    "\n",
    "d = c.mean(dim=-1)\n",
    "print(d)\n",
    "\n",
    "'''\n",
    "encoder = nn.TransformerEncoderLayer(d_model=4, nhead=1, batch_first=True)\n",
    "d = encoder(a)\n",
    "print(d.shape, \"\\n\", d, \"\\n\")\n",
    "'''\n",
    "\n"
   ]
  },
  {
   "cell_type": "markdown",
   "metadata": {},
   "source": [
    "## Type Specific Function?"
   ]
  },
  {
   "cell_type": "code",
   "execution_count": 2,
   "metadata": {},
   "outputs": [
    {
     "data": {
      "text/plain": [
       "4.3"
      ]
     },
     "execution_count": 2,
     "metadata": {},
     "output_type": "execute_result"
    }
   ],
   "source": [
    "def type_specific_fn(x : int, y : int, tf: bool=True):\n",
    "    if tf:\n",
    "        return x+y\n",
    "    else:\n",
    "        return x*y\n",
    "    \n",
    "type_specific_fn(3.3, 1, 1)"
   ]
  },
  {
   "cell_type": "code",
   "execution_count": 21,
   "metadata": {},
   "outputs": [
    {
     "name": "stdout",
     "output_type": "stream",
     "text": [
      "tensor([[[0.3725, 0.3056, 0.1304],\n",
      "         [0.5618, 0.3841, 0.0815],\n",
      "         [0.0656, 0.3103, 0.7880]],\n",
      "\n",
      "        [[0.1672, 0.1363, 0.1020],\n",
      "         [0.7881, 0.8616, 0.0144],\n",
      "         [0.0447, 0.0021, 0.8837]]], grad_fn=<SoftmaxBackward0>)\n"
     ]
    }
   ],
   "source": [
    "import torch\n",
    "import torch.nn as nn\n",
    "\n",
    "\n",
    "fn = nn.Sequential(\n",
    "    nn.Linear(2, 3),\n",
    "    nn.Softmax(1)\n",
    ")\n",
    "\n",
    "data = torch.randint(0, 10, (2, 3, 2)).float()\n",
    "out = fn(data)\n",
    "print(out)"
   ]
  },
  {
   "cell_type": "code",
   "execution_count": 11,
   "metadata": {},
   "outputs": [
    {
     "data": {
      "text/plain": [
       "7"
      ]
     },
     "execution_count": 11,
     "metadata": {},
     "output_type": "execute_result"
    }
   ],
   "source": [
    "a = [1,2,3,4,5,6,7,8]\n",
    "len(a[-8: -1])"
   ]
  },
  {
   "cell_type": "code",
   "execution_count": 16,
   "metadata": {},
   "outputs": [
    {
     "data": {
      "image/png": "[encoded data removed]",
      "text/plain": [
       "<Figure size 600x1200 with 2 Axes>"
      ]
     },
     "metadata": {},
     "output_type": "display_data"
    }
   ],
   "source": [
    "import matplotlib.pyplot as plt\n",
    "\n",
    "records_train = {\"accuracy\": [.1, .2, .3, .4], \"loss\": [4,3,2,1]}\n",
    "records_valid = {\"accuracy\": [.05, .1, .15, .2], \"loss\": [5,4,3,2]}\n",
    "\n",
    "# Base figure\n",
    "figure = plt.figure(figsize=(6, 12))\n",
    "x = [10 * (i+1) for i in range(len(records_valid[\"accuracy\"]))]\n",
    "\n",
    "# accuracy\n",
    "figure.add_subplot(2, 1, 1)\n",
    "plt.plot(x, records_train[\"accuracy\"], c=\"tab:red\", label=\"train\")\n",
    "plt.plot(x, records_valid[\"accuracy\"], c=\"tab:cyan\", label=\"valid\")\n",
    "plt.ylim(0.0, 1.0)\n",
    "plt.xlabel(\"steps\")\n",
    "plt.ylabel(\"accuracy\")\n",
    "plt.legend()\n",
    "\n",
    "# loss\n",
    "figure.add_subplot(2, 1, 2)\n",
    "plt.plot(x, records_train[\"loss\"], c=\"tab:red\", label=\"train\")\n",
    "plt.plot(x, records_valid[\"loss\"], c=\"tab:cyan\", label=\"valid\")\n",
    "plt.ylim(0.0, 5.0)\n",
    "plt.xlabel(\"steps\")\n",
    "plt.ylabel(\"loss\")\n",
    "plt.legend()\n",
    "\n",
    "plt.show()"
   ]
  },
  {
   "cell_type": "code",
   "execution_count": 23,
   "metadata": {},
   "outputs": [
    {
     "name": "stdout",
     "output_type": "stream",
     "text": [
      "tensor([[[-1.0377e+00, -2.8052e-01, -5.0010e-01, -6.3688e-01],\n",
      "         [ 7.5241e-01, -2.1824e+00,  1.2896e-01,  7.6036e-01],\n",
      "         [-4.4002e-01, -8.8492e-02,  1.2225e+00,  1.9325e+00],\n",
      "         [-2.1188e+00, -3.0032e-01,  1.2508e+00, -4.3676e-01],\n",
      "         [ 1.3031e-01,  1.6645e+00,  1.9790e+00, -3.9725e-01]],\n",
      "\n",
      "        [[ 1.3121e+00, -3.2834e-01,  2.4958e-01, -9.3474e-01],\n",
      "         [ 1.4250e+00, -1.9683e+00,  2.4012e+00,  1.5757e+00],\n",
      "         [ 6.9474e-02,  3.6457e-01, -1.1664e+00, -2.4488e-01],\n",
      "         [ 8.5993e-01, -4.4055e-01, -1.1766e+00,  5.5589e-04],\n",
      "         [ 1.7769e-02,  5.6885e-01,  1.8891e+00, -1.2828e+00]]])\n",
      "tensor([[[-0.0000, -0.0000, -0.0000, -0.0000],\n",
      "         [ 1.5048, -4.3649,  0.2579,  1.5207],\n",
      "         [-0.8800, -0.1770,  2.4451,  3.8650],\n",
      "         [-0.0000, -0.0000,  0.0000, -0.0000],\n",
      "         [ 0.0000,  0.0000,  0.0000, -0.0000]],\n",
      "\n",
      "        [[ 2.6243, -0.6567,  0.4992, -1.8695],\n",
      "         [ 0.0000, -0.0000,  0.0000,  0.0000],\n",
      "         [ 0.1389,  0.7291, -2.3328, -0.4898],\n",
      "         [ 0.0000, -0.0000, -0.0000,  0.0000],\n",
      "         [ 0.0355,  1.1377,  3.7783, -2.5655]]])\n"
     ]
    }
   ],
   "source": [
    "import torch\n",
    "import torch.nn as nn\n",
    "\n",
    "m = nn.Dropout1d(p=0.5)\n",
    "# (length, batch, dim)\n",
    "input = torch.randn(2, 5, 4)\n",
    "print(input)\n",
    "output = m(input)\n",
    "print(output)"
   ]
  }
 ],
 "metadata": {
  "kernelspec": {
   "display_name": "complexa_ML21_3a",
   "language": "python",
   "name": "python3"
  },
  "language_info": {
   "codemirror_mode": {
    "name": "ipython",
    "version": 3
   },
   "file_extension": ".py",
   "mimetype": "text/x-python",
   "name": "python",
   "nbconvert_exporter": "python",
   "pygments_lexer": "ipython3",
   "version": "3.10.13"
  }
 },
 "nbformat": 4,
 "nbformat_minor": 2
}
