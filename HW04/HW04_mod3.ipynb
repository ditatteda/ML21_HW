{
  "nbformat": 4,
  "nbformat_minor": 0,
  "metadata": {
    "accelerator": "GPU",
    "colab": {
      "name": "HW04.ipynb",
      "provenance": []
    },
    "kernelspec": {
      "display_name": "Python 3",
      "name": "python3"
    }
  },
  "cells": [
    {
      "cell_type": "markdown",
      "metadata": {
        "id": "zC5KwRyl6Flp"
      },
      "source": [
        "# Task description\n",
        "- Classify the speakers of given features.\n",
        "- Main goal: Learn how to use transformer.\n",
        "- Baselines:\n",
        "  - Easy: Run sample code and know how to use transformer.\n",
        "  - Medium: Know how to adjust parameters of transformer.\n",
        "  - Hard: Construct [conformer](https://arxiv.org/abs/2005.08100) which is a variety of transformer.\n",
        "\n",
        "- Other links\n",
        "  - Kaggle: [link](https://www.kaggle.com/t/859c9ca9ede14fdea841be627c412322)\n",
        "  - Slide: [link](https://speech.ee.ntu.edu.tw/~hylee/ml/ml2021-course-data/hw/HW04/HW04.pdf)\n",
        "  - Data: [link](https://drive.google.com/file/d/1T0RPnu-Sg5eIPwQPfYysipfcz81MnsYe/view?usp=sharing)\n",
        "  - Video (Chinese): [link](https://www.youtube.com/watch?v=EPerg2UnGaI)\n",
        "  - Video (English): [link](https://www.youtube.com/watch?v=Gpz6AUvCak0)\n",
        "  - Solution for downloading dataset fail.: [link](https://drive.google.com/drive/folders/13T0Pa_WGgQxNkqZk781qhc5T9-zfh19e?usp=sharing)"
      ]
    },
    {
      "cell_type": "code",
      "source": [
        "from google.colab import drive\n",
        "drive.mount('/content/drive')\n",
        "\n",
        "import shutil\n",
        "shutil.copyfile('/content/drive/MyDrive/Colab Notebooks/self_attention/Dataset.zip','/content/Dataset.zip')\n",
        "\n",
        "import zipfile\n",
        "with zipfile.ZipFile('/content/Dataset.zip','r') as zip_ref:\n",
        "  zip_ref.extractall('/content/')"
      ],
      "metadata": {
        "id": "YV7LBTjr02EO",
        "outputId": "3707430c-2bf9-4744-fb7c-33788f314ebb",
        "colab": {
          "base_uri": "https://localhost:8080/"
        }
      },
      "execution_count": 2,
      "outputs": [
        {
          "output_type": "stream",
          "name": "stdout",
          "text": [
            "Mounted at /content/drive\n"
          ]
        }
      ]
    },
    {
      "cell_type": "markdown",
      "metadata": {
        "id": "TPDoreyypeJE"
      },
      "source": [
        "# Download dataset\n",
        "- Please follow [here](https://drive.google.com/drive/folders/13T0Pa_WGgQxNkqZk781qhc5T9-zfh19e?usp=sharing) to download data\n",
        "- Data is [here](https://drive.google.com/file/d/1gaFy8RaQVUEXo2n0peCBR5gYKCB-mNHc/view?usp=sharing)"
      ]
    },
    {
      "cell_type": "code",
      "metadata": {
        "id": "QvpaILXnJIcw",
        "outputId": "b926731f-128f-4567-ba32-6e7a355263f3",
        "colab": {
          "base_uri": "https://localhost:8080/"
        }
      },
      "source": [
        "!gdown --id 'https://drive.google.com/file/d/1gaFy8RaQVUEXo2n0peCBR5gYKCB-mNHc/view' --output Dataset.zip\n",
        "!unzip Dataset.zip"
      ],
      "execution_count": 1,
      "outputs": [
        {
          "output_type": "stream",
          "name": "stdout",
          "text": [
            "/usr/local/lib/python3.10/dist-packages/gdown/cli.py:121: FutureWarning: Option `--id` was deprecated in version 4.3.1 and will be removed in 5.0. You don't need to pass it anymore to use a file ID.\n",
            "  warnings.warn(\n",
            "Access denied with the following error:\n",
            "\n",
            " \tCannot retrieve the public link of the file. You may need to change\n",
            "\tthe permission to 'Anyone with the link', or have had many accesses. \n",
            "\n",
            "You may still be able to access the file from the browser:\n",
            "\n",
            "\t https://drive.google.com/uc?id=https://drive.google.com/file/d/1gaFy8RaQVUEXo2n0peCBR5gYKCB-mNHc/view \n",
            "\n",
            "unzip:  cannot find or open Dataset.zip, Dataset.zip.zip or Dataset.zip.ZIP.\n"
          ]
        }
      ]
    },
    {
      "cell_type": "markdown",
      "metadata": {
        "id": "v1gYr_aoNDue"
      },
      "source": [
        "# Data"
      ]
    },
    {
      "cell_type": "markdown",
      "metadata": {
        "id": "Mz_NpuAipk3h"
      },
      "source": [
        "## Dataset\n",
        "- Original dataset is [Voxceleb1](https://www.robots.ox.ac.uk/~vgg/data/voxceleb/).\n",
        "- The [license](https://creativecommons.org/licenses/by/4.0/) and [complete version](https://www.robots.ox.ac.uk/~vgg/data/voxceleb/files/license.txt) of Voxceleb1.\n",
        "- We randomly select 600 speakers from Voxceleb1.\n",
        "- Then preprocess the raw waveforms into mel-spectrograms.\n",
        "\n",
        "- Args:\n",
        "  - data_dir: The path to the data directory.\n",
        "  - metadata_path: The path to the metadata.\n",
        "  - segment_len: The length of audio segment for training.\n",
        "- The architecture of data directory \\\\\n",
        "  - data directory \\\\\n",
        "  |---- metadata.json \\\\\n",
        "  |---- testdata.json \\\\\n",
        "  |---- mapping.json \\\\\n",
        "  |---- uttr-{random string}.pt \\\\\n",
        "\n",
        "- The information in metadata\n",
        "  - \"n_mels\": The dimention of mel-spectrogram.\n",
        "  - \"speakers\": A dictionary.\n",
        "    - Key: speaker ids.\n",
        "    - value: \"feature_path\" and \"mel_len\"\n",
        "\n",
        "\n",
        "For efficiency, we segment the mel-spectrograms into segments in the traing step."
      ]
    },
    {
      "cell_type": "code",
      "metadata": {
        "id": "cd7hoGhYtbXQ"
      },
      "source": [
        "import os\n",
        "import json\n",
        "import torch\n",
        "import random\n",
        "from pathlib import Path\n",
        "from torch.utils.data import Dataset\n",
        "from torch.nn.utils.rnn import pad_sequence\n",
        "\n",
        "\n",
        "class myDataset(Dataset):\n",
        "  def __init__(self, data_dir, segment_len=128):\n",
        "    self.data_dir = data_dir\n",
        "    self.segment_len = segment_len\n",
        "\n",
        "    # Load the mapping from speaker neme to their corresponding id.\n",
        "    mapping_path = Path(data_dir) / \"mapping.json\"\n",
        "    mapping = json.load(mapping_path.open())\n",
        "    self.speaker2id = mapping[\"speaker2id\"]\n",
        "\n",
        "    # Load metadata of training data.\n",
        "    metadata_path = Path(data_dir) / \"metadata.json\"\n",
        "    metadata = json.load(open(metadata_path))[\"speakers\"]\n",
        "\n",
        "    # Get the total number of speaker.\n",
        "    self.speaker_num = len(metadata.keys())\n",
        "    self.data = []\n",
        "    for speaker in metadata.keys():\n",
        "      for utterances in metadata[speaker]:\n",
        "        self.data.append([utterances[\"feature_path\"], self.speaker2id[speaker]])\n",
        "\n",
        "  def __len__(self):\n",
        "    return len(self.data)\n",
        "\n",
        "  def __getitem__(self, index):\n",
        "    feat_path, speaker = self.data[index]\n",
        "    # Load preprocessed mel-spectrogram.\n",
        "    mel = torch.load(os.path.join(self.data_dir, feat_path))\n",
        "\n",
        "    # Segmemt mel-spectrogram into \"segment_len\" frames.\n",
        "    if len(mel) > self.segment_len:\n",
        "      # Randomly get the starting point of the segment.\n",
        "      start = random.randint(0, len(mel) - self.segment_len)\n",
        "      # Get a segment with \"segment_len\" frames.\n",
        "      mel = torch.FloatTensor(mel[start:start+self.segment_len])\n",
        "    else:\n",
        "      mel = torch.FloatTensor(mel)\n",
        "    # Turn the speaker id into long for computing loss later.\n",
        "    speaker = torch.FloatTensor([speaker]).long()\n",
        "    return mel, speaker\n",
        "\n",
        "  def get_speaker_number(self):\n",
        "    return self.speaker_num"
      ],
      "execution_count": 3,
      "outputs": []
    },
    {
      "cell_type": "markdown",
      "metadata": {
        "id": "mqJxjoi_NGnB"
      },
      "source": [
        "## Dataloader\n",
        "- Split dataset into training dataset(90%) and validation dataset(10%).\n",
        "- Create dataloader to iterate the data.\n"
      ]
    },
    {
      "cell_type": "code",
      "metadata": {
        "id": "zuT1AuFENI8t"
      },
      "source": [
        "import torch\n",
        "from torch.utils.data import DataLoader, random_split\n",
        "from torch.nn.utils.rnn import pad_sequence\n",
        "\n",
        "\n",
        "def collate_batch(batch):\n",
        "  # Process features within a batch.\n",
        "  \"\"\"Collate a batch of data.\"\"\"\n",
        "  mel, speaker = zip(*batch)\n",
        "  # Because we train the model batch by batch, we need to pad the features in the same batch to make their lengths the same.\n",
        "  mel = pad_sequence(mel, batch_first=True, padding_value=-20)    # pad log 10^(-20) which is very small value.\n",
        "  # mel: (batch size, length, 40)\n",
        "  return mel, torch.FloatTensor(speaker).long()\n",
        "\n",
        "\n",
        "def get_dataloader(data_dir, batch_size, n_workers):\n",
        "  \"\"\"Generate dataloader\"\"\"\n",
        "  dataset = myDataset(data_dir)\n",
        "  speaker_num = dataset.get_speaker_number()\n",
        "  # Split dataset into training dataset and validation dataset\n",
        "  trainlen = int(0.9 * len(dataset))\n",
        "  lengths = [trainlen, len(dataset) - trainlen]\n",
        "  trainset, validset = random_split(dataset, lengths)\n",
        "\n",
        "  train_loader = DataLoader(\n",
        "    trainset,\n",
        "    batch_size=batch_size,\n",
        "    shuffle=True,\n",
        "    drop_last=True,\n",
        "    num_workers=n_workers,\n",
        "    pin_memory=True,\n",
        "    collate_fn=collate_batch,\n",
        "  )\n",
        "  valid_loader = DataLoader(\n",
        "    validset,\n",
        "    batch_size=batch_size,\n",
        "    num_workers=n_workers,\n",
        "    drop_last=True,\n",
        "    pin_memory=True,\n",
        "    collate_fn=collate_batch,\n",
        "  )\n",
        "\n",
        "  return train_loader, valid_loader, speaker_num\n"
      ],
      "execution_count": 4,
      "outputs": []
    },
    {
      "cell_type": "markdown",
      "metadata": {
        "id": "X0x6eXiHpr4R"
      },
      "source": [
        "# Model\n",
        "- TransformerEncoderLayer:\n",
        "  - Base transformer encoder layer in [Attention Is All You Need](https://arxiv.org/abs/1706.03762)\n",
        "  - Parameters:\n",
        "    - d_model: the number of expected features of the input (required).\n",
        "\n",
        "    - nhead: the number of heads of the multiheadattention models (required).\n",
        "\n",
        "    - dim_feedforward: the dimension of the feedforward network model (default=2048).\n",
        "\n",
        "    - dropout: the dropout value (default=0.1).\n",
        "\n",
        "    - activation: the activation function of intermediate layer, relu or gelu (default=relu).\n",
        "\n",
        "- TransformerEncoder:\n",
        "  - TransformerEncoder is a stack of N transformer encoder layers\n",
        "  - Parameters:\n",
        "    - encoder_layer: an instance of the TransformerEncoderLayer() class (required).\n",
        "\n",
        "    - num_layers: the number of sub-encoder-layers in the encoder (required).\n",
        "\n",
        "    - norm: the layer normalization component (optional).\n",
        "\n",
        "- Self-Attention-Pooling: (Code Ref: Shopping)\n",
        "  - [Self-Attentive Speaker Embeddings](https://www.danielpovey.com/files/2018_interspeech_xvector_attention.pdf)\n",
        "  - Instead of using mean pooling, we use self-attentive pooling.\n",
        "\n",
        "- To view model in details: may use `torchinfo.summary`"
      ]
    },
    {
      "cell_type": "code",
      "metadata": {
        "id": "SHX4eVj4tjtd"
      },
      "source": [
        "import torch\n",
        "import torch.nn as nn\n",
        "import torch.nn.functional as F\n",
        "\n",
        "\n",
        "class Classifier(nn.Module):\n",
        "  def __init__(self, d_model=128, n_spks=600, dropout=0.2, dr=1):\n",
        "    super().__init__()\n",
        "    # Project the dimension of features from that of input into d_model.\n",
        "    self.prenet = nn.Linear(40, d_model)\n",
        "    # TODO:\n",
        "    #   Change Transformer to Conformer.\n",
        "    #   https://arxiv.org/abs/2005.08100\n",
        "    self.encoder_layer = nn.TransformerEncoderLayer(\n",
        "      d_model=d_model, dim_feedforward=256, nhead=2\n",
        "    )\n",
        "    self.encoder = nn.TransformerEncoder(self.encoder_layer, num_layers=4)\n",
        "\n",
        "    # self-attentive pooling\n",
        "    self.self_attn_pool = nn.Sequential(\n",
        "        nn.Linear(d_model, d_model),\n",
        "        nn.ReLU(),\n",
        "        nn.Linear(d_model, dr),\n",
        "        nn.Softmax(dim=1)\n",
        "    )\n",
        "\n",
        "    # Project the the dimension of features from d_model into speaker nums.\n",
        "    self.pred_layer = nn.Sequential(\n",
        "      #nn.Linear(d_model, d_model),\n",
        "      #nn.ReLU(),\n",
        "      nn.Linear(d_model, n_spks),\n",
        "    )\n",
        "\n",
        "  def forward(self, mels):\n",
        "    \"\"\"\n",
        "    args:\n",
        "      mels: (batch size, length, 40)\n",
        "    return:\n",
        "      out: (batch size, n_spks)\n",
        "    \"\"\"\n",
        "    # out: (batch size, length, d_model)\n",
        "    out = self.prenet(mels)\n",
        "    # out: (length, batch size, d_model)\n",
        "    out = out.permute(1, 0, 2)\n",
        "    # The encoder layer expect features in the shape of (length, batch size, d_model).\n",
        "    #out = self.encoder_layer(out)\n",
        "    out = self.encoder(out)\n",
        "    # out: (batch size, length, d_model)\n",
        "    out = out.transpose(0, 1)\n",
        "    # self-attentive pooling: annotation matrix (batch size, length, dr)\n",
        "    annoMat = self.self_attn_pool(out)\n",
        "    # stats: (batch size, dr, d_model)\n",
        "    stats = torch.bmm(annoMat.transpose(1, 2), out)\n",
        "    # stats: (batch size, d_model)\n",
        "    stats = torch.squeeze(stats, dim=1)\n",
        "    # mean pooling\n",
        "    #stats = out.mean(dim=1)\n",
        "\n",
        "    # out: (batch, n_spks)\n",
        "    out = self.pred_layer(stats)\n",
        "    return out\n"
      ],
      "execution_count": 5,
      "outputs": []
    },
    {
      "cell_type": "markdown",
      "metadata": {
        "id": "-__DolPGpvDZ"
      },
      "source": [
        "# Learning rate schedule\n",
        "- For transformer architecture, the design of learning rate schedule is different from that of CNN.\n",
        "- Previous works show that the warmup of learning rate is useful for training models with transformer architectures.\n",
        "- The warmup schedule\n",
        "  - Set learning rate to 0 in the beginning.\n",
        "  - The learning rate increases linearly from 0 to initial learning rate during warmup period."
      ]
    },
    {
      "cell_type": "code",
      "metadata": {
        "id": "K-0816BntqT9"
      },
      "source": [
        "import math\n",
        "\n",
        "import torch\n",
        "from torch.optim import Optimizer\n",
        "from torch.optim.lr_scheduler import LambdaLR\n",
        "\n",
        "\n",
        "def get_cosine_schedule_with_warmup(\n",
        "  optimizer: Optimizer,\n",
        "  num_warmup_steps: int,\n",
        "  num_training_steps: int,\n",
        "  num_cycles: float = 0.5,\n",
        "  last_epoch: int = -1,\n",
        "):\n",
        "  \"\"\"\n",
        "  Create a schedule with a learning rate that decreases following the values of the cosine function between the\n",
        "  initial lr set in the optimizer to 0, after a warmup period during which it increases linearly between 0 and the\n",
        "  initial lr set in the optimizer.\n",
        "\n",
        "  Args:\n",
        "    optimizer (:class:`~torch.optim.Optimizer`):\n",
        "      The optimizer for which to schedule the learning rate.\n",
        "    num_warmup_steps (:obj:`int`):\n",
        "      The number of steps for the warmup phase.\n",
        "    num_training_steps (:obj:`int`):\n",
        "      The total number of training steps.\n",
        "    num_cycles (:obj:`float`, `optional`, defaults to 0.5):\n",
        "      The number of waves in the cosine schedule (the defaults is to just decrease from the max value to 0\n",
        "      following a half-cosine).\n",
        "    last_epoch (:obj:`int`, `optional`, defaults to -1):\n",
        "      The index of the last epoch when resuming training.\n",
        "\n",
        "  Return:\n",
        "    :obj:`torch.optim.lr_scheduler.LambdaLR` with the appropriate schedule.\n",
        "  \"\"\"\n",
        "\n",
        "  def lr_lambda(current_step):\n",
        "    # Warmup\n",
        "    if current_step < num_warmup_steps:\n",
        "      return float(current_step) / float(max(1, num_warmup_steps))\n",
        "    # decadence\n",
        "    progress = float(current_step - num_warmup_steps) / float(\n",
        "      max(1, num_training_steps - num_warmup_steps)\n",
        "    )\n",
        "    return max(\n",
        "      0.0, 0.5 * (1.0 + math.cos(math.pi * float(num_cycles) * 2.0 * progress))\n",
        "    )\n",
        "\n",
        "  return LambdaLR(optimizer, lr_lambda, last_epoch)\n"
      ],
      "execution_count": 6,
      "outputs": []
    },
    {
      "cell_type": "markdown",
      "metadata": {
        "id": "IP03FFo9K8DS"
      },
      "source": [
        "# Model Function\n",
        "- Model forward function."
      ]
    },
    {
      "cell_type": "code",
      "metadata": {
        "id": "fohaLEFJK9-t"
      },
      "source": [
        "import torch\n",
        "\n",
        "\n",
        "def model_fn(batch, model, criterion, device):\n",
        "  \"\"\"Forward a batch through the model.\"\"\"\n",
        "\n",
        "  mels, labels = batch\n",
        "  mels = mels.to(device)\n",
        "  labels = labels.to(device)\n",
        "\n",
        "  outs = model(mels)\n",
        "\n",
        "  loss = criterion(outs, labels)\n",
        "\n",
        "  # Get the speaker id with highest probability.\n",
        "  preds = outs.argmax(1)\n",
        "  # Compute accuracy.\n",
        "  accuracy = torch.mean((preds == labels).float())\n",
        "\n",
        "  return loss, accuracy\n"
      ],
      "execution_count": 7,
      "outputs": []
    },
    {
      "cell_type": "markdown",
      "metadata": {
        "id": "F7cg-YrzLQcf"
      },
      "source": [
        "# Validate\n",
        "- Calculate accuracy of the validation set."
      ]
    },
    {
      "cell_type": "code",
      "metadata": {
        "id": "mD-_p6nWLO2L"
      },
      "source": [
        "from tqdm import tqdm\n",
        "import torch\n",
        "\n",
        "\n",
        "def valid(dataloader, model, criterion, device):\n",
        "  \"\"\"Validate on validation set.\"\"\"\n",
        "\n",
        "  model.eval()\n",
        "  running_loss = 0.0\n",
        "  running_accuracy = 0.0\n",
        "  pbar = tqdm(total=len(dataloader.dataset), ncols=0, desc=\"Valid\", unit=\" uttr\")\n",
        "\n",
        "  for i, batch in enumerate(dataloader):\n",
        "    with torch.no_grad():\n",
        "      loss, accuracy = model_fn(batch, model, criterion, device)\n",
        "      running_loss += loss.item()\n",
        "      running_accuracy += accuracy.item()\n",
        "\n",
        "    pbar.update(dataloader.batch_size)\n",
        "    pbar.set_postfix(\n",
        "      loss=f\"{running_loss / (i+1):.2f}\",\n",
        "      accuracy=f\"{running_accuracy / (i+1):.2f}\",\n",
        "    )\n",
        "\n",
        "  pbar.close()\n",
        "  model.train()\n",
        "\n",
        "  return running_accuracy / len(dataloader)\n"
      ],
      "execution_count": 8,
      "outputs": []
    },
    {
      "cell_type": "markdown",
      "metadata": {
        "id": "noHXyal5p1W5"
      },
      "source": [
        "# Main function"
      ]
    },
    {
      "cell_type": "markdown",
      "source": [
        "## Accuracies Records\n",
        "Store the records of accuracy of training and validating, which are used in plotting."
      ],
      "metadata": {
        "id": "1ZtLMxxYp-rv"
      }
    },
    {
      "cell_type": "code",
      "source": [
        "import numpy as np\n",
        "\n",
        "class AccuRecords:\n",
        "  def __init__(self):\n",
        "    self.train_accus = []\n",
        "    self.valid_accus = []\n",
        "\n",
        "  def record_train_accu(self, accu):\n",
        "    self.train_accus.append(accu)\n",
        "\n",
        "  def record_valid_accu(self, accu):\n",
        "    self.valid_accus.append(accu)\n",
        "\n",
        "  def get_best_accu(self):\n",
        "    \"\"\"Get the best accuracies of training and validating stored.\"\"\"\n",
        "    return max(self.train_accus), max(self.valid_accus)\n",
        "\n",
        "  def get_records_for_plot(self):\n",
        "    \"\"\"\n",
        "    Get accuracies for plotting.\n",
        "\n",
        "    Return:\n",
        "      (gap between consecutive records, records of train, records of validation)\n",
        "    \"\"\"\n",
        "    train_accus = np.array(self.train_accus)\n",
        "    valid_accus = np.array(self.valid_accus)\n",
        "    # The length of training-accuracies to mean so that the outputs of train-\n",
        "    #   and valid-accuracies be the same.\n",
        "    gap = (train_accus.size // valid_accus.size) + 1\n",
        "\n",
        "    out_train = []\n",
        "    out_valid = valid_accus.tolist()\n",
        "\n",
        "    for i in range(valid_accus.size - 1):\n",
        "      out_train.append(train_accus[i * gap : (i + 1) * gap].mean())\n",
        "    out_train.append(train_accus[(valid_accus.size - 1) * gap :].mean())\n",
        "\n",
        "    return gap, out_train, out_valid\n",
        "\n",
        "# instanization\n",
        "accus_records = AccuRecords()"
      ],
      "metadata": {
        "id": "G0A1PAWsqHl4"
      },
      "execution_count": 9,
      "outputs": []
    },
    {
      "cell_type": "markdown",
      "source": [
        "## Main"
      ],
      "metadata": {
        "id": "pPGNJ04CqD8-"
      }
    },
    {
      "cell_type": "code",
      "metadata": {
        "id": "chRQE7oYtw62",
        "colab": {
          "base_uri": "https://localhost:8080/"
        },
        "outputId": "60695cda-8d19-4c0c-a28a-d7a91857eace"
      },
      "source": [
        "from tqdm import tqdm\n",
        "\n",
        "import torch\n",
        "import torch.nn as nn\n",
        "from torch.optim import AdamW\n",
        "from torch.utils.data import DataLoader, random_split\n",
        "\n",
        "\n",
        "def parse_args():\n",
        "  \"\"\"arguments\"\"\"\n",
        "  config = {\n",
        "    \"data_dir\": \"./Dataset\",\n",
        "    \"save_path\": \"model.ckpt\",\n",
        "    \"batch_size\": 32,\n",
        "    \"n_workers\": 8,\n",
        "    \"valid_steps\": 2000,\n",
        "    \"warmup_steps\": 1000,\n",
        "    \"save_steps\": 10000,\n",
        "    \"total_steps\": 100000,\n",
        "  }\n",
        "\n",
        "  return config\n",
        "\n",
        "\n",
        "def main(\n",
        "  data_dir,\n",
        "  save_path,\n",
        "  batch_size,\n",
        "  n_workers,\n",
        "  valid_steps,\n",
        "  warmup_steps,\n",
        "  total_steps,\n",
        "  save_steps,\n",
        "):\n",
        "  \"\"\"Main function.\"\"\"\n",
        "  device = torch.device(\"cuda\" if torch.cuda.is_available() else \"cpu\")\n",
        "  print(f\"[Info]: Use {device} now!\")\n",
        "\n",
        "  train_loader, valid_loader, speaker_num = get_dataloader(data_dir, batch_size, n_workers)\n",
        "  train_iterator = iter(train_loader)\n",
        "  print(f\"[Info]: Finish loading data!\",flush = True)\n",
        "\n",
        "  model = Classifier(n_spks=speaker_num).to(device)\n",
        "  criterion = nn.CrossEntropyLoss()\n",
        "  optimizer = AdamW(model.parameters(), lr=1e-3)\n",
        "  scheduler = get_cosine_schedule_with_warmup(optimizer, warmup_steps, total_steps)\n",
        "  print(f\"[Info]: Finish creating model!\",flush = True)\n",
        "\n",
        "  best_accuracy = -1.0\n",
        "  best_state_dict = None\n",
        "\n",
        "  pbar = tqdm(total=valid_steps, ncols=0, desc=\"Train\", unit=\" step\")\n",
        "\n",
        "  for step in range(total_steps):\n",
        "    # Get data\n",
        "    try:\n",
        "      batch = next(train_iterator)\n",
        "    except StopIteration:\n",
        "      train_iterator = iter(train_loader)\n",
        "      batch = next(train_iterator)\n",
        "\n",
        "    loss, accuracy = model_fn(batch, model, criterion, device)\n",
        "    batch_loss = loss.item()\n",
        "    batch_accuracy = accuracy.item()\n",
        "    accus_records.record_train_accu(batch_accuracy)\n",
        "\n",
        "    # Updata model\n",
        "    loss.backward()\n",
        "    optimizer.step()\n",
        "    scheduler.step()\n",
        "    optimizer.zero_grad()\n",
        "\n",
        "    # Log\n",
        "    pbar.update()\n",
        "    pbar.set_postfix(\n",
        "      loss=f\"{batch_loss:.2f}\",\n",
        "      accuracy=f\"{batch_accuracy:.2f}\",\n",
        "      step=step + 1,\n",
        "    )\n",
        "\n",
        "    # Do validation\n",
        "    if (step + 1) % valid_steps == 0:\n",
        "      pbar.close()\n",
        "\n",
        "      valid_accuracy = valid(valid_loader, model, criterion, device)\n",
        "      accus_records.record_valid_accu(valid_accuracy)\n",
        "\n",
        "      # keep the best model\n",
        "      if valid_accuracy > best_accuracy:\n",
        "        best_accuracy = valid_accuracy\n",
        "        best_state_dict = model.state_dict()\n",
        "\n",
        "      pbar = tqdm(total=valid_steps, ncols=0, desc=\"Train\", unit=\" step\")\n",
        "\n",
        "    # Save the best model so far.\n",
        "    if (step + 1) % save_steps == 0 and best_state_dict is not None:\n",
        "      torch.save(best_state_dict, save_path)\n",
        "      pbar.write(f\"Step {step + 1}, best model saved. (accuracy={best_accuracy:.4f})\")\n",
        "\n",
        "  pbar.close()\n",
        "\n",
        "\n",
        "if __name__ == \"__main__\":\n",
        "  main(**parse_args())\n"
      ],
      "execution_count": 10,
      "outputs": [
        {
          "output_type": "stream",
          "name": "stdout",
          "text": [
            "[Info]: Use cuda now!\n"
          ]
        },
        {
          "output_type": "stream",
          "name": "stderr",
          "text": [
            "/usr/local/lib/python3.10/dist-packages/torch/utils/data/dataloader.py:557: UserWarning: This DataLoader will create 8 worker processes in total. Our suggested max number of worker in current system is 2, which is smaller than what this DataLoader is going to create. Please be aware that excessive worker creation might get DataLoader running slow or even freeze, lower the worker number to avoid potential slowness/freeze if necessary.\n",
            "  warnings.warn(_create_warning_msg(\n"
          ]
        },
        {
          "output_type": "stream",
          "name": "stdout",
          "text": [
            "[Info]: Finish loading data!\n"
          ]
        },
        {
          "output_type": "stream",
          "name": "stderr",
          "text": [
            "/usr/local/lib/python3.10/dist-packages/torch/nn/modules/transformer.py:282: UserWarning: enable_nested_tensor is True, but self.use_nested_tensor is False because encoder_layer.self_attn.batch_first was not True(use batch_first for better inference performance)\n",
            "  warnings.warn(f\"enable_nested_tensor is True, but self.use_nested_tensor is False because {why_not_sparsity_fast_path}\")\n"
          ]
        },
        {
          "output_type": "stream",
          "name": "stdout",
          "text": [
            "[Info]: Finish creating model!\n"
          ]
        },
        {
          "output_type": "stream",
          "name": "stderr",
          "text": [
            "Train:  98% 1952/2000 [02:37<00:02, 20.02 step/s, accuracy=0.28, loss=3.03, step=1952]/usr/local/lib/python3.10/dist-packages/torch/utils/data/dataloader.py:557: UserWarning: This DataLoader will create 8 worker processes in total. Our suggested max number of worker in current system is 2, which is smaller than what this DataLoader is going to create. Please be aware that excessive worker creation might get DataLoader running slow or even freeze, lower the worker number to avoid potential slowness/freeze if necessary.\n",
            "  warnings.warn(_create_warning_msg(\n",
            "Train: 100% 2000/2000 [02:40<00:00, 12.45 step/s, accuracy=0.28, loss=3.39, step=2000]\n",
            "Valid: 100% 6944/6944 [00:16<00:00, 415.85 uttr/s, accuracy=0.27, loss=3.44]\n",
            "Train: 100% 2000/2000 [02:11<00:00, 15.17 step/s, accuracy=0.59, loss=2.11, step=4000]\n",
            "Valid: 100% 6944/6944 [00:15<00:00, 434.55 uttr/s, accuracy=0.41, loss=2.64]\n",
            "Train: 100% 2000/2000 [02:15<00:00, 14.77 step/s, accuracy=0.62, loss=1.88, step=6000]\n",
            "Valid: 100% 6944/6944 [00:16<00:00, 431.31 uttr/s, accuracy=0.53, loss=2.06]\n",
            "Train: 100% 2000/2000 [02:12<00:00, 15.12 step/s, accuracy=0.62, loss=1.70, step=8000]\n",
            "Valid: 100% 6944/6944 [00:16<00:00, 433.99 uttr/s, accuracy=0.59, loss=1.77]\n",
            "Train: 100% 2000/2000 [02:12<00:00, 15.15 step/s, accuracy=0.72, loss=1.35, step=1e+4]\n",
            "Valid: 100% 6944/6944 [00:16<00:00, 414.82 uttr/s, accuracy=0.62, loss=1.57]\n",
            "Train:   0% 4/2000 [00:00<01:51, 17.86 step/s, accuracy=0.44, loss=2.01, step=1e+4]"
          ]
        },
        {
          "output_type": "stream",
          "name": "stdout",
          "text": [
            "Step 10000, best model saved. (accuracy=0.6201)\n"
          ]
        },
        {
          "output_type": "stream",
          "name": "stderr",
          "text": [
            "Train: 100% 2000/2000 [02:13<00:00, 14.99 step/s, accuracy=0.62, loss=1.67, step=12000]\n",
            "Valid: 100% 6944/6944 [00:16<00:00, 422.64 uttr/s, accuracy=0.66, loss=1.43]\n",
            "Train: 100% 2000/2000 [02:15<00:00, 14.72 step/s, accuracy=0.78, loss=0.99, step=14000]\n",
            "Valid: 100% 6944/6944 [00:17<00:00, 403.36 uttr/s, accuracy=0.67, loss=1.39]\n",
            "Train: 100% 2000/2000 [02:15<00:00, 14.81 step/s, accuracy=0.69, loss=1.10, step=16000]\n",
            "Valid: 100% 6944/6944 [00:16<00:00, 410.22 uttr/s, accuracy=0.68, loss=1.31]\n",
            "Train: 100% 2000/2000 [02:15<00:00, 14.80 step/s, accuracy=0.72, loss=0.86, step=18000]\n",
            "Valid: 100% 6944/6944 [00:17<00:00, 393.46 uttr/s, accuracy=0.72, loss=1.20]\n",
            "Train: 100% 2000/2000 [02:15<00:00, 14.72 step/s, accuracy=0.72, loss=0.80, step=2e+4]\n",
            "Valid: 100% 6944/6944 [00:16<00:00, 410.26 uttr/s, accuracy=0.73, loss=1.14]\n",
            "Train:   0% 6/2000 [00:00<01:11, 27.95 step/s, accuracy=0.62, loss=1.39, step=2e+4]"
          ]
        },
        {
          "output_type": "stream",
          "name": "stdout",
          "text": [
            "Step 20000, best model saved. (accuracy=0.7310)\n"
          ]
        },
        {
          "output_type": "stream",
          "name": "stderr",
          "text": [
            "Train: 100% 2000/2000 [02:13<00:00, 14.96 step/s, accuracy=0.72, loss=1.18, step=22000]\n",
            "Valid: 100% 6944/6944 [00:17<00:00, 404.12 uttr/s, accuracy=0.73, loss=1.11]\n",
            "Train: 100% 2000/2000 [02:14<00:00, 14.92 step/s, accuracy=0.81, loss=0.61, step=24000]\n",
            "Valid: 100% 6944/6944 [00:17<00:00, 407.12 uttr/s, accuracy=0.74, loss=1.09]\n",
            "Train: 100% 2000/2000 [02:13<00:00, 14.99 step/s, accuracy=0.88, loss=0.36, step=26000]\n",
            "Valid: 100% 6944/6944 [00:17<00:00, 403.91 uttr/s, accuracy=0.74, loss=1.11]\n",
            "Train: 100% 2000/2000 [02:13<00:00, 15.00 step/s, accuracy=0.81, loss=1.05, step=28000]\n",
            "Valid: 100% 6944/6944 [00:17<00:00, 396.92 uttr/s, accuracy=0.75, loss=1.04]\n",
            "Train: 100% 2000/2000 [02:11<00:00, 15.22 step/s, accuracy=0.72, loss=1.26, step=3e+4]\n",
            "Valid: 100% 6944/6944 [00:16<00:00, 410.74 uttr/s, accuracy=0.76, loss=1.00]\n",
            "Train:   0% 9/2000 [00:00<00:52, 38.25 step/s, accuracy=0.84, loss=0.73, step=3e+4]"
          ]
        },
        {
          "output_type": "stream",
          "name": "stdout",
          "text": [
            "Step 30000, best model saved. (accuracy=0.7562)\n"
          ]
        },
        {
          "output_type": "stream",
          "name": "stderr",
          "text": [
            "Train: 100% 2000/2000 [02:09<00:00, 15.40 step/s, accuracy=0.81, loss=0.61, step=32000]\n",
            "Valid: 100% 6944/6944 [00:17<00:00, 396.37 uttr/s, accuracy=0.77, loss=0.96]\n",
            "Train: 100% 2000/2000 [02:09<00:00, 15.41 step/s, accuracy=0.75, loss=1.35, step=34000]\n",
            "Valid: 100% 6944/6944 [00:17<00:00, 398.19 uttr/s, accuracy=0.77, loss=0.96]\n",
            "Train: 100% 2000/2000 [02:09<00:00, 15.39 step/s, accuracy=0.78, loss=0.75, step=36000]\n",
            "Valid: 100% 6944/6944 [00:17<00:00, 397.12 uttr/s, accuracy=0.79, loss=0.89]\n",
            "Train: 100% 2000/2000 [02:08<00:00, 15.51 step/s, accuracy=0.81, loss=0.47, step=38000]\n",
            "Valid: 100% 6944/6944 [00:18<00:00, 383.08 uttr/s, accuracy=0.80, loss=0.86]\n",
            "Train: 100% 2000/2000 [02:13<00:00, 14.98 step/s, accuracy=0.69, loss=0.78, step=4e+4]\n",
            "Valid: 100% 6944/6944 [00:17<00:00, 389.79 uttr/s, accuracy=0.80, loss=0.87]\n",
            "Train:   0% 9/2000 [00:00<00:51, 38.88 step/s, accuracy=0.81, loss=0.74, step=4e+4]"
          ]
        },
        {
          "output_type": "stream",
          "name": "stdout",
          "text": [
            "Step 40000, best model saved. (accuracy=0.7959)\n"
          ]
        },
        {
          "output_type": "stream",
          "name": "stderr",
          "text": [
            "Train: 100% 2000/2000 [02:10<00:00, 15.38 step/s, accuracy=0.97, loss=0.24, step=42000]\n",
            "Valid: 100% 6944/6944 [00:17<00:00, 397.36 uttr/s, accuracy=0.81, loss=0.82]\n",
            "Train: 100% 2000/2000 [02:07<00:00, 15.63 step/s, accuracy=0.91, loss=0.40, step=44000]\n",
            "Valid: 100% 6944/6944 [00:17<00:00, 389.85 uttr/s, accuracy=0.80, loss=0.85]\n",
            "Train: 100% 2000/2000 [02:09<00:00, 15.47 step/s, accuracy=0.94, loss=0.43, step=46000]\n",
            "Valid: 100% 6944/6944 [00:17<00:00, 393.20 uttr/s, accuracy=0.81, loss=0.77]\n",
            "Train: 100% 2000/2000 [02:10<00:00, 15.31 step/s, accuracy=0.88, loss=0.42, step=48000]\n",
            "Valid: 100% 6944/6944 [00:17<00:00, 394.69 uttr/s, accuracy=0.81, loss=0.79]\n",
            "Train: 100% 2000/2000 [02:12<00:00, 15.08 step/s, accuracy=0.91, loss=0.35, step=5e+4]\n",
            "Valid: 100% 6944/6944 [00:18<00:00, 382.30 uttr/s, accuracy=0.82, loss=0.78]\n",
            "Train:   0% 7/2000 [00:00<01:03, 31.52 step/s, accuracy=0.78, loss=0.78, step=5e+4]"
          ]
        },
        {
          "output_type": "stream",
          "name": "stdout",
          "text": [
            "Step 50000, best model saved. (accuracy=0.8171)\n"
          ]
        },
        {
          "output_type": "stream",
          "name": "stderr",
          "text": [
            "Train: 100% 2000/2000 [02:11<00:00, 15.25 step/s, accuracy=0.88, loss=0.52, step=52000]\n",
            "Valid: 100% 6944/6944 [00:17<00:00, 390.28 uttr/s, accuracy=0.82, loss=0.75]\n",
            "Train: 100% 2000/2000 [02:15<00:00, 14.78 step/s, accuracy=1.00, loss=0.13, step=54000]\n",
            "Valid: 100% 6944/6944 [00:17<00:00, 390.83 uttr/s, accuracy=0.83, loss=0.73]\n",
            "Train: 100% 2000/2000 [02:08<00:00, 15.52 step/s, accuracy=0.91, loss=0.30, step=56000]\n",
            "Valid: 100% 6944/6944 [00:17<00:00, 396.22 uttr/s, accuracy=0.83, loss=0.69]\n",
            "Train: 100% 2000/2000 [02:10<00:00, 15.27 step/s, accuracy=0.94, loss=0.29, step=58000]\n",
            "Valid: 100% 6944/6944 [00:17<00:00, 386.51 uttr/s, accuracy=0.84, loss=0.65]\n",
            "Train: 100% 2000/2000 [02:15<00:00, 14.81 step/s, accuracy=0.94, loss=0.27, step=6e+4]\n",
            "Valid: 100% 6944/6944 [00:17<00:00, 404.04 uttr/s, accuracy=0.85, loss=0.65]\n",
            "Train:   0% 7/2000 [00:00<01:00, 32.81 step/s, accuracy=0.94, loss=0.28, step=6e+4]"
          ]
        },
        {
          "output_type": "stream",
          "name": "stdout",
          "text": [
            "Step 60000, best model saved. (accuracy=0.8461)\n"
          ]
        },
        {
          "output_type": "stream",
          "name": "stderr",
          "text": [
            "Train: 100% 2000/2000 [02:15<00:00, 14.78 step/s, accuracy=0.88, loss=0.36, step=62000]\n",
            "Valid: 100% 6944/6944 [00:17<00:00, 395.26 uttr/s, accuracy=0.84, loss=0.66]\n",
            "Train: 100% 2000/2000 [02:15<00:00, 14.72 step/s, accuracy=0.94, loss=0.27, step=64000]\n",
            "Valid: 100% 6944/6944 [00:17<00:00, 393.43 uttr/s, accuracy=0.85, loss=0.63]\n",
            "Train: 100% 2000/2000 [02:17<00:00, 14.54 step/s, accuracy=0.91, loss=0.28, step=66000]\n",
            "Valid: 100% 6944/6944 [00:17<00:00, 398.51 uttr/s, accuracy=0.86, loss=0.62]\n",
            "Train: 100% 2000/2000 [02:15<00:00, 14.75 step/s, accuracy=0.97, loss=0.24, step=68000]\n",
            "Valid: 100% 6944/6944 [00:16<00:00, 410.13 uttr/s, accuracy=0.86, loss=0.59]\n",
            "Train: 100% 2000/2000 [02:15<00:00, 14.77 step/s, accuracy=1.00, loss=0.08, step=7e+4]\n",
            "Valid: 100% 6944/6944 [00:17<00:00, 395.59 uttr/s, accuracy=0.86, loss=0.57]\n",
            "Train:   0% 6/2000 [00:00<01:12, 27.49 step/s, accuracy=0.91, loss=0.28, step=7e+4]"
          ]
        },
        {
          "output_type": "stream",
          "name": "stdout",
          "text": [
            "Step 70000, best model saved. (accuracy=0.8649)\n"
          ]
        },
        {
          "output_type": "stream",
          "name": "stderr",
          "text": [
            "Train: 100% 2000/2000 [02:18<00:00, 14.48 step/s, accuracy=0.97, loss=0.10, step=72000]\n",
            "Valid: 100% 6944/6944 [00:17<00:00, 406.46 uttr/s, accuracy=0.87, loss=0.55]\n",
            "Train: 100% 2000/2000 [02:15<00:00, 14.78 step/s, accuracy=0.97, loss=0.12, step=74000]\n",
            "Valid: 100% 6944/6944 [00:17<00:00, 405.94 uttr/s, accuracy=0.87, loss=0.55]\n",
            "Train: 100% 2000/2000 [02:17<00:00, 14.57 step/s, accuracy=0.91, loss=0.21, step=76000]\n",
            "Valid: 100% 6944/6944 [00:16<00:00, 408.49 uttr/s, accuracy=0.87, loss=0.55]\n",
            "Train: 100% 2000/2000 [02:15<00:00, 14.72 step/s, accuracy=1.00, loss=0.10, step=78000]\n",
            "Valid: 100% 6944/6944 [00:16<00:00, 412.56 uttr/s, accuracy=0.88, loss=0.52]\n",
            "Train: 100% 2000/2000 [02:16<00:00, 14.62 step/s, accuracy=0.97, loss=0.12, step=8e+4]\n",
            "Valid: 100% 6944/6944 [00:17<00:00, 408.13 uttr/s, accuracy=0.88, loss=0.51]\n",
            "Train:   0% 6/2000 [00:00<01:15, 26.39 step/s, accuracy=0.97, loss=0.08, step=8e+4]"
          ]
        },
        {
          "output_type": "stream",
          "name": "stdout",
          "text": [
            "Step 80000, best model saved. (accuracy=0.8844)\n"
          ]
        },
        {
          "output_type": "stream",
          "name": "stderr",
          "text": [
            "Train: 100% 2000/2000 [02:16<00:00, 14.64 step/s, accuracy=0.94, loss=0.13, step=82000]\n",
            "Valid: 100% 6944/6944 [00:15<00:00, 436.07 uttr/s, accuracy=0.88, loss=0.51]\n",
            "Train: 100% 2000/2000 [02:17<00:00, 14.56 step/s, accuracy=1.00, loss=0.06, step=84000]\n",
            "Valid: 100% 6944/6944 [00:16<00:00, 420.90 uttr/s, accuracy=0.89, loss=0.49]\n",
            "Train: 100% 2000/2000 [02:15<00:00, 14.71 step/s, accuracy=1.00, loss=0.05, step=86000]\n",
            "Valid: 100% 6944/6944 [00:16<00:00, 409.45 uttr/s, accuracy=0.89, loss=0.49]\n",
            "Train: 100% 2000/2000 [02:18<00:00, 14.43 step/s, accuracy=0.97, loss=0.13, step=88000]\n",
            "Valid: 100% 6944/6944 [00:17<00:00, 407.11 uttr/s, accuracy=0.89, loss=0.51]\n",
            "Train: 100% 2000/2000 [02:16<00:00, 14.63 step/s, accuracy=0.94, loss=0.22, step=9e+4]\n",
            "Valid: 100% 6944/6944 [00:16<00:00, 429.04 uttr/s, accuracy=0.89, loss=0.48]\n",
            "Train:   0% 8/2000 [00:00<00:54, 36.39 step/s, accuracy=1.00, loss=0.03, step=9e+4]"
          ]
        },
        {
          "output_type": "stream",
          "name": "stdout",
          "text": [
            "Step 90000, best model saved. (accuracy=0.8897)\n"
          ]
        },
        {
          "output_type": "stream",
          "name": "stderr",
          "text": [
            "Train: 100% 2000/2000 [02:12<00:00, 15.09 step/s, accuracy=0.97, loss=0.13, step=92000]\n",
            "Valid: 100% 6944/6944 [00:16<00:00, 417.49 uttr/s, accuracy=0.89, loss=0.47]\n",
            "Train: 100% 2000/2000 [02:11<00:00, 15.22 step/s, accuracy=1.00, loss=0.06, step=94000]\n",
            "Valid: 100% 6944/6944 [00:17<00:00, 400.72 uttr/s, accuracy=0.89, loss=0.47]\n",
            "Train: 100% 2000/2000 [02:12<00:00, 15.09 step/s, accuracy=0.91, loss=0.25, step=96000]\n",
            "Valid: 100% 6944/6944 [00:16<00:00, 413.87 uttr/s, accuracy=0.89, loss=0.47]\n",
            "Train: 100% 2000/2000 [02:12<00:00, 15.05 step/s, accuracy=1.00, loss=0.14, step=98000]\n",
            "Valid: 100% 6944/6944 [00:16<00:00, 423.02 uttr/s, accuracy=0.89, loss=0.48]\n",
            "Train: 100% 2000/2000 [02:13<00:00, 15.01 step/s, accuracy=0.97, loss=0.08, step=1e+5]\n",
            "Valid: 100% 6944/6944 [00:16<00:00, 409.31 uttr/s, accuracy=0.89, loss=0.50]\n",
            "Train:   0% 0/2000 [00:00<?, ? step/s]\n"
          ]
        },
        {
          "output_type": "stream",
          "name": "stdout",
          "text": [
            "Step 100000, best model saved. (accuracy=0.8934)\n"
          ]
        }
      ]
    },
    {
      "cell_type": "markdown",
      "source": [
        "## Plotting"
      ],
      "metadata": {
        "id": "LujR3Hv1VGBC"
      }
    },
    {
      "cell_type": "code",
      "source": [
        "import matplotlib.pyplot as plt\n",
        "from matplotlib.pyplot import figure\n",
        "\n",
        "\n",
        "gap, train_accus, valid_accus = accus_records.get_records_for_plot()\n",
        "print(train_accus[-1], valid_accus[-1])\n",
        "\n",
        "figure(figsize=(6, 4))\n",
        "x = [gap * (i+1) for i in range(len(valid_accus))]\n",
        "plt.plot(x, train_accus, c=\"tab:red\", label=\"train\")\n",
        "plt.plot(x, valid_accus, c=\"tab:cyan\", label=\"valid\")\n",
        "plt.ylim(0.0, 1.0)\n",
        "plt.xlabel(\"steps\")\n",
        "plt.ylabel(\"accuracies\")\n",
        "plt.legend()\n",
        "plt.show()"
      ],
      "metadata": {
        "colab": {
          "base_uri": "https://localhost:8080/",
          "height": 410
        },
        "id": "t-EwK8igVNCy",
        "outputId": "a821de37-8905-4a12-d786-d6aac8385a12"
      },
      "execution_count": 11,
      "outputs": [
        {
          "output_type": "stream",
          "name": "stdout",
          "text": [
            "0.9741959251665813 0.8870967741935484\n"
          ]
        },
        {
          "output_type": "display_data",
          "data": {
            "text/plain": [
              "<Figure size 600x400 with 1 Axes>"
            ],
            "image/png": "[encoded data removed]"
          },
          "metadata": {}
        }
      ]
    },
    {
      "cell_type": "markdown",
      "metadata": {
        "id": "0R2rx3AyHpQ-"
      },
      "source": [
        "# Inference"
      ]
    },
    {
      "cell_type": "markdown",
      "metadata": {
        "id": "pSuI3WY9Fz78"
      },
      "source": [
        "## Dataset of inference"
      ]
    },
    {
      "cell_type": "code",
      "metadata": {
        "id": "4evns0055Dsx"
      },
      "source": [
        "import os\n",
        "import json\n",
        "import torch\n",
        "from pathlib import Path\n",
        "from torch.utils.data import Dataset\n",
        "\n",
        "\n",
        "class InferenceDataset(Dataset):\n",
        "  def __init__(self, data_dir):\n",
        "    testdata_path = Path(data_dir) / \"testdata.json\"\n",
        "    metadata = json.load(testdata_path.open())\n",
        "    self.data_dir = data_dir\n",
        "    self.data = metadata[\"utterances\"]\n",
        "\n",
        "  def __len__(self):\n",
        "    return len(self.data)\n",
        "\n",
        "  def __getitem__(self, index):\n",
        "    utterance = self.data[index]\n",
        "    feat_path = utterance[\"feature_path\"]\n",
        "    mel = torch.load(os.path.join(self.data_dir, feat_path))\n",
        "\n",
        "    return feat_path, mel\n",
        "\n",
        "\n",
        "def inference_collate_batch(batch):\n",
        "  \"\"\"Collate a batch of data.\"\"\"\n",
        "  feat_paths, mels = zip(*batch)\n",
        "\n",
        "  return feat_paths, torch.stack(mels)\n"
      ],
      "execution_count": null,
      "outputs": []
    },
    {
      "cell_type": "markdown",
      "metadata": {
        "id": "oAinHBG1GIWv"
      },
      "source": [
        "## Main funcrion of Inference"
      ]
    },
    {
      "cell_type": "code",
      "metadata": {
        "id": "yQaTt7VDHoRI"
      },
      "source": [
        "import json\n",
        "import csv\n",
        "from pathlib import Path\n",
        "from tqdm.notebook import tqdm\n",
        "\n",
        "import torch\n",
        "from torch.utils.data import DataLoader\n",
        "\n",
        "def parse_args():\n",
        "  \"\"\"arguments\"\"\"\n",
        "  config = {\n",
        "    \"data_dir\": \"./Dataset\",\n",
        "    \"model_path\": \"./model.ckpt\",\n",
        "    \"output_path\": \"./output.csv\",\n",
        "  }\n",
        "\n",
        "  return config\n",
        "\n",
        "\n",
        "def main(\n",
        "  data_dir,\n",
        "  model_path,\n",
        "  output_path,\n",
        "):\n",
        "  \"\"\"Main function.\"\"\"\n",
        "  device = torch.device(\"cuda\" if torch.cuda.is_available() else \"cpu\")\n",
        "  print(f\"[Info]: Use {device} now!\")\n",
        "\n",
        "  mapping_path = Path(data_dir) / \"mapping.json\"\n",
        "  mapping = json.load(mapping_path.open())\n",
        "\n",
        "  dataset = InferenceDataset(data_dir)\n",
        "  dataloader = DataLoader(\n",
        "    dataset,\n",
        "    batch_size=1,\n",
        "    shuffle=False,\n",
        "    drop_last=False,\n",
        "    num_workers=8,\n",
        "    collate_fn=inference_collate_batch,\n",
        "  )\n",
        "  print(f\"[Info]: Finish loading data!\",flush = True)\n",
        "\n",
        "  speaker_num = len(mapping[\"id2speaker\"])\n",
        "  model = Classifier(n_spks=speaker_num).to(device)\n",
        "  model.load_state_dict(torch.load(model_path))\n",
        "  model.eval()\n",
        "  print(f\"[Info]: Finish creating model!\",flush = True)\n",
        "\n",
        "  results = [[\"Id\", \"Category\"]]\n",
        "  for feat_paths, mels in tqdm(dataloader):\n",
        "    with torch.no_grad():\n",
        "      mels = mels.to(device)\n",
        "      outs = model(mels)\n",
        "      preds = outs.argmax(1).cpu().numpy()\n",
        "      for feat_path, pred in zip(feat_paths, preds):\n",
        "        results.append([feat_path, mapping[\"id2speaker\"][str(pred)]])\n",
        "\n",
        "  with open(output_path, 'w', newline='') as csvfile:\n",
        "    writer = csv.writer(csvfile)\n",
        "    writer.writerows(results)\n",
        "\n",
        "\n",
        "if __name__ == \"__main__\":\n",
        "  main(**parse_args())\n"
      ],
      "execution_count": null,
      "outputs": []
    }
  ]
}